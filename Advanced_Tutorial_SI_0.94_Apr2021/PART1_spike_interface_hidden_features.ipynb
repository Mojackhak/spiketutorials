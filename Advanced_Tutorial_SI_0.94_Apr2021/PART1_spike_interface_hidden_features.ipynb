{
 "cells": [
  {
   "cell_type": "markdown",
   "id": "40f56ddc",
   "metadata": {},
   "source": [
    "# SpikeInterface Advanced Tutorial - April 2022\n",
    "\n",
    "## PART1: SpikeInterface Hidden Features\n",
    "\n",
    "\n",
    "### Topics\n",
    "\n",
    "1. ProbeInterface: probe handling and more\n",
    "2. Working with segments and recordings\n",
    "3. Lazy processing explained\n",
    "4. WaveformExtractor and WaveformExtractorExtension\n",
    "5. Parallelization - working with job tools\n",
    "6. Save formats: binary / memory / zarr"
   ]
  },
  {
   "cell_type": "markdown",
   "id": "7a37b37d",
   "metadata": {},
   "source": [
    "## 1) ProbeInterface: probe handling and more\n",
    "\n",
    "\n",
    "[`ProbeInterface`](https://github.com/SpikeInterface/probeinterface) is a SpikeInterface twin project to abstract and describe probe objects (you can read more about it [here](https://doi.org/10.3389/fninf.2022.823056)).\n",
    "\n",
    "It provides several ways to create, read, and download probe information. It goes without saying...it nicely integrates with SpikeInterface! \n",
    "\n",
    "Here's how:"
   ]
  },
  {
   "cell_type": "code",
   "execution_count": null,
   "id": "4daac85f",
   "metadata": {},
   "outputs": [],
   "source": [
    "import spikeinterface.full as si\n",
    "import probeinterface as pi\n",
    "\n",
    "import numpy as np\n",
    "import matplotlib.pyplot as plt\n",
    "from pathlib import Path\n",
    "\n",
    "%matplotlib widget"
   ]
  },
  {
   "cell_type": "markdown",
   "id": "c20a7535",
   "metadata": {},
   "source": [
    "### 1.1 Create a probe from scratch"
   ]
  },
  {
   "cell_type": "code",
   "execution_count": null,
   "id": "6b4a6a13",
   "metadata": {},
   "outputs": [],
   "source": [
    "num_channels = 32\n",
    "\n",
    "positions = np.zeros((num_channels, 2))\n",
    "radius = 100\n",
    "for i in range(num_channels):\n",
    "    theta = i / num_channels * 2*np.pi \n",
    "    x = np.cos(theta) * radius\n",
    "    y = np.sin(theta) * radius\n",
    "    positions[i] = [x, y]\n",
    "    \n",
    "probe = pi.Probe(ndim=2)"
   ]
  },
  {
   "cell_type": "code",
   "execution_count": null,
   "id": "5c21f3ee",
   "metadata": {},
   "outputs": [],
   "source": [
    "probe.set_contacts(positions, shapes=\"rect\", shape_params={\"width\": 4, \"height\": 10})\n",
    "probe.set_contact_ids([f\"Ch{i}\" for i in range(num_channels)])\n",
    "probe.create_auto_shape()"
   ]
  },
  {
   "cell_type": "code",
   "execution_count": null,
   "id": "4fa1e938",
   "metadata": {},
   "outputs": [],
   "source": [
    "pi.plotting.plot_probe(probe, with_contact_id=True)"
   ]
  },
  {
   "cell_type": "code",
   "execution_count": null,
   "id": "2dc0e50f",
   "metadata": {},
   "outputs": [],
   "source": [
    "probe.to_dataframe(complete=True)"
   ]
  },
  {
   "cell_type": "markdown",
   "id": "4803285f",
   "metadata": {},
   "source": [
    "### Load probe to recording"
   ]
  },
  {
   "cell_type": "code",
   "execution_count": null,
   "id": "97bdc3a9",
   "metadata": {},
   "outputs": [],
   "source": [
    "rec, _ = si.toy_example(num_channels=num_channels)"
   ]
  },
  {
   "cell_type": "code",
   "execution_count": null,
   "id": "d31431d1",
   "metadata": {},
   "outputs": [],
   "source": [
    "rec.set_probe(probe)"
   ]
  },
  {
   "cell_type": "markdown",
   "id": "60f3b1db",
   "metadata": {},
   "source": [
    "We have to add the wiring!!!"
   ]
  },
  {
   "cell_type": "code",
   "execution_count": null,
   "id": "d22be54d",
   "metadata": {},
   "outputs": [],
   "source": [
    "probe.set_device_channel_indices(np.random.permutation(num_channels))"
   ]
  },
  {
   "cell_type": "code",
   "execution_count": null,
   "id": "ca2a9348",
   "metadata": {},
   "outputs": [],
   "source": [
    "probe.to_dataframe(complete=True)"
   ]
  },
  {
   "cell_type": "code",
   "execution_count": null,
   "id": "803d415e",
   "metadata": {},
   "outputs": [],
   "source": [
    "rec.set_probe(probe, in_place=True)"
   ]
  },
  {
   "cell_type": "code",
   "execution_count": null,
   "id": "523e36b3",
   "metadata": {},
   "outputs": [],
   "source": [
    "probe_loaded = rec.get_probe()\n",
    "probe_loaded.to_dataframe(complete=True)"
   ]
  },
  {
   "cell_type": "markdown",
   "id": "bafe43b0",
   "metadata": {},
   "source": [
    "`device_channel_indices` are internally sorted!"
   ]
  },
  {
   "cell_type": "code",
   "execution_count": null,
   "id": "735962ae",
   "metadata": {},
   "outputs": [],
   "source": [
    "rec.get_channel_ids()"
   ]
  },
  {
   "cell_type": "code",
   "execution_count": null,
   "id": "b261c74b",
   "metadata": {},
   "outputs": [],
   "source": [
    "si.plot_probe_map(rec, with_channel_ids=True)"
   ]
  },
  {
   "cell_type": "markdown",
   "id": "c9652915",
   "metadata": {},
   "source": [
    "Now when we slice the recording, the probe is also sliced accordingly:"
   ]
  },
  {
   "cell_type": "code",
   "execution_count": null,
   "id": "bd9c6b9e",
   "metadata": {},
   "outputs": [],
   "source": [
    "rec_slice = rec.channel_slice(channel_ids=rec.channel_ids[::4])\n",
    "print(rec_slice.channel_ids)\n",
    "\n",
    "si.plot_probe_map(rec_slice, with_channel_ids=True)"
   ]
  },
  {
   "cell_type": "markdown",
   "id": "e3c461cc",
   "metadata": {},
   "source": [
    "### 1.2 Download probe from probe library"
   ]
  },
  {
   "cell_type": "markdown",
   "id": "d1c8c7f4",
   "metadata": {},
   "source": [
    "We can also download probes from the [probeinterface library](https://gin.g-node.org/spikeinterface/probeinterface_library)\n",
    "\n",
    "\n",
    "First let's get the binary data from [Zenodo](https://zenodo.org/record/4657314) and load the recording:"
   ]
  },
  {
   "cell_type": "code",
   "execution_count": null,
   "id": "59aa008d",
   "metadata": {},
   "outputs": [],
   "source": [
    "# file path\n",
    "recording_file = 'cambridge_data.bin'\n",
    "\n",
    "# parameters to load the bin/dat format\n",
    "num_channels = 64\n",
    "sampling_frequency = 20000\n",
    "gain_to_uV = 0.195\n",
    "offset_to_uV = 0\n",
    "dtype=\"int16\"\n",
    "time_axis = 1"
   ]
  },
  {
   "cell_type": "code",
   "execution_count": null,
   "id": "35b71818",
   "metadata": {},
   "outputs": [],
   "source": [
    "recording_cambridge = si.read_binary(recording_file, num_chan=num_channels, sampling_frequency=sampling_frequency,\n",
    "                                     dtype=dtype, gain_to_uV=gain_to_uV, offset_to_uV=offset_to_uV, \n",
    "                                     time_axis=time_axis)\n"
   ]
  },
  {
   "cell_type": "code",
   "execution_count": null,
   "id": "01a34176",
   "metadata": {},
   "outputs": [],
   "source": [
    "manufacturer = 'cambridgeneurotech'\n",
    "probe_name = 'ASSY-156-P-1'\n",
    "\n",
    "probe_cambridge = pi.get_probe(manufacturer, probe_name)\n",
    "print(probe_cambridge)"
   ]
  },
  {
   "cell_type": "markdown",
   "id": "053f2743",
   "metadata": {},
   "source": [
    "For the wiring, we can use automatic pathways that describe several widely used connectors + headstages:"
   ]
  },
  {
   "cell_type": "code",
   "execution_count": null,
   "id": "157ffdca",
   "metadata": {},
   "outputs": [],
   "source": [
    "probe_cambridge.to_dataframe(complete=True)"
   ]
  },
  {
   "cell_type": "code",
   "execution_count": null,
   "id": "a3b8e075",
   "metadata": {},
   "outputs": [],
   "source": [
    "pi.get_available_pathways()"
   ]
  },
  {
   "cell_type": "code",
   "execution_count": null,
   "id": "f1736776",
   "metadata": {},
   "outputs": [],
   "source": [
    "probe_cambridge.wiring_to_device('ASSY-156>RHD2164')\n",
    "probe_cambridge.to_dataframe(complete=True)"
   ]
  },
  {
   "cell_type": "code",
   "execution_count": null,
   "id": "0de77da0",
   "metadata": {},
   "outputs": [],
   "source": [
    "pi.plotting.plot_probe(probe_cambridge)"
   ]
  },
  {
   "cell_type": "code",
   "execution_count": null,
   "id": "6537435f",
   "metadata": {},
   "outputs": [],
   "source": [
    "recording_cambridge.set_probe(probe_cambridge, group_mode=\"by_shank\", in_place=True)"
   ]
  },
  {
   "cell_type": "code",
   "execution_count": null,
   "id": "5347433d",
   "metadata": {},
   "outputs": [],
   "source": [
    "si.plot_probe_map(recording_cambridge, with_channel_ids=True)"
   ]
  },
  {
   "cell_type": "markdown",
   "id": "50936243",
   "metadata": {},
   "source": [
    "We can now easily split the recording by groups:"
   ]
  },
  {
   "cell_type": "code",
   "execution_count": null,
   "id": "ccf10d63",
   "metadata": {},
   "outputs": [],
   "source": [
    "rec_split = recording_cambridge.split_by(\"group\")\n",
    "print(rec_split)"
   ]
  },
  {
   "cell_type": "code",
   "execution_count": null,
   "id": "4bf72ac6",
   "metadata": {},
   "outputs": [],
   "source": [
    "si.plot_probe_map(rec_split[0], with_channel_ids=True)"
   ]
  },
  {
   "cell_type": "markdown",
   "id": "c617068d",
   "metadata": {},
   "source": [
    "### 1.3 Automatically load the probe object\n",
    "\n",
    "\n",
    "Several SI `read_***` functions automatically use `probeinterface` to load the respective probe. \n",
    "\n",
    "These include:\n",
    "\n",
    "- SpikeGLX\n",
    "- Open Ephys (only using Neuropix-PXI plugin)\n",
    "- MEArec\n",
    "- Maxwell\n",
    "- 3Brain\n",
    "- NWB\n",
    "\n",
    "Let's see some examples from the [GIN ephy_testing_data](https://gin.g-node.org/NeuralEnsemble/ephy_testing_data) library:"
   ]
  },
  {
   "cell_type": "code",
   "execution_count": null,
   "id": "b6274a12",
   "metadata": {},
   "outputs": [],
   "source": [
    "local_ephy_data = Path(\"/home/alessio/Documents/data/gin/ephy_testing_data\")\n",
    "\n",
    "spikeglx1_folder = local_ephy_data / \"spikeglx\" / \"Noise4Sam_g0\"\n",
    "spikeglx2_folder = Path(\"/home/alessio/Documents/data/spikeglx/np2/M136_2021_12_06\")\n",
    "\n",
    "oe_npix1_folder = Path(\"/home/alessio/Documents/data/allen/npix-open-ephys/605068_2022-02-28_17-00-14/\")\n",
    "oe_npix2_folder = Path(\"/home/alessio/Documents/data/allen/npix-open-ephys/595262_2022-02-21_15-18-07\")\n",
    "\n",
    "\n",
    "mearec_file = local_ephy_data / \"mearec\" / \"mearec_test_10s.h5\"\n",
    "\n",
    "maxwell_file = local_ephy_data / \"maxwell\" / \"MaxOne_data/Network/000010/data.raw.h5\"\n",
    "\n",
    "threebrain_file = local_ephy_data / \"biocam\" / \"biocam_hw3.0_fw1.6.brw\""
   ]
  },
  {
   "cell_type": "code",
   "execution_count": null,
   "id": "dc39149b",
   "metadata": {
    "scrolled": false
   },
   "outputs": [],
   "source": [
    "rec_spikeglx1 = si.read_spikeglx(spikeglx1_folder, stream_id=\"imec0.ap\")\n",
    "w = si.plot_probe_map(rec_spikeglx1)\n",
    "w.ax.set_xlim(-100, 100)\n",
    "w.ax.set_ylim(300, 600)\n",
    "w.ax.set_title(\"SpikeGLX - NP1.0\")\n",
    "\n",
    "\n",
    "\n",
    "rec_spikeglx2 = si.read_spikeglx(spikeglx2_folder, stream_id=\"imec0.ap\")\n",
    "w = si.plot_probe_map(rec_spikeglx2)\n",
    "w.ax.set_xlim(-100, 100)\n",
    "w.ax.set_ylim(3000, 3300)\n",
    "w.ax.set_title(\"SpikeGLX - NP2.0\")\n",
    "\n",
    "\n",
    "rec_oe1 = si.read_openephys(oe_npix1_folder, stream_id=\"0\")\n",
    "w = si.plot_probe_map(rec_oe1)\n",
    "w.ax.set_xlim(-100, 100)\n",
    "w.ax.set_ylim(300, 600)\n",
    "w.ax.set_title(\"Open Ephys - NP1.0\")\n",
    "\n",
    "\n",
    "rec_oe2 = si.read_openephys(oe_npix2_folder, stream_id=\"0\")\n",
    "w = si.plot_probe_map(rec_oe2)\n",
    "w.ax.set_xlim(-100, 100)\n",
    "w.ax.set_ylim(300, 600)\n",
    "w.ax.set_title(\"Open Ephys - NP2.0\")\n",
    "\n",
    "\n",
    "rec_mearec, _ = si.read_mearec(mearec_file)\n",
    "w = si.plot_probe_map(rec_mearec)\n",
    "w.ax.set_title(\"MEArec\")\n",
    "\n",
    "\n",
    "rec_maxwell = si.read_maxwell(maxwell_file)\n",
    "w = si.plot_probe_map(rec_maxwell)\n",
    "w.ax.set_title(\"Maxwell - MaxOne\")\n",
    "\n",
    "rec_biocam = si.read_biocam(threebrain_file)\n",
    "w = si.plot_probe_map(rec_biocam)\n",
    "w.ax.set_title(\"3Brain - Biocam\")"
   ]
  },
  {
   "cell_type": "markdown",
   "id": "09d74c04",
   "metadata": {},
   "source": [
    "## 2) Working with \"segments\" and \"recordings\"\n",
    "\n",
    "A **RECORDING** represent an acquisition from the same session, which basically means that the underlying traces/spiking activity can be assumed to be stationary and channel ids/sampling frequency/dtype the same.\n",
    "\n",
    "A recording can be made of multiple segment. A **SEGMENT** represents a piece of continuous traces, with a certain number of samples. For example, you hit play/pause multiple times for different conditions/experiments/trials.\n",
    "\n",
    "In this section we'll quickly cover some utils to manipulate segments and recordings:\n"
   ]
  },
  {
   "cell_type": "code",
   "execution_count": null,
   "id": "79b8c88b",
   "metadata": {},
   "outputs": [],
   "source": [
    "oe_folder1 = \"/home/alessio/Documents/data/allen/npix-open-ephys/605068_2022-03-02_14-53-18\"\n",
    "oe_folder2 = \"/home/alessio/Documents/data/allen/npix-open-ephys/605068_2022-02-28_17-00-14/\"\n",
    "oe_folder3 = \"/home/alessio/Documents/data/allen/npix-open-ephys/605641_2022-03-10_15-53-45/\""
   ]
  },
  {
   "cell_type": "code",
   "execution_count": null,
   "id": "58859fd3",
   "metadata": {},
   "outputs": [],
   "source": [
    "rec_oe1 = si.read_openephys(folder_path=oe_folder1, stream_id=\"0\")\n",
    "rec_oe2 = si.read_openephys(folder_path=oe_folder2, stream_id=\"0\")\n",
    "rec_oe3 = si.read_openephys(folder_path=oe_folder3, stream_id=\"0\")\n",
    "\n",
    "print(rec_oe1)\n",
    "print(rec_oe2)\n",
    "print(rec_oe3)"
   ]
  },
  {
   "cell_type": "markdown",
   "id": "454ba76a",
   "metadata": {},
   "source": [
    "Let's assume these recordings are from the same animal/same session, so we want to concatenate them:"
   ]
  },
  {
   "cell_type": "code",
   "execution_count": null,
   "id": "36bb8a79",
   "metadata": {},
   "outputs": [],
   "source": [
    "# append_recordings() appends  the segments\n",
    "rec_append = si.append_recordings([rec_oe1, rec_oe2, rec_oe3])\n",
    "print(rec_append)\n",
    "\n",
    "# concatenate_recordings() concatenate the segments into a single segment\n",
    "rec_concat = si.concatenate_recordings([rec_oe1, rec_oe2, rec_oe3])\n",
    "print(rec_concat)"
   ]
  },
  {
   "cell_type": "markdown",
   "id": "c587e46e",
   "metadata": {},
   "source": [
    "**IMPORTANT**: many functions require a `segment_index` to be specified if a multi-segment object is passed!"
   ]
  },
  {
   "cell_type": "code",
   "execution_count": null,
   "id": "e92ca450",
   "metadata": {},
   "outputs": [],
   "source": [
    "print(rec_append.get_num_samples())"
   ]
  },
  {
   "cell_type": "code",
   "execution_count": null,
   "id": "a9fd242e",
   "metadata": {},
   "outputs": [],
   "source": [
    "for segment_index in range(rec_append.get_num_segments()):\n",
    "    print(f\"Num samples segment {segment_index}: {rec_append.get_num_samples(segment_index=segment_index)}\")"
   ]
  },
  {
   "cell_type": "markdown",
   "id": "37ac35ba",
   "metadata": {},
   "source": [
    "Also `SortingExtractor` objects can have multiple segments. For example, let's create one with 5 segments:"
   ]
  },
  {
   "cell_type": "code",
   "execution_count": null,
   "id": "84f33f26",
   "metadata": {},
   "outputs": [],
   "source": [
    "_, sort_multi = si.toy_example(num_segments=5)\n",
    "print(sort_multi)"
   ]
  },
  {
   "cell_type": "code",
   "execution_count": null,
   "id": "968edaa7",
   "metadata": {},
   "outputs": [],
   "source": [
    "sort_multi.get_unit_spike_train(unit_id=sort_multi.unit_ids[0])"
   ]
  },
  {
   "cell_type": "code",
   "execution_count": null,
   "id": "90c884dd",
   "metadata": {},
   "outputs": [],
   "source": [
    "for segment_index in range(sort_multi.get_num_segments()):\n",
    "    print(f\"Num spikes segment {segment_index} unit {sort_multi.unit_ids[0]}: \"\n",
    "          f\"{len(sort_multi.get_unit_spike_train(unit_id=sort_multi.unit_ids[0], segment_index=segment_index))}\")"
   ]
  },
  {
   "cell_type": "markdown",
   "id": "099b06d5",
   "metadata": {},
   "source": [
    "To select single segments from a recording one can:"
   ]
  },
  {
   "cell_type": "code",
   "execution_count": null,
   "id": "b956e35f",
   "metadata": {},
   "outputs": [],
   "source": [
    "rec_segments = si.select_segment_recording(rec_append, segment_indices=[1, 2])\n",
    "print(rec_segments)"
   ]
  },
  {
   "cell_type": "markdown",
   "id": "37c86f32",
   "metadata": {},
   "source": [
    "Moving forward, we want all objects to support multi-semgment object, so keep them in mind when developing and always add tests for multi-segment objects!"
   ]
  },
  {
   "cell_type": "markdown",
   "id": "f73ddeda",
   "metadata": {},
   "source": [
    "## 3) Lazy processing explained\n",
    "\n",
    "This is just to recap that all processing objects are **lazy** in SI, meaning that NO OPERATION is performed until the `get_traces()` method is called."
   ]
  },
  {
   "cell_type": "code",
   "execution_count": null,
   "id": "5b79d909",
   "metadata": {},
   "outputs": [],
   "source": [
    "rec = rec_oe1\n",
    "print(rec)"
   ]
  },
  {
   "cell_type": "code",
   "execution_count": null,
   "id": "c0ac67bb",
   "metadata": {},
   "outputs": [],
   "source": [
    "rec_f = si.bandpass_filter(rec)\n",
    "print(rec_f)\n",
    "\n",
    "rec_cmr = si.common_reference(rec_f, reference=\"local\", operator=\"median\")\n",
    "print(rec_cmr)"
   ]
  },
  {
   "cell_type": "markdown",
   "id": "2427aa44",
   "metadata": {},
   "source": [
    "Now all these operations will be performed on 10 seconds, 384 channels"
   ]
  },
  {
   "cell_type": "code",
   "execution_count": null,
   "id": "d708d0dd",
   "metadata": {},
   "outputs": [],
   "source": [
    "fig, axs = plt.subplots(nrows=3, figsize=(10, 7), sharex=True, sharey=True)\n",
    "\n",
    "si.plot_timeseries(rec, segment_index=0, time_range=[100, 110], ax=axs[0])\n",
    "si.plot_timeseries(rec_f, segment_index=0, time_range=[100, 110], ax=axs[1])\n",
    "si.plot_timeseries(rec_cmr, segment_index=0, time_range=[100, 110], ax=axs[2])"
   ]
  },
  {
   "cell_type": "code",
   "execution_count": null,
   "id": "0f7ae3c9",
   "metadata": {
    "scrolled": true
   },
   "outputs": [],
   "source": [
    "rec_cmr.to_dict()"
   ]
  },
  {
   "cell_type": "markdown",
   "id": "14b250c4",
   "metadata": {},
   "source": [
    "More about these in the next tutorial!"
   ]
  },
  {
   "cell_type": "markdown",
   "id": "65857f92",
   "metadata": {},
   "source": [
    "## 4) WaveformExtractor and WaveformExtractorExtension\n",
    "\n",
    "The `WaveformExtractor` object is the base object for all the post-processing. It is used, among others, to compute PCA projections, quality metrics, extract spike amplitudes, and more. These are all `WaveformExtractorExtension` objects. \n",
    "\n",
    "Let's see how they work:"
   ]
  },
  {
   "cell_type": "code",
   "execution_count": null,
   "id": "2e7f3115",
   "metadata": {},
   "outputs": [],
   "source": [
    "# load some simulated MEArec data\n",
    "rec, sort = si.read_mearec(\"/home/alessio/Documents/data/mearec/recordings/recording_Neuropixels-128_900_int16.h5\")"
   ]
  },
  {
   "cell_type": "code",
   "execution_count": null,
   "id": "fab2e7df",
   "metadata": {},
   "outputs": [],
   "source": [
    "wt = si.plot_timeseries(rec, time_range=[100, 110], channel_ids=rec.channel_ids[:20], mode=\"line\")\n",
    "wr = si.plot_rasters(sort)\n",
    "wr.ax.set_xlim(100, 110)"
   ]
  },
  {
   "cell_type": "markdown",
   "id": "6ca93d4d",
   "metadata": {},
   "source": [
    "Waveforms can be extracted with the `si.extract_waveforms()` function and they are persistent to file. We have to specify an `output_folder` where they are stored:"
   ]
  },
  {
   "cell_type": "code",
   "execution_count": null,
   "id": "b07be0c1",
   "metadata": {},
   "outputs": [],
   "source": [
    "si.extract_waveforms?"
   ]
  },
  {
   "cell_type": "code",
   "execution_count": null,
   "id": "730430b6",
   "metadata": {},
   "outputs": [],
   "source": [
    "we = si.extract_waveforms(rec, sort, folder=\"mearec_wf\", ms_before=1., ms_after=3.,\n",
    "                          n_jobs=20, progress_bar=True, chunk_duration=\"1s\")"
   ]
  },
  {
   "cell_type": "markdown",
   "id": "1aa66c69",
   "metadata": {},
   "source": [
    "It is much faster than before (a few seconds for 15 min recording / 128 channels!)"
   ]
  },
  {
   "cell_type": "code",
   "execution_count": null,
   "id": "09df940d",
   "metadata": {},
   "outputs": [],
   "source": [
    "!ls mearec_wf/"
   ]
  },
  {
   "cell_type": "code",
   "execution_count": null,
   "id": "7293e175",
   "metadata": {},
   "outputs": [],
   "source": [
    "!ls mearec_wf/waveforms/"
   ]
  },
  {
   "cell_type": "markdown",
   "id": "1052ad77",
   "metadata": {},
   "source": [
    "Now let's compute spike amplitudes:"
   ]
  },
  {
   "cell_type": "code",
   "execution_count": null,
   "id": "78ab6f40",
   "metadata": {},
   "outputs": [],
   "source": [
    "amplitudes = si.compute_spike_amplitudes(we, outputs=\"by_unit\", n_jobs=20, progress_bar=True, chunk_duration=\"1s\")"
   ]
  },
  {
   "cell_type": "code",
   "execution_count": null,
   "id": "bec21377",
   "metadata": {},
   "outputs": [],
   "source": [
    "# return is multi-segment (in this case one segment)\n",
    "len(amplitudes)"
   ]
  },
  {
   "cell_type": "code",
   "execution_count": null,
   "id": "8ae131b2",
   "metadata": {},
   "outputs": [],
   "source": [
    "plt.figure()\n",
    "_ = plt.hist(amplitudes[0][sort.unit_ids[0]], bins=30)"
   ]
  },
  {
   "cell_type": "code",
   "execution_count": null,
   "id": "ca3e2b3c",
   "metadata": {},
   "outputs": [],
   "source": [
    "!ls mearec_wf/"
   ]
  },
  {
   "cell_type": "markdown",
   "id": "19acfeeb",
   "metadata": {},
   "source": [
    "Now there is a new `spike_amplitudes` folder with the computed amplitudes."
   ]
  },
  {
   "cell_type": "code",
   "execution_count": null,
   "id": "ab63e590",
   "metadata": {},
   "outputs": [],
   "source": [
    "qm = si.compute_quality_metrics(we)\n",
    "qm"
   ]
  },
  {
   "cell_type": "code",
   "execution_count": null,
   "id": "ef86a5d5",
   "metadata": {},
   "outputs": [],
   "source": [
    "we.get_available_extension_names()"
   ]
  },
  {
   "cell_type": "code",
   "execution_count": null,
   "id": "71dba5d7",
   "metadata": {},
   "outputs": [],
   "source": [
    "amp_object = we.load_extension(\"spike_amplitudes\")\n",
    "qm_object = we.load_extension(\"quality_metrics\")\n",
    "\n",
    "print(amp_object)\n",
    "print(qm_object)"
   ]
  },
  {
   "cell_type": "markdown",
   "id": "2fe54d2c",
   "metadata": {},
   "source": [
    "Some nice features of the extension classes:\n",
    "\n",
    "- If we reload the `WaveformExtractor` from folder, extensions are loaded too\n",
    "- If we `select_units()` from the `WaveformExtractor` object (e.g. autocuration), extension also only copy the data relative to the selected units\n",
    "- Extensions add new widgets to the `spikeinterface-gui`"
   ]
  },
  {
   "cell_type": "code",
   "execution_count": null,
   "id": "d6d366d7",
   "metadata": {},
   "outputs": [],
   "source": [
    "# reload waveforms and extension\n",
    "we_loaded = si.WaveformExtractor.load_from_folder(\"mearec_wf/\")\n",
    "we_loaded.get_available_extension_names()"
   ]
  },
  {
   "cell_type": "code",
   "execution_count": null,
   "id": "c29ee56b",
   "metadata": {},
   "outputs": [],
   "source": [
    "# select units from waveform extractor\n",
    "we_selected = we_loaded.select_units(sort.unit_ids[::10], new_folder=\"mearec_wf_selected\")\n",
    "qm_selected = we_selected.load_extension(\"quality_metrics\")\n",
    "qm_selected.get_metrics()"
   ]
  },
  {
   "cell_type": "code",
   "execution_count": 1,
   "id": "01a2d0f8",
   "metadata": {},
   "outputs": [
    {
     "name": "stdout",
     "output_type": "stream",
     "text": [
      "Found invalid metadata in lib /home/alessio/anaconda3/envs/si/plugins/platforms/libqeglfs.so: Invalid metadata version\r\n",
      "Found invalid metadata in lib /home/alessio/anaconda3/envs/si/plugins/platforms/libqminimal.so: Invalid metadata version\r\n",
      "Found invalid metadata in lib /home/alessio/anaconda3/envs/si/plugins/platforms/libqminimalegl.so: Invalid metadata version\r\n",
      "Found invalid metadata in lib /home/alessio/anaconda3/envs/si/plugins/platforms/libqoffscreen.so: Invalid metadata version\r\n",
      "Found invalid metadata in lib /home/alessio/anaconda3/envs/si/plugins/platforms/libqvnc.so: Invalid metadata version\r\n",
      "Found invalid metadata in lib /home/alessio/anaconda3/envs/si/plugins/platforms/libqxcb.so: Invalid metadata version\r\n",
      "qt.qpa.plugin: Could not find the Qt platform plugin \"xcb\" in \"\"\r\n",
      "This application failed to start because no Qt platform plugin could be initialized. Reinstalling the application may fix this problem.\r\n",
      "\r\n"
     ]
    }
   ],
   "source": [
    "# run si-gui\n",
    "!sigui mearec_wf/"
   ]
  },
  {
   "cell_type": "markdown",
   "id": "01a4ef3f",
   "metadata": {},
   "source": [
    "## 5) Parallelization - working with job tools"
   ]
  },
  {
   "cell_type": "code",
   "execution_count": null,
   "id": "c979dbf6",
   "metadata": {},
   "outputs": [],
   "source": [
    "# job kwargs - ChunkProcessExecutor\n",
    "\n",
    "# find ptp of traces"
   ]
  },
  {
   "cell_type": "markdown",
   "id": "807cbc5c",
   "metadata": {},
   "source": [
    "## 6)  Save formats: binary / memory / zarr"
   ]
  }
 ],
 "metadata": {
  "kernelspec": {
   "display_name": "Python 3 (ipykernel)",
   "language": "python",
   "name": "python3"
  },
  "language_info": {
   "codemirror_mode": {
    "name": "ipython",
    "version": 3
   },
   "file_extension": ".py",
   "mimetype": "text/x-python",
   "name": "python",
   "nbconvert_exporter": "python",
   "pygments_lexer": "ipython3",
   "version": "3.9.11"
  }
 },
 "nbformat": 4,
 "nbformat_minor": 5
}
