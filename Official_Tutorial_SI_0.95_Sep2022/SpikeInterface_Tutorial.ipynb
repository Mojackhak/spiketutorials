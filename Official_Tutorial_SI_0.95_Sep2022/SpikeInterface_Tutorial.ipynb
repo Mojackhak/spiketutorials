{
 "cells": [
  {
   "cell_type": "markdown",
   "metadata": {},
   "source": [
    "# SpikeInterface DEMO v0.94 -  In2PrimateBrains - May 2022\n",
    "\n",
    "\n",
    "In this demo, you will use SpikeInterface to analyze a 64-channel dataset from am \"ASSY-156-P1\" probe from Cambridge Neurotech. \n",
    "The dataset is kindly provided by [Samuel McKenzie's Lab](https://mckenzieneurolab.com/). \n",
    "\n",
    "The objective of this demo is to show all the functionalities of SpikeInterface on a real-world example."
   ]
  },
  {
   "cell_type": "markdown",
   "metadata": {},
   "source": [
    "# Table of contents\n",
    "\n",
    "* [0. Preparation](#preparation)\n",
    "* [1. Loading the data and probe information](#loading)\n",
    "* [2. Preprocessing](#preprocessing)\n",
    "* [3. Saving and loading SpikeInterface objects](#save-load)\n",
    "* [4. Spike sorting](#spike-sorting)\n",
    "* [5. Extracting waveforms](#waveforms)\n",
    "* [6. Postprocessing](#postprocessing)\n",
    "* [7. Validation and curation](#curation)\n",
    "* [8. Spike sorting comparison](#comparison)\n",
    "* [9. Exporters](#exporters)"
   ]
  },
  {
   "cell_type": "markdown",
   "metadata": {},
   "source": [
    "# 0. Preparation <a class=\"anchor\" id=\"preparation\"></a>"
   ]
  },
  {
   "cell_type": "markdown",
   "metadata": {},
   "source": [
    "### Download the ephys data\n",
    "\n",
    "First, we need to download the recording. Feel free to use your own recordings as well later on. \n",
    "\n",
    "The dataset is called `cambridge_data.dat` and can be found on this [drive link](https://drive.google.com/drive/folders/1eWPuOd8q4MjpVpwazkWygQJDzJnToN3i) (`practice_2_real_dataset` folder). Move the dataset in the current folder.\n",
    "The recording was performed with the \"ASSY-156-P1\" probe with 4 shanks of 16 channels (in total 64 channels).\n",
    "\n",
    "\n",
    "### Import the modules\n",
    "\n",
    "Let's now import the `spikeinterface` modules that we need:"
   ]
  },
  {
   "cell_type": "code",
   "execution_count": 1,
   "metadata": {},
   "outputs": [
    {
     "name": "stderr",
     "output_type": "stream",
     "text": [
      "/home/samuel.garcia/.virtualenvs/py38/lib/python3.8/site-packages/datalad/cmd.py:375: RuntimeWarning: coroutine 'run_async_cmd' was never awaited\n",
      "  new_loop = True\n",
      "RuntimeWarning: Enable tracemalloc to get the object allocation traceback\n",
      "/home/samuel.garcia/Documents/SpikeInterface/spikeinterface/spikeinterface/core/datasets.py:12: RuntimeWarning: coroutine 'run_async_cmd' was never awaited\n",
      "  HAVE_DATALAD = False\n",
      "RuntimeWarning: Enable tracemalloc to get the object allocation traceback\n"
     ]
    }
   ],
   "source": [
    "import spikeinterface as si\n",
    "import spikeinterface.extractors as se \n",
    "import spikeinterface.toolkit as st\n",
    "import spikeinterface.sorters as ss\n",
    "import spikeinterface.comparison as sc\n",
    "import spikeinterface.widgets as sw"
   ]
  },
  {
   "cell_type": "code",
   "execution_count": 2,
   "metadata": {},
   "outputs": [],
   "source": [
    "import matplotlib.pyplot as plt\n",
    "import numpy as np\n",
    "from pathlib import Path\n",
    "\n",
    "import ephyviewer\n",
    "import spikeinterface_gui as sigui\n",
    "\n",
    "# %matplotlib widget\n",
    "%matplotlib inline"
   ]
  },
  {
   "cell_type": "markdown",
   "metadata": {},
   "source": [
    "# 1. Loading recording and probe information <a class=\"anchor\" id=\"loading\"></a>"
   ]
  },
  {
   "cell_type": "code",
   "execution_count": 3,
   "metadata": {},
   "outputs": [],
   "source": [
    "# file path\n",
    "base_folder = Path('/data_local/DataSpikeSorting/data_tutorial/McKenzie')\n",
    "recording_file = base_folder / 'cambridge_data.dat'\n",
    "\n",
    "# parameters to load the bin/dat format\n",
    "num_channels = 64\n",
    "sampling_frequency = 20000\n",
    "gain_to_uV = 0.195\n",
    "offset_to_uV = 0\n",
    "dtype = \"int16\"\n",
    "time_axis = 0"
   ]
  },
  {
   "cell_type": "code",
   "execution_count": 4,
   "metadata": {},
   "outputs": [],
   "source": [
    "recording = si.read_binary(recording_file, num_chan=num_channels, sampling_frequency=sampling_frequency,\n",
    "                           dtype=dtype, gain_to_uV=gain_to_uV, offset_to_uV=offset_to_uV, \n",
    "                           time_axis=time_axis)"
   ]
  },
  {
   "cell_type": "markdown",
   "metadata": {},
   "source": [
    "The `read_binary()` function returns a `RecordingExtractor` object. We can print it to visualize some of its properties:"
   ]
  },
  {
   "cell_type": "code",
   "execution_count": 5,
   "metadata": {},
   "outputs": [
    {
     "data": {
      "text/plain": [
       "BinaryRecordingExtractor: 64 channels - 1 segments - 20.0kHz - 600.000s\n",
       "  file_paths: ['/data_local/DataSpikeSorting/data_tutorial/McKenzie/cambridge_data.dat']"
      ]
     },
     "execution_count": 5,
     "metadata": {},
     "output_type": "execute_result"
    }
   ],
   "source": [
    "recording"
   ]
  },
  {
   "cell_type": "markdown",
   "metadata": {
    "pycharm": {
     "name": "#%% md\n"
    }
   },
   "source": [
    "We can further `annotate` the recording to tell SI that it is not filtered yet. This will prevent further mistakes in the pipieline, such as attempting to extract waveforms from unfiltered data."
   ]
  },
  {
   "cell_type": "code",
   "execution_count": 6,
   "metadata": {},
   "outputs": [],
   "source": [
    "recording.annotate(is_filtered=False)"
   ]
  },
  {
   "cell_type": "markdown",
   "metadata": {
    "pycharm": {
     "name": "#%% md\n"
    }
   },
   "source": [
    "While the `read_binary()` function is part of the `core` module (as it's used internally by SI to store data in a convenient format), the `extractor` module allows you to load many file formats used in electrophysiology. \n",
    "\n",
    "The extractors available in SI are all loaded using the [NEO](https://neo.readthedocs.io/en/stable/) python package.\n",
    "\n",
    "We can access the full list of available extractors with:"
   ]
  },
  {
   "cell_type": "code",
   "execution_count": 7,
   "metadata": {},
   "outputs": [
    {
     "data": {
      "text/plain": [
       "[spikeinterface.core.binaryrecordingextractor.BinaryRecordingExtractor,\n",
       " spikeinterface.core.numpyextractors.NumpyRecording,\n",
       " spikeinterface.extractors.shybridextractors.SHYBRIDRecordingExtractor,\n",
       " spikeinterface.extractors.mdaextractors.MdaRecordingExtractor,\n",
       " spikeinterface.extractors.neoextractors.mearec.MEArecRecordingExtractor,\n",
       " spikeinterface.extractors.neoextractors.spikeglx.SpikeGLXRecordingExtractor,\n",
       " spikeinterface.extractors.neoextractors.openephys.OpenEphysLegacyRecordingExtractor,\n",
       " spikeinterface.extractors.neoextractors.openephys.OpenEphysBinaryRecordingExtractor,\n",
       " spikeinterface.extractors.neoextractors.intan.IntanRecordingExtractor,\n",
       " spikeinterface.extractors.neoextractors.neuroscope.NeuroScopeRecordingExtractor,\n",
       " spikeinterface.extractors.neoextractors.plexon.PlexonRecordingExtractor,\n",
       " spikeinterface.extractors.neoextractors.neuralynx.NeuralynxRecordingExtractor,\n",
       " spikeinterface.extractors.neoextractors.blackrock.BlackrockRecordingExtractor,\n",
       " spikeinterface.extractors.neoextractors.mscraw.MCSRawRecordingExtractor,\n",
       " spikeinterface.extractors.neoextractors.spike2.Spike2RecordingExtractor,\n",
       " spikeinterface.extractors.neoextractors.ced.CedRecordingExtractor,\n",
       " spikeinterface.extractors.neoextractors.maxwell.MaxwellRecordingExtractor,\n",
       " spikeinterface.extractors.neoextractors.nix.NixRecordingExtractor,\n",
       " spikeinterface.extractors.nwbextractors.NwbRecordingExtractor,\n",
       " spikeinterface.extractors.neoextractors.spikegadgets.SpikeGadgetsRecordingExtractor,\n",
       " spikeinterface.extractors.neoextractors.biocam.BiocamRecordingExtractor,\n",
       " spikeinterface.extractors.neoextractors.axona.AxonaRecordingExtractor,\n",
       " spikeinterface.extractors.neoextractors.tdt.TdtRecordingExtractor,\n",
       " spikeinterface.extractors.cbin_ibl.CompressedBinaryIblExtractor]"
      ]
     },
     "execution_count": 7,
     "metadata": {},
     "output_type": "execute_result"
    }
   ],
   "source": [
    "se.recording_extractor_full_list"
   ]
  },
  {
   "cell_type": "markdown",
   "metadata": {},
   "source": [
    "A `RecordingExtractor` object extracts information about channel ids, channel locations (if present), the sampling frequency of the recording, and the extracellular traces (when prompted). The `BinaryRecordingExtractor` is designed specifically for raw binary files datasets (.bin, .dat, .raw).\n",
    "\n",
    "Here we load information from the recording using the built-in functions from the RecordingExtractor"
   ]
  },
  {
   "cell_type": "code",
   "execution_count": 8,
   "metadata": {},
   "outputs": [
    {
     "name": "stdout",
     "output_type": "stream",
     "text": [
      "Channel ids: [ 0  1  2  3  4  5  6  7  8  9 10 11 12 13 14 15 16 17 18 19 20 21 22 23\n",
      " 24 25 26 27 28 29 30 31 32 33 34 35 36 37 38 39 40 41 42 43 44 45 46 47\n",
      " 48 49 50 51 52 53 54 55 56 57 58 59 60 61 62 63]\n",
      "Sampling frequency: 20000\n",
      "Number of channels: 64\n",
      "Number of segments: 1\n"
     ]
    }
   ],
   "source": [
    "channel_ids = recording.get_channel_ids()\n",
    "fs = recording.get_sampling_frequency()\n",
    "num_chan = recording.get_num_channels()\n",
    "num_segments = recording.get_num_segments()\n",
    "\n",
    "print(f'Channel ids: {channel_ids}')\n",
    "print(f'Sampling frequency: {fs}')\n",
    "print(f'Number of channels: {num_chan}')\n",
    "print(f\"Number of segments: {num_segments}\")"
   ]
  },
  {
   "cell_type": "markdown",
   "metadata": {},
   "source": [
    "**NEW:** The new SI version supports multi-segment recordings. A segment is a contiguous piece of data, and sometimes recordings can be made of multiple acquisitions, for examples a baseline, a stimulation phase, and a post recording. In such cases, the recording object will be made of multiple segments and be treated as such over the pipeline."
   ]
  },
  {
   "cell_type": "markdown",
   "metadata": {
    "pycharm": {
     "name": "#%% md\n"
    }
   },
   "source": [
    "The `get_traces()` function returns a TxN numpy array where N is the number of channel ids passed in (all channel ids are passed in by default) and T is the number of frames (determined by start_frame and end_frame)."
   ]
  },
  {
   "cell_type": "code",
   "execution_count": 9,
   "metadata": {
    "pycharm": {
     "name": "#%%\n"
    }
   },
   "outputs": [],
   "source": [
    "trace_snippet = recording.get_traces(start_frame=int(fs*0), end_frame=int(fs*2))"
   ]
  },
  {
   "cell_type": "code",
   "execution_count": 10,
   "metadata": {},
   "outputs": [
    {
     "name": "stdout",
     "output_type": "stream",
     "text": [
      "Traces shape: (40000, 64)\n"
     ]
    }
   ],
   "source": [
    "print('Traces shape:', trace_snippet.shape)"
   ]
  },
  {
   "cell_type": "markdown",
   "metadata": {},
   "source": [
    "The `widgets` module includes several convenient plotting functions that can be used to explore the data:"
   ]
  },
  {
   "cell_type": "code",
   "execution_count": 11,
   "metadata": {
    "pycharm": {
     "name": "#%%\n"
    }
   },
   "outputs": [
    {
     "data": {
      "image/png": "[encoded data removed]",
      "text/plain": [
       "<Figure size 432x288 with 1 Axes>"
      ]
     },
     "metadata": {
      "needs_background": "light"
     },
     "output_type": "display_data"
    }
   ],
   "source": [
    "w_ts = sw.plot_timeseries(recording, channel_ids=[0, 1, 2, 3])"
   ]
  },
  {
   "cell_type": "markdown",
   "metadata": {
    "pycharm": {
     "name": "#%% md\n"
    }
   },
   "source": [
    "Before moving on with the analysis, we have to load the probe information. For this we will use the [ProbeInterface](https://probeinterface.readthedocs.io/en/main/index.html) package. \n",
    "\n",
    "ProbeInterface allows to easily create, manipulate, and visualize neural probes. Moreover, it comes with a wide range of IO functions to import and export existing formats. Finally, we have created a public library of commercial probes (https://gin.g-node.org/spikeinterface/probeinterface_library/) that can be retrieved with a single line of code.\n",
    "\n",
    "Let's import `probeinterface`, download the probe and plot it!"
   ]
  },
  {
   "cell_type": "code",
   "execution_count": 12,
   "metadata": {},
   "outputs": [],
   "source": [
    "import probeinterface as pi\n",
    "from probeinterface.plotting import plot_probe"
   ]
  },
  {
   "cell_type": "code",
   "execution_count": 13,
   "metadata": {
    "pycharm": {
     "name": "#%%\n"
    }
   },
   "outputs": [
    {
     "name": "stdout",
     "output_type": "stream",
     "text": [
      "cambridgeneurotech - ASSY-156-P-1 - 64ch - 4shanks\n"
     ]
    }
   ],
   "source": [
    "manufacturer = 'cambridgeneurotech'\n",
    "probe_name = 'ASSY-156-P-1'\n",
    "\n",
    "probe = pi.get_probe(manufacturer, probe_name)\n",
    "print(probe)"
   ]
  },
  {
   "cell_type": "markdown",
   "metadata": {
    "pycharm": {
     "name": "#%% md\n"
    }
   },
   "source": [
    "In most experiments, the neural probe has a connector, that is interfaced to an headstage, which in turn connects to the acquisition system. This *pathway* usually results in a channel remapping, which means that the order of the contacts on the probe is different than the order of the recorded traces.\n",
    "\n",
    "`probeinterface` provides a growing collection of common pathways that can be loaded directly to wire a device and apply the correct channel mapping:"
   ]
  },
  {
   "cell_type": "code",
   "execution_count": 14,
   "metadata": {
    "pycharm": {
     "name": "#%%\n"
    }
   },
   "outputs": [
    {
     "data": {
      "text/plain": [
       "['H32>RHD2132',\n",
       " 'ASSY-156>RHD2164',\n",
       " 'ASSY-77>Adpt.A64-Om32_2x-sm>RHD2164',\n",
       " 'cambridgeneurotech_mini-amp-64']"
      ]
     },
     "execution_count": 14,
     "metadata": {},
     "output_type": "execute_result"
    }
   ],
   "source": [
    "pi.get_available_pathways()"
   ]
  },
  {
   "cell_type": "code",
   "execution_count": 15,
   "metadata": {},
   "outputs": [],
   "source": [
    "probe.wiring_to_device('ASSY-156>RHD2164')"
   ]
  },
  {
   "cell_type": "code",
   "execution_count": 16,
   "metadata": {},
   "outputs": [
    {
     "data": {
      "text/plain": [
       "(<matplotlib.collections.PolyCollection at 0x7f48928e8d90>,\n",
       " <matplotlib.collections.PolyCollection at 0x7f488f8aa160>)"
      ]
     },
     "execution_count": 16,
     "metadata": {},
     "output_type": "execute_result"
    },
    {
     "data": {
      "image/png": "[encoded data removed]",
      "text/plain": [
       "<Figure size 1008x720 with 1 Axes>"
      ]
     },
     "metadata": {
      "needs_background": "light"
     },
     "output_type": "display_data"
    }
   ],
   "source": [
    "fig, ax = plt.subplots(figsize=(14, 10))\n",
    "plot_probe(probe, ax=ax)\n"
   ]
  },
  {
   "cell_type": "code",
   "execution_count": 17,
   "metadata": {},
   "outputs": [
    {
     "data": {
      "text/plain": [
       "(-50.0, 300.0)"
      ]
     },
     "execution_count": 17,
     "metadata": {},
     "output_type": "execute_result"
    },
    {
     "data": {
      "image/png": "[encoded data removed]",
      "text/plain": [
       "<Figure size 1008x720 with 1 Axes>"
      ]
     },
     "metadata": {
      "needs_background": "light"
     },
     "output_type": "display_data"
    }
   ],
   "source": [
    "fig, ax = plt.subplots(figsize=(14, 10))\n",
    "plot_probe(probe, with_contact_id=True, with_device_index=True, ax=ax)\n",
    "ax.set_xlim(-50, 300)"
   ]
  },
  {
   "cell_type": "markdown",
   "metadata": {},
   "source": [
    "The probe now has contact ids `id#` and device ids `dev#`! We can also visualize the probe information as a `pandas` dataframe:"
   ]
  },
  {
   "cell_type": "code",
   "execution_count": 18,
   "metadata": {},
   "outputs": [
    {
     "data": {
      "text/html": [
       "<div>\n",
       "<style scoped>\n",
       "    .dataframe tbody tr th:only-of-type {\n",
       "        vertical-align: middle;\n",
       "    }\n",
       "\n",
       "    .dataframe tbody tr th {\n",
       "        vertical-align: top;\n",
       "    }\n",
       "\n",
       "    .dataframe thead th {\n",
       "        text-align: right;\n",
       "    }\n",
       "</style>\n",
       "<table border=\"1\" class=\"dataframe\">\n",
       "  <thead>\n",
       "    <tr style=\"text-align: right;\">\n",
       "      <th></th>\n",
       "      <th>contact_ids</th>\n",
       "      <th>shank_ids</th>\n",
       "      <th>device_channel_indices</th>\n",
       "    </tr>\n",
       "  </thead>\n",
       "  <tbody>\n",
       "    <tr>\n",
       "      <th>0</th>\n",
       "      <td>1</td>\n",
       "      <td>2</td>\n",
       "      <td>47</td>\n",
       "    </tr>\n",
       "    <tr>\n",
       "      <th>1</th>\n",
       "      <td>2</td>\n",
       "      <td>2</td>\n",
       "      <td>46</td>\n",
       "    </tr>\n",
       "    <tr>\n",
       "      <th>2</th>\n",
       "      <td>3</td>\n",
       "      <td>2</td>\n",
       "      <td>45</td>\n",
       "    </tr>\n",
       "    <tr>\n",
       "      <th>3</th>\n",
       "      <td>4</td>\n",
       "      <td>2</td>\n",
       "      <td>44</td>\n",
       "    </tr>\n",
       "    <tr>\n",
       "      <th>4</th>\n",
       "      <td>5</td>\n",
       "      <td>3</td>\n",
       "      <td>43</td>\n",
       "    </tr>\n",
       "    <tr>\n",
       "      <th>...</th>\n",
       "      <td>...</td>\n",
       "      <td>...</td>\n",
       "      <td>...</td>\n",
       "    </tr>\n",
       "    <tr>\n",
       "      <th>59</th>\n",
       "      <td>60</td>\n",
       "      <td>3</td>\n",
       "      <td>52</td>\n",
       "    </tr>\n",
       "    <tr>\n",
       "      <th>60</th>\n",
       "      <td>61</td>\n",
       "      <td>3</td>\n",
       "      <td>51</td>\n",
       "    </tr>\n",
       "    <tr>\n",
       "      <th>61</th>\n",
       "      <td>62</td>\n",
       "      <td>3</td>\n",
       "      <td>50</td>\n",
       "    </tr>\n",
       "    <tr>\n",
       "      <th>62</th>\n",
       "      <td>63</td>\n",
       "      <td>3</td>\n",
       "      <td>49</td>\n",
       "    </tr>\n",
       "    <tr>\n",
       "      <th>63</th>\n",
       "      <td>64</td>\n",
       "      <td>3</td>\n",
       "      <td>48</td>\n",
       "    </tr>\n",
       "  </tbody>\n",
       "</table>\n",
       "<p>64 rows × 3 columns</p>\n",
       "</div>"
      ],
      "text/plain": [
       "   contact_ids shank_ids  device_channel_indices\n",
       "0            1         2                      47\n",
       "1            2         2                      46\n",
       "2            3         2                      45\n",
       "3            4         2                      44\n",
       "4            5         3                      43\n",
       "..         ...       ...                     ...\n",
       "59          60         3                      52\n",
       "60          61         3                      51\n",
       "61          62         3                      50\n",
       "62          63         3                      49\n",
       "63          64         3                      48\n",
       "\n",
       "[64 rows x 3 columns]"
      ]
     },
     "execution_count": 18,
     "metadata": {},
     "output_type": "execute_result"
    }
   ],
   "source": [
    "probe.to_dataframe(complete=True).loc[:, [\"contact_ids\", \"shank_ids\", \"device_channel_indices\"]]"
   ]
  },
  {
   "cell_type": "markdown",
   "metadata": {
    "pycharm": {
     "name": "#%% md\n"
    }
   },
   "source": [
    "Note that also the `shank_id` is loaded with the probe.\n",
    "\n",
    "**NEW:** A `probeinterface` object can be loaded directly to a SI recording object:"
   ]
  },
  {
   "cell_type": "code",
   "execution_count": 19,
   "metadata": {},
   "outputs": [],
   "source": [
    "recording_prb = recording.set_probe(probe, group_mode=\"by_shank\")"
   ]
  },
  {
   "cell_type": "markdown",
   "metadata": {},
   "source": [
    "When loading the probe, the device indices (and all the other contact properties) are automatically sorted:"
   ]
  },
  {
   "cell_type": "code",
   "execution_count": 20,
   "metadata": {},
   "outputs": [
    {
     "data": {
      "text/html": [
       "<div>\n",
       "<style scoped>\n",
       "    .dataframe tbody tr th:only-of-type {\n",
       "        vertical-align: middle;\n",
       "    }\n",
       "\n",
       "    .dataframe tbody tr th {\n",
       "        vertical-align: top;\n",
       "    }\n",
       "\n",
       "    .dataframe thead th {\n",
       "        text-align: right;\n",
       "    }\n",
       "</style>\n",
       "<table border=\"1\" class=\"dataframe\">\n",
       "  <thead>\n",
       "    <tr style=\"text-align: right;\">\n",
       "      <th></th>\n",
       "      <th>contact_ids</th>\n",
       "      <th>shank_ids</th>\n",
       "      <th>device_channel_indices</th>\n",
       "    </tr>\n",
       "  </thead>\n",
       "  <tbody>\n",
       "    <tr>\n",
       "      <th>0</th>\n",
       "      <td>48</td>\n",
       "      <td>1</td>\n",
       "      <td>0</td>\n",
       "    </tr>\n",
       "    <tr>\n",
       "      <th>1</th>\n",
       "      <td>47</td>\n",
       "      <td>1</td>\n",
       "      <td>1</td>\n",
       "    </tr>\n",
       "    <tr>\n",
       "      <th>2</th>\n",
       "      <td>46</td>\n",
       "      <td>1</td>\n",
       "      <td>2</td>\n",
       "    </tr>\n",
       "    <tr>\n",
       "      <th>3</th>\n",
       "      <td>45</td>\n",
       "      <td>1</td>\n",
       "      <td>3</td>\n",
       "    </tr>\n",
       "    <tr>\n",
       "      <th>4</th>\n",
       "      <td>44</td>\n",
       "      <td>1</td>\n",
       "      <td>4</td>\n",
       "    </tr>\n",
       "    <tr>\n",
       "      <th>...</th>\n",
       "      <td>...</td>\n",
       "      <td>...</td>\n",
       "      <td>...</td>\n",
       "    </tr>\n",
       "    <tr>\n",
       "      <th>59</th>\n",
       "      <td>53</td>\n",
       "      <td>2</td>\n",
       "      <td>59</td>\n",
       "    </tr>\n",
       "    <tr>\n",
       "      <th>60</th>\n",
       "      <td>52</td>\n",
       "      <td>2</td>\n",
       "      <td>60</td>\n",
       "    </tr>\n",
       "    <tr>\n",
       "      <th>61</th>\n",
       "      <td>51</td>\n",
       "      <td>2</td>\n",
       "      <td>61</td>\n",
       "    </tr>\n",
       "    <tr>\n",
       "      <th>62</th>\n",
       "      <td>50</td>\n",
       "      <td>1</td>\n",
       "      <td>62</td>\n",
       "    </tr>\n",
       "    <tr>\n",
       "      <th>63</th>\n",
       "      <td>49</td>\n",
       "      <td>2</td>\n",
       "      <td>63</td>\n",
       "    </tr>\n",
       "  </tbody>\n",
       "</table>\n",
       "<p>64 rows × 3 columns</p>\n",
       "</div>"
      ],
      "text/plain": [
       "   contact_ids shank_ids  device_channel_indices\n",
       "0           48         1                       0\n",
       "1           47         1                       1\n",
       "2           46         1                       2\n",
       "3           45         1                       3\n",
       "4           44         1                       4\n",
       "..         ...       ...                     ...\n",
       "59          53         2                      59\n",
       "60          52         2                      60\n",
       "61          51         2                      61\n",
       "62          50         1                      62\n",
       "63          49         2                      63\n",
       "\n",
       "[64 rows x 3 columns]"
      ]
     },
     "execution_count": 20,
     "metadata": {},
     "output_type": "execute_result"
    }
   ],
   "source": [
    "probe_rec = recording_prb.get_probe()\n",
    "probe_rec.to_dataframe(complete=True).loc[:, [\"contact_ids\", \"shank_ids\", \"device_channel_indices\"]]"
   ]
  },
  {
   "cell_type": "code",
   "execution_count": 21,
   "metadata": {
    "pycharm": {
     "name": "#%%\n"
    }
   },
   "outputs": [
    {
     "name": "stdout",
     "output_type": "stream",
     "text": [
      "Channels after loading the probe file: [ 0  1  2  3  4  5  6  7  8  9 10 11 12 13 14 15 16 17 18 19 20 21 22 23\n",
      " 24 25 26 27 28 29 30 31 32 33 34 35 36 37 38 39 40 41 42 43 44 45 46 47\n",
      " 48 49 50 51 52 53 54 55 56 57 58 59 60 61 62 63]\n",
      "Channel groups after loading the probe file: [1 1 1 1 1 1 1 0 0 0 0 0 0 0 0 0 1 2 1 1 0 0 0 0 0 0 1 0 1 1 1 1 2 2 2 2 2\n",
      " 3 3 3 3 3 3 3 2 2 2 2 3 3 3 3 3 3 3 3 2 3 2 2 2 2 1 2]\n"
     ]
    }
   ],
   "source": [
    "print(f'Channels after loading the probe file: {recording_prb.get_channel_ids()}')\n",
    "print(f'Channel groups after loading the probe file: {recording_prb.get_channel_groups()}')"
   ]
  },
  {
   "cell_type": "markdown",
   "metadata": {
    "pycharm": {
     "name": "#%% md\n"
    }
   },
   "source": [
    "### Properties \n",
    "\n",
    "`RecordingExtractor` object can have *properties*. A property is a piece of information attached to a channel, e.g. group or location.\n",
    "\n",
    "Similarly, for `SortingExtractor` objects (that we'll cover later), anything related to a unit can be stored as a property. \n",
    "\n",
    "We can check which properties are in the extractor as follows:"
   ]
  },
  {
   "cell_type": "code",
   "execution_count": 22,
   "metadata": {
    "pycharm": {
     "name": "#%%\n"
    }
   },
   "outputs": [
    {
     "name": "stdout",
     "output_type": "stream",
     "text": [
      "Properties before loading the probe: ['gain_to_uV', 'offset_to_uV']\n"
     ]
    }
   ],
   "source": [
    "print(\"Properties before loading the probe:\", list(recording.get_property_keys()))"
   ]
  },
  {
   "cell_type": "code",
   "execution_count": 23,
   "metadata": {},
   "outputs": [
    {
     "name": "stdout",
     "output_type": "stream",
     "text": [
      "Properties after loading the probe: ['gain_to_uV', 'offset_to_uV', 'contact_vector', 'location', 'group']\n"
     ]
    }
   ],
   "source": [
    "print(\"Properties after loading the probe:\", list(recording_prb.get_property_keys()))"
   ]
  },
  {
   "cell_type": "markdown",
   "metadata": {
    "pycharm": {
     "name": "#%% md\n"
    }
   },
   "source": [
    "After loading the probe we now have some new properties: `contact_vector`, `location`, and `group`.\n",
    "\n",
    "Let's add some new properties! \n",
    "The first 32 channels are in the CA1 area, the second 32 are in the CA3 area:"
   ]
  },
  {
   "cell_type": "code",
   "execution_count": 24,
   "metadata": {
    "pycharm": {
     "name": "#%%\n"
    }
   },
   "outputs": [
    {
     "name": "stdout",
     "output_type": "stream",
     "text": [
      "['CA1', 'CA1', 'CA1', 'CA1', 'CA1', 'CA1', 'CA1', 'CA1', 'CA1', 'CA1', 'CA1', 'CA1', 'CA1', 'CA1', 'CA1', 'CA1', 'CA1', 'CA1', 'CA1', 'CA1', 'CA1', 'CA1', 'CA1', 'CA1', 'CA1', 'CA1', 'CA1', 'CA1', 'CA1', 'CA1', 'CA1', 'CA1', 'CA3', 'CA3', 'CA3', 'CA3', 'CA3', 'CA3', 'CA3', 'CA3', 'CA3', 'CA3', 'CA3', 'CA3', 'CA3', 'CA3', 'CA3', 'CA3', 'CA3', 'CA3', 'CA3', 'CA3', 'CA3', 'CA3', 'CA3', 'CA3', 'CA3', 'CA3', 'CA3', 'CA3', 'CA3', 'CA3', 'CA3', 'CA3']\n"
     ]
    }
   ],
   "source": [
    "brain_area_property_values = ['CA1']*32 + ['CA3']*32\n",
    "print(brain_area_property_values)"
   ]
  },
  {
   "cell_type": "code",
   "execution_count": 25,
   "metadata": {},
   "outputs": [],
   "source": [
    "recording_prb.set_property(key='brain_area', values=brain_area_property_values)"
   ]
  },
  {
   "cell_type": "markdown",
   "metadata": {
    "pycharm": {
     "name": "#%% md\n"
    }
   },
   "source": [
    "We can also specify a property on a subset of channels. In this case, the non-specified channels will be filled empty values:"
   ]
  },
  {
   "cell_type": "code",
   "execution_count": 26,
   "metadata": {
    "pycharm": {
     "name": "#%%\n"
    }
   },
   "outputs": [],
   "source": [
    "recording_prb.set_property(key='quality', values=[\"good\"]*(recording_prb.get_num_channels() - 3),\n",
    "                           ids=recording_prb.get_channel_ids()[:-3])"
   ]
  },
  {
   "cell_type": "code",
   "execution_count": 27,
   "metadata": {},
   "outputs": [
    {
     "data": {
      "text/plain": [
       "array(['good', 'good', 'good', 'good', 'good', 'good', 'good', 'good',\n",
       "       'good', 'good', 'good', 'good', 'good', 'good', 'good', 'good',\n",
       "       'good', 'good', 'good', 'good', 'good', 'good', 'good', 'good',\n",
       "       'good', 'good', 'good', 'good', 'good', 'good', 'good', 'good',\n",
       "       'good', 'good', 'good', 'good', 'good', 'good', 'good', 'good',\n",
       "       'good', 'good', 'good', 'good', 'good', 'good', 'good', 'good',\n",
       "       'good', 'good', 'good', 'good', 'good', 'good', 'good', 'good',\n",
       "       'good', 'good', 'good', 'good', 'good', '', '', ''], dtype='<U4')"
      ]
     },
     "execution_count": 27,
     "metadata": {},
     "output_type": "execute_result"
    }
   ],
   "source": [
    "recording_prb.get_property(\"quality\")"
   ]
  },
  {
   "cell_type": "code",
   "execution_count": 28,
   "metadata": {},
   "outputs": [
    {
     "name": "stdout",
     "output_type": "stream",
     "text": [
      "Properties after adding custom properties: ['gain_to_uV', 'offset_to_uV', 'contact_vector', 'location', 'group', 'brain_area', 'quality']\n"
     ]
    }
   ],
   "source": [
    "print(\"Properties after adding custom properties:\", list(recording_prb.get_property_keys()))"
   ]
  },
  {
   "cell_type": "markdown",
   "metadata": {},
   "source": [
    "**NOTE:** Internally the properties is jus a dictionary attached to the recording that is accessible as `_properties`"
   ]
  },
  {
   "cell_type": "code",
   "execution_count": 29,
   "metadata": {},
   "outputs": [
    {
     "name": "stdout",
     "output_type": "stream",
     "text": [
      "dict_keys(['gain_to_uV', 'offset_to_uV', 'contact_vector', 'location', 'group', 'brain_area', 'quality'])\n"
     ]
    }
   ],
   "source": [
    "print(recording_prb._properties.keys())"
   ]
  },
  {
   "cell_type": "markdown",
   "metadata": {
    "pycharm": {
     "name": "#%% md\n"
    }
   },
   "source": [
    "### Annotations"
   ]
  },
  {
   "cell_type": "markdown",
   "metadata": {
    "pycharm": {
     "name": "#%% md\n"
    }
   },
   "source": [
    "*Annotations* can be attached to any object and they can carry any information related to the recording or sorting objects.\n",
    "\n",
    "Let's add an annotation about this tutorial:"
   ]
  },
  {
   "cell_type": "code",
   "execution_count": 30,
   "metadata": {
    "pycharm": {
     "name": "#%%\n"
    }
   },
   "outputs": [],
   "source": [
    "recording_prb.annotate(description=\"Dataset for SI 0.93 tutorial\")"
   ]
  },
  {
   "cell_type": "code",
   "execution_count": 31,
   "metadata": {},
   "outputs": [
    {
     "name": "stdout",
     "output_type": "stream",
     "text": [
      "['is_filtered', 'probe_0_planar_contour', 'description']\n"
     ]
    }
   ],
   "source": [
    "print(recording_prb.get_annotation_keys())"
   ]
  },
  {
   "cell_type": "markdown",
   "metadata": {},
   "source": [
    "# 2. Preprocessing <a class=\"anchor\" id=\"preprocessing\"></a>\n",
    "\n",
    "\n",
    "Now that the probe information is loaded we can do some preprocessing using `toolkit` module.\n",
    "\n",
    "We can filter the recordings, rereference the signals to remove noise, discard noisy channels, whiten the data, remove stimulation artifacts, etc. (more info [here](https://spiketoolkit.readthedocs.io/en/latest/preprocessing_example.html)).\n",
    "\n",
    "For this notebook, let's filter the recordings and apply common median reference (CMR). All preprocessing modules return new `RecordingExtractor` objects that apply the underlying preprocessing function. This allows users to access the preprocessed data in the same way as the raw data.\n",
    "\n",
    "We will focus only on the first shank (grouo `0`) for the following analysis:"
   ]
  },
  {
   "cell_type": "code",
   "execution_count": 32,
   "metadata": {
    "pycharm": {
     "name": "#%%\n"
    }
   },
   "outputs": [
    {
     "name": "stdout",
     "output_type": "stream",
     "text": [
      "{0: ChannelSliceRecording: 16 channels - 1 segments - 20.0kHz - 600.000s, 1: ChannelSliceRecording: 16 channels - 1 segments - 20.0kHz - 600.000s, 2: ChannelSliceRecording: 16 channels - 1 segments - 20.0kHz - 600.000s, 3: ChannelSliceRecording: 16 channels - 1 segments - 20.0kHz - 600.000s}\n"
     ]
    }
   ],
   "source": [
    "recordings_by_group = recording_prb.split_by(\"group\")\n",
    "print(recordings_by_group)"
   ]
  },
  {
   "cell_type": "code",
   "execution_count": 33,
   "metadata": {},
   "outputs": [],
   "source": [
    "recording_to_process = recordings_by_group[0]"
   ]
  },
  {
   "cell_type": "code",
   "execution_count": 34,
   "metadata": {},
   "outputs": [
    {
     "data": {
      "text/plain": [
       "16"
      ]
     },
     "execution_count": 34,
     "metadata": {},
     "output_type": "execute_result"
    }
   ],
   "source": [
    "recording_to_process.get_num_channels()"
   ]
  },
  {
   "cell_type": "markdown",
   "metadata": {
    "pycharm": {
     "name": "#%% md\n"
    }
   },
   "source": [
    "Below, we bandpass filter the recording and apply common median reference to the original recording:"
   ]
  },
  {
   "cell_type": "code",
   "execution_count": 35,
   "metadata": {
    "pycharm": {
     "name": "#%%\n"
    }
   },
   "outputs": [
    {
     "data": {
      "image/png": "[encoded data removed]",
      "text/plain": [
       "<Figure size 432x288 with 1 Axes>"
      ]
     },
     "metadata": {
      "needs_background": "light"
     },
     "output_type": "display_data"
    }
   ],
   "source": [
    "recording_f = st.bandpass_filter(recording_to_process, freq_min=300, freq_max=6000)\n",
    "\n",
    "w = sw.plot_timeseries(recording_f)"
   ]
  },
  {
   "cell_type": "markdown",
   "metadata": {
    "pycharm": {
     "name": "#%% md\n"
    }
   },
   "source": [
    "We can see that the after filtering we can observe spiking activity on many channels! We can also apply other preprocessing steps to further increase the quality of the recording. \n",
    "\n",
    "For examplem let's apply Common Median Reference (CMR)"
   ]
  },
  {
   "cell_type": "code",
   "execution_count": 36,
   "metadata": {},
   "outputs": [
    {
     "data": {
      "text/plain": [
       "CommonReferenceRecording: 16 channels - 1 segments - 20.0kHz - 600.000s"
      ]
     },
     "execution_count": 36,
     "metadata": {},
     "output_type": "execute_result"
    }
   ],
   "source": [
    "recording_cmr = st.common_reference(recording_f, reference='global', operator='median')\n",
    "recording_cmr"
   ]
  },
  {
   "cell_type": "markdown",
   "metadata": {},
   "source": [
    "We can plot the traces after applying CMR:"
   ]
  },
  {
   "cell_type": "code",
   "execution_count": 37,
   "metadata": {},
   "outputs": [
    {
     "data": {
      "image/png": "[encoded data removed]",
      "text/plain": [
       "<Figure size 432x288 with 1 Axes>"
      ]
     },
     "metadata": {
      "needs_background": "light"
     },
     "output_type": "display_data"
    }
   ],
   "source": [
    "w = sw.plot_timeseries(recording_cmr)"
   ]
  },
  {
   "cell_type": "markdown",
   "metadata": {},
   "source": [
    "### Use `ephyviewer` to explore the signals"
   ]
  },
  {
   "cell_type": "code",
   "execution_count": null,
   "metadata": {},
   "outputs": [],
   "source": [
    "import ephyviewer\n",
    "app = ephyviewer.mkQApp()\n",
    "win = ephyviewer.MainViewer(debug=False, show_auto_scale=True)"
   ]
  },
  {
   "cell_type": "code",
   "execution_count": null,
   "metadata": {
    "pycharm": {
     "name": "#%%\n"
    }
   },
   "outputs": [],
   "source": [
    "sig_source = ephyviewer.SpikeInterfaceRecordingSource(recording=recording)\n",
    "sig_filtered_source = ephyviewer.SpikeInterfaceRecordingSource(recording=recording_f)\n",
    "sig_cmr_source = ephyviewer.SpikeInterfaceRecordingSource(recording=recording_cmr)"
   ]
  },
  {
   "cell_type": "code",
   "execution_count": null,
   "metadata": {},
   "outputs": [],
   "source": [
    "view1 = ephyviewer.TraceViewer(source=sig_source, name='raw')\n",
    "view1.params['scale_mode'] = 'same_for_all'\n",
    "win.add_view(view1)\n",
    "\n",
    "view2 = ephyviewer.TraceViewer(source=sig_filtered_source, name='filtered')\n",
    "view2.params['scale_mode'] = 'same_for_all'\n",
    "win.add_view(view2)\n",
    "\n",
    "view3 = ephyviewer.TraceViewer(source=sig_filtered_source, name='cmr')\n",
    "view3.params['scale_mode'] = 'same_for_all'\n",
    "win.add_view(view3)"
   ]
  },
  {
   "cell_type": "code",
   "execution_count": null,
   "metadata": {
    "pycharm": {
     "name": "#%%\n"
    }
   },
   "outputs": [
    {
     "data": {
      "text/plain": [
       "0"
      ]
     },
     "execution_count": 90,
     "metadata": {},
     "output_type": "execute_result"
    }
   ],
   "source": [
    "win.show()\n",
    "app.exec_()"
   ]
  },
  {
   "cell_type": "markdown",
   "metadata": {},
   "source": [
    "## take only 5 min. for demo"
   ]
  },
  {
   "cell_type": "markdown",
   "metadata": {
    "pycharm": {
     "name": "#%% md\n"
    }
   },
   "source": [
    "Since we are going to spike sort the data, let's first cut out a 5-minute recording, to speed up computations.\n",
    "\n",
    "We can easily do so with the `frame_slice()` function:"
   ]
  },
  {
   "cell_type": "code",
   "execution_count": 37,
   "metadata": {
    "pycharm": {
     "name": "#%%\n"
    }
   },
   "outputs": [
    {
     "data": {
      "text/plain": [
       "FrameSliceRecording: 16 channels - 1 segments - 20.0kHz - 300.000s"
      ]
     },
     "execution_count": 37,
     "metadata": {},
     "output_type": "execute_result"
    }
   ],
   "source": [
    "fs = recording_cmr.get_sampling_frequency()\n",
    "recording_sub = recording_cmr.frame_slice(start_frame=0*fs, end_frame=300*fs)\n",
    "recording_sub"
   ]
  },
  {
   "cell_type": "markdown",
   "metadata": {
    "pycharm": {
     "name": "#%% md\n"
    }
   },
   "source": [
    "# 3. Saving and loading SpikeInterface objects <a class=\"anchor\" id=\"save-load\"></a>\n",
    "\n",
    "All operations in SpikeInterface are *lazy*, meaning that they are not performed if not needed. This is why the creation of our filter recording was almost instantaneous. However, to speed up further processing, we might want to **save** it to a file and perform those operations (eg. filters, CMR, etc.) at once. "
   ]
  },
  {
   "cell_type": "code",
   "execution_count": 38,
   "metadata": {
    "pycharm": {
     "name": "#%%\n"
    }
   },
   "outputs": [
    {
     "name": "stdout",
     "output_type": "stream",
     "text": [
      "write_binary_recording with n_jobs 4  chunk_size 781250\n"
     ]
    },
    {
     "name": "stderr",
     "output_type": "stream",
     "text": [
      "write_binary_recording: 100%|██████████| 8/8 [00:02<00:00,  3.69it/s]\n"
     ]
    }
   ],
   "source": [
    "recording_saved = recording_sub.save(folder=base_folder/\"preprocessed\", progress_bar=True, \n",
    "                                     n_jobs=4, total_memory=\"100M\")"
   ]
  },
  {
   "cell_type": "markdown",
   "metadata": {
    "pycharm": {
     "name": "#%% md\n"
    }
   },
   "source": [
    "If we inspect the `preprocessed` folder, we find that a few files have been saved. Let's take a look at what they are:"
   ]
  },
  {
   "cell_type": "code",
   "execution_count": 39,
   "metadata": {},
   "outputs": [
    {
     "data": {
      "text/plain": [
       "BinaryRecordingExtractor: 16 channels - 1 segments - 20.0kHz - 300.000s\n",
       "  file_paths: ['/data_local/DataSpikeSorting/data_tutorial/McKenzie/preprocessed/traces_cached_seg0.raw']"
      ]
     },
     "execution_count": 39,
     "metadata": {},
     "output_type": "execute_result"
    }
   ],
   "source": [
    "recording_saved"
   ]
  },
  {
   "cell_type": "code",
   "execution_count": 40,
   "metadata": {
    "pycharm": {
     "name": "#%%\n"
    }
   },
   "outputs": [
    {
     "name": "stdout",
     "output_type": "stream",
     "text": [
      "total 187572\n",
      "-rw-rw---- 1 samuel.garcia crnl      5315 mai    3 18:53 cached.json\n",
      "-rw-rw---- 1 samuel.garcia crnl     10979 mai    3 18:53 probe.json\n",
      "drwxrwx--- 2 samuel.garcia crnl      4096 mai    3 18:53 properties\n",
      "-rw-rw---- 1 samuel.garcia crnl     46753 mai    3 18:52 provenance.json\n",
      "-rw-rw---- 1 samuel.garcia crnl 192000000 mai    3 18:53 traces_cached_seg0.raw\n"
     ]
    }
   ],
   "source": [
    "!ls -ll {base_folder}/preprocessed"
   ]
  },
  {
   "cell_type": "markdown",
   "metadata": {
    "pycharm": {
     "name": "#%% md\n"
    }
   },
   "source": [
    "The `traces_cached_seg0.raw` contains the processed raw data, while the `.json` files include information on how to reload the binary file. The `provenance.json` includes the information of the recording before saving it to a binary file, and the `probe.json` represents the probe object. "
   ]
  },
  {
   "cell_type": "markdown",
   "metadata": {
    "pycharm": {
     "name": "#%% md\n"
    }
   },
   "source": [
    "The `save` returns a new *cached* recording that has all the previously loaded information:"
   ]
  },
  {
   "cell_type": "code",
   "execution_count": 41,
   "metadata": {
    "pycharm": {
     "name": "#%%\n"
    }
   },
   "outputs": [
    {
     "name": "stdout",
     "output_type": "stream",
     "text": [
      "Cached channels ids: [ 7  8  9 10 11 12 13 14 15 20 21 22 23 24 25 27]\n",
      "Channel groups after caching: [0 0 0 0 0 0 0 0 0 0 0 0 0 0 0 0]\n"
     ]
    }
   ],
   "source": [
    "print(f'Cached channels ids: {recording_saved.get_channel_ids()}')\n",
    "print(f'Channel groups after caching: {recording_saved.get_channel_groups()}')"
   ]
  },
  {
   "cell_type": "markdown",
   "metadata": {
    "pycharm": {
     "name": "#%% md\n"
    }
   },
   "source": [
    "After saving the SI object, we can easily load it back in a new session:"
   ]
  },
  {
   "cell_type": "code",
   "execution_count": 42,
   "metadata": {
    "pycharm": {
     "name": "#%%\n"
    }
   },
   "outputs": [],
   "source": [
    "recording_loaded = si.load_extractor(base_folder/\"preprocessed\")"
   ]
  },
  {
   "cell_type": "code",
   "execution_count": 43,
   "metadata": {},
   "outputs": [
    {
     "name": "stdout",
     "output_type": "stream",
     "text": [
      "Loaded channels ids: [ 7  8  9 10 11 12 13 14 15 20 21 22 23 24 25 27]\n",
      "Channel groups after loading: [0 0 0 0 0 0 0 0 0 0 0 0 0 0 0 0]\n"
     ]
    }
   ],
   "source": [
    "print(f'Loaded channels ids: {recording_loaded.get_channel_ids()}')\n",
    "print(f'Channel groups after loading: {recording_loaded.get_channel_groups()}')"
   ]
  },
  {
   "cell_type": "markdown",
   "metadata": {},
   "source": [
    "We can double check that the traces are exactly the same as the `recording_saved` that we saved:"
   ]
  },
  {
   "cell_type": "code",
   "execution_count": 44,
   "metadata": {},
   "outputs": [
    {
     "data": {
      "text/plain": [
       "Text(0.5, 1.0, 'Loaded')"
      ]
     },
     "execution_count": 44,
     "metadata": {},
     "output_type": "execute_result"
    },
    {
     "data": {
      "image/png": "[encoded data removed]",
      "text/plain": [
       "<Figure size 432x288 with 2 Axes>"
      ]
     },
     "metadata": {
      "needs_background": "light"
     },
     "output_type": "display_data"
    }
   ],
   "source": [
    "fig, axs = plt.subplots(ncols=2)\n",
    "w_saved = sw.plot_timeseries(recording_saved, ax=axs[0])\n",
    "w_loaded = sw.plot_timeseries(recording_loaded, ax=axs[1])\n",
    "axs[0].set_title(\"Saved\")\n",
    "axs[1].set_title(\"Loaded\")"
   ]
  },
  {
   "cell_type": "markdown",
   "metadata": {
    "pycharm": {
     "name": "#%% md\n"
    }
   },
   "source": [
    "**IMPORTANT**: the same saving mechanisms are available also for all SortingExtractor"
   ]
  },
  {
   "cell_type": "markdown",
   "metadata": {},
   "source": [
    "# 4. Spike sorting <a class=\"anchor\" id=\"spike-sorting\"></a>\n",
    "\n",
    "We can now run spike sorting on the above recording. We will use `tridesclous` and `ironclust` for this demonstration, to show how easy SpikeInterface makes it easy to interchengably run different sorters :)\n",
    "\n",
    "Let's first check the installed sorters in spiketoolkit to see if herdingspikes is available. Then we can then check the `tridesclous` default parameters.\n",
    "We will sort the bandpass cached filtered recording the `recording_saved` object."
   ]
  },
  {
   "cell_type": "code",
   "execution_count": 46,
   "metadata": {},
   "outputs": [
    {
     "name": "stdout",
     "output_type": "stream",
     "text": [
      "RUNNING SHELL SCRIPT: /tmp/tmp_shellscriptx238dw6k/script.sh\n"
     ]
    },
    {
     "data": {
      "text/plain": [
       "['herdingspikes', 'pykilosort', 'spykingcircus', 'tridesclous']"
      ]
     },
     "execution_count": 46,
     "metadata": {},
     "output_type": "execute_result"
    }
   ],
   "source": [
    "ss.installed_sorters()"
   ]
  },
  {
   "cell_type": "markdown",
   "metadata": {},
   "source": [
    "We can retrieve the parameters associated to any sorter with the `get_default_params()` function from the `sorters` module:"
   ]
  },
  {
   "cell_type": "code",
   "execution_count": 47,
   "metadata": {
    "pycharm": {
     "name": "#%%\n"
    }
   },
   "outputs": [
    {
     "data": {
      "text/plain": [
       "{'freq_min': 400.0,\n",
       " 'freq_max': 5000.0,\n",
       " 'detect_sign': -1,\n",
       " 'detect_threshold': 5,\n",
       " 'common_ref_removal': False,\n",
       " 'nested_params': None,\n",
       " 'total_memory': '500M',\n",
       " 'n_jobs_bin': 1}"
      ]
     },
     "execution_count": 47,
     "metadata": {},
     "output_type": "execute_result"
    }
   ],
   "source": [
    "ss.get_default_params('tridesclous')"
   ]
  },
  {
   "cell_type": "code",
   "execution_count": 48,
   "metadata": {},
   "outputs": [
    {
     "data": {
      "text/plain": [
       "{'freq_min': 'High-pass filter cutoff frequency',\n",
       " 'freq_max': 'Low-pass filter cutoff frequency',\n",
       " 'detect_threshold': 'Threshold for spike detection',\n",
       " 'detect_sign': 'Use -1 (negative) or 1 (positive) depending on the sign of the spikes in the recording',\n",
       " 'common_ref_removal': 'remove common reference with median',\n",
       " 'total_memory': 'Chunk size in Mb for saving to binary format (default 500Mb)',\n",
       " 'n_jobs_bin': 'Number of jobs for saving to binary format (Default 1)'}"
      ]
     },
     "execution_count": 48,
     "metadata": {},
     "output_type": "execute_result"
    }
   ],
   "source": [
    "ss.get_params_description('tridesclous')"
   ]
  },
  {
   "cell_type": "code",
   "execution_count": 49,
   "metadata": {
    "pycharm": {
     "name": "#%%\n"
    }
   },
   "outputs": [
    {
     "name": "stdout",
     "output_type": "stream",
     "text": [
      "\u001b[0;31mSignature:\u001b[0m\n",
      "\u001b[0mss\u001b[0m\u001b[0;34m.\u001b[0m\u001b[0mrun_sorter\u001b[0m\u001b[0;34m(\u001b[0m\u001b[0;34m\u001b[0m\n",
      "\u001b[0;34m\u001b[0m    \u001b[0msorter_name\u001b[0m\u001b[0;34m,\u001b[0m\u001b[0;34m\u001b[0m\n",
      "\u001b[0;34m\u001b[0m    \u001b[0mrecording\u001b[0m\u001b[0;34m,\u001b[0m\u001b[0;34m\u001b[0m\n",
      "\u001b[0;34m\u001b[0m    \u001b[0moutput_folder\u001b[0m\u001b[0;34m=\u001b[0m\u001b[0;32mNone\u001b[0m\u001b[0;34m,\u001b[0m\u001b[0;34m\u001b[0m\n",
      "\u001b[0;34m\u001b[0m    \u001b[0mremove_existing_folder\u001b[0m\u001b[0;34m=\u001b[0m\u001b[0;32mTrue\u001b[0m\u001b[0;34m,\u001b[0m\u001b[0;34m\u001b[0m\n",
      "\u001b[0;34m\u001b[0m    \u001b[0mdelete_output_folder\u001b[0m\u001b[0;34m=\u001b[0m\u001b[0;32mFalse\u001b[0m\u001b[0;34m,\u001b[0m\u001b[0;34m\u001b[0m\n",
      "\u001b[0;34m\u001b[0m    \u001b[0mverbose\u001b[0m\u001b[0;34m=\u001b[0m\u001b[0;32mFalse\u001b[0m\u001b[0;34m,\u001b[0m\u001b[0;34m\u001b[0m\n",
      "\u001b[0;34m\u001b[0m    \u001b[0mraise_error\u001b[0m\u001b[0;34m=\u001b[0m\u001b[0;32mTrue\u001b[0m\u001b[0;34m,\u001b[0m\u001b[0;34m\u001b[0m\n",
      "\u001b[0;34m\u001b[0m    \u001b[0mdocker_image\u001b[0m\u001b[0;34m=\u001b[0m\u001b[0;32mNone\u001b[0m\u001b[0;34m,\u001b[0m\u001b[0;34m\u001b[0m\n",
      "\u001b[0;34m\u001b[0m    \u001b[0msingularity_image\u001b[0m\u001b[0;34m=\u001b[0m\u001b[0;32mNone\u001b[0m\u001b[0;34m,\u001b[0m\u001b[0;34m\u001b[0m\n",
      "\u001b[0;34m\u001b[0m    \u001b[0mwith_output\u001b[0m\u001b[0;34m=\u001b[0m\u001b[0;32mTrue\u001b[0m\u001b[0;34m,\u001b[0m\u001b[0;34m\u001b[0m\n",
      "\u001b[0;34m\u001b[0m    \u001b[0;34m**\u001b[0m\u001b[0msorter_params\u001b[0m\u001b[0;34m,\u001b[0m\u001b[0;34m\u001b[0m\n",
      "\u001b[0;34m\u001b[0m\u001b[0;34m)\u001b[0m\u001b[0;34m\u001b[0m\u001b[0;34m\u001b[0m\u001b[0m\n",
      "\u001b[0;31mDocstring:\u001b[0m <no docstring>\n",
      "\u001b[0;31mFile:\u001b[0m      ~/Documents/SpikeInterface/spikeinterface/spikeinterface/sorters/runsorter.py\n",
      "\u001b[0;31mType:\u001b[0m      function\n"
     ]
    }
   ],
   "source": [
    "ss.run_sorter?"
   ]
  },
  {
   "cell_type": "code",
   "execution_count": 50,
   "metadata": {},
   "outputs": [
    {
     "name": "stdout",
     "output_type": "stream",
     "text": [
      "\u001b[0;31mSignature:\u001b[0m \u001b[0mss\u001b[0m\u001b[0;34m.\u001b[0m\u001b[0mrun_tridesclous\u001b[0m\u001b[0;34m(\u001b[0m\u001b[0;34m*\u001b[0m\u001b[0margs\u001b[0m\u001b[0;34m,\u001b[0m \u001b[0;34m**\u001b[0m\u001b[0mkwargs\u001b[0m\u001b[0;34m)\u001b[0m\u001b[0;34m\u001b[0m\u001b[0;34m\u001b[0m\u001b[0m\n",
      "\u001b[0;31mDocstring:\u001b[0m\n",
      "Runs tridesclous sorter\n",
      "\n",
      "Parameters\n",
      "----------\n",
      "sorter_name: str\n",
      "    The sorter name\n",
      "recording: RecordingExtractor\n",
      "    The recording extractor to be spike sorted\n",
      "output_folder: str or Path\n",
      "    Path to output folder\n",
      "remove_existing_folder: bool\n",
      "    If True and output_folder exists yet then delete.\n",
      "delete_output_folder: bool\n",
      "    If True, output folder is deleted (default False)\n",
      "verbose: bool\n",
      "    If True, output is verbose\n",
      "raise_error: bool\n",
      "    If True, an error is raised if spike sorting fails (default).\n",
      "    If False, the process continues and the error is logged in the log file.\n",
      "docker_image: None or str\n",
      "    If str run the sorter inside a container (docker) using the docker package.\n",
      "**sorter_params: keyword args\n",
      "    Spike sorter specific arguments (they can be retrieved with 'get_default_params(sorter_name_or_class)'\n",
      "\n",
      "Returns\n",
      "-------\n",
      "sortingextractor: SortingExtractor\n",
      "    The spike sorted data\n",
      "\u001b[0;31mFile:\u001b[0m      ~/Documents/SpikeInterface/spikeinterface/spikeinterface/sorters/runsorter.py\n",
      "\u001b[0;31mType:\u001b[0m      function\n"
     ]
    }
   ],
   "source": [
    "ss.run_tridesclous?"
   ]
  },
  {
   "cell_type": "markdown",
   "metadata": {
    "pycharm": {
     "name": "#%% md\n"
    }
   },
   "source": [
    "To modify a parameter, we can easily pass it to the `run` function as an extra argument!\n",
    "For example, let's set the `filter` parameter to False as the recording is already preprocessed:"
   ]
  },
  {
   "cell_type": "code",
   "execution_count": 51,
   "metadata": {
    "scrolled": true
   },
   "outputs": [
    {
     "name": "stdout",
     "output_type": "stream",
     "text": [
      "DataIO <id: 139949043231136> \n",
      "  workdir: /data_local/DataSpikeSorting/data_tutorial/McKenzie/results_TDC\n",
      "  sample_rate: 20000.0\n",
      "  total_channel: 16\n",
      "  channel_groups: 0 [ch0 ch1 ch2 ch3 ... ch12 ch13 ch14 ch15]\n",
      "  nb_segment: 1\n",
      "  length: 6000000\n",
      "  durations: 300.0 s.\n",
      "catalogue_nested_params\n",
      "{'chunksize': 20000,\n",
      " 'clean_cluster': {'apply_auto_merge_cluster': True,\n",
      "                   'apply_auto_split': True,\n",
      "                   'apply_trash_low_extremum': True,\n",
      "                   'apply_trash_not_aligned': True,\n",
      "                   'apply_trash_small_cluster': True},\n",
      " 'clean_peaks': {'alien_value_threshold': -1.0, 'mode': 'extremum_amplitude'},\n",
      " 'cluster_kargs': {'adjacency_radius_um': 50.0,\n",
      "                   'high_adjacency_radius_um': 30.0,\n",
      "                   'max_loop': 1000,\n",
      "                   'min_cluster_size': 20},\n",
      " 'cluster_method': 'pruningshears',\n",
      " 'duration': 300.0,\n",
      " 'extract_waveforms': {'wf_left_long_ms': -2.5,\n",
      "                       'wf_left_ms': -1.0,\n",
      "                       'wf_right_long_ms': 3.5,\n",
      "                       'wf_right_ms': 1.5},\n",
      " 'feature_kargs': {'adjacency_radius_um': 50.0, 'n_components_by_channel': 3},\n",
      " 'feature_method': 'pca_by_channel',\n",
      " 'make_catalogue': {'inter_sample_oversampling': False,\n",
      "                    'sparse_thresh_level2': 3,\n",
      "                    'subsample_ratio': 'auto'},\n",
      " 'memory_mode': 'memmap',\n",
      " 'mode': 'sparse',\n",
      " 'n_jobs': -1,\n",
      " 'n_spike_for_centroid': 350,\n",
      " 'noise_snippet': {'nb_snippet': 300},\n",
      " 'peak_detector': {'adjacency_radius_um': 200.0,\n",
      "                   'engine': 'opencl',\n",
      "                   'method': 'geometrical',\n",
      "                   'peak_sign': '-',\n",
      "                   'peak_span_ms': 0.7,\n",
      "                   'relative_threshold': 5,\n",
      "                   'smooth_radius_um': None},\n",
      " 'peak_sampler': {'mode': 'rand_by_channel',\n",
      "                  'nb_max': 20000,\n",
      "                  'nb_max_by_channel': 1000},\n",
      " 'preprocessor': {'common_ref_removal': False,\n",
      "                  'engine': 'numpy',\n",
      "                  'highpass_freq': 400.0,\n",
      "                  'lowpass_freq': 5000.0,\n",
      "                  'pad_width': -1,\n",
      "                  'smooth_size': 0},\n",
      " 'sparse_threshold': 1.5}\n",
      "peeler_params\n",
      "{'chunksize': 20000, 'engine': 'geometrical'}\n",
      "estimate_signals_noise 0.3017297349870205\n",
      "run_signalprocessor 5.567585033131763\n",
      "clean_peaks 0.007603660924360156\n",
      "sample_some_peaks 0.07678343309089541\n",
      "extract_some_noise 0.15707792597822845\n",
      "extract_some_features 2.3928445240017027\n",
      "find_clusters 1.9769485029391944\n",
      "cache_some_waveforms 0.06439889199100435\n",
      "compute_all_centroid 0.3050595251843333\n",
      "auto_split_cluster 4.45359795098193\n",
      "trash_not_aligned 0.024456873070448637\n",
      "auto_merge_cluster 0.10216019512154162\n",
      "trash_low_extremum 0.0224657179787755\n",
      "trash_small_cluster 0.023727196967229247\n",
      "make_catalogue_for_peeler 0.8932446911931038\n",
      "CatalogueConstructor\n",
      "  chan_grp 0 - ch0 ch1 ch2 ... ch14 ch15\n",
      "  nb_peak_by_segment: 70680\n",
      "  some_features.shape: (14514, 48)\n",
      "  cluster_labels 14 [-11 -1 0 ... 12 13]\n",
      "\n",
      "peeler.tun 23.669715523021296\n",
      "tridesclous run time 52.65s\n"
     ]
    }
   ],
   "source": [
    "# run spike sorting on entire recording\n",
    "sorting_TDC = ss.run_sorter('tridesclous', recording_saved, output_folder=base_folder/'results_TDC', verbose=True)\n"
   ]
  },
  {
   "cell_type": "code",
   "execution_count": 52,
   "metadata": {},
   "outputs": [
    {
     "data": {
      "text/plain": [
       "TridesclousSortingExtractor: 14 units - 1 segments - 20.0kHz"
      ]
     },
     "execution_count": 52,
     "metadata": {},
     "output_type": "execute_result"
    }
   ],
   "source": [
    "sorting_TDC"
   ]
  },
  {
   "cell_type": "code",
   "execution_count": 53,
   "metadata": {},
   "outputs": [
    {
     "name": "stdout",
     "output_type": "stream",
     "text": [
      "Found 14 units\n"
     ]
    }
   ],
   "source": [
    "print('Found', len(sorting_TDC.get_unit_ids()), 'units')"
   ]
  },
  {
   "cell_type": "markdown",
   "metadata": {
    "pycharm": {
     "name": "#%% md\n"
    }
   },
   "source": [
    "SpikeInterface ensures full provenance of the spike sorting pipeline. Upon running a spike sorter, a `spikeinterface_params.json` file is saved in the `output_folder`. This contains a `.json` version of the recording and all the input parameters. "
   ]
  },
  {
   "cell_type": "code",
   "execution_count": 55,
   "metadata": {
    "pycharm": {
     "name": "#%%\n"
    }
   },
   "outputs": [
    {
     "name": "stdout",
     "output_type": "stream",
     "text": [
      "channel_group_0  probe.prb\t\t  spikeinterface_params.json\n",
      "info.json\t spikeinterface_log.json  spikeinterface_recording.json\n"
     ]
    }
   ],
   "source": [
    "!ls {base_folder}/results_TDC"
   ]
  },
  {
   "cell_type": "code",
   "execution_count": 56,
   "metadata": {},
   "outputs": [
    {
     "name": "stdout",
     "output_type": "stream",
     "text": [
      "{\n",
      "    \"sorter_name\": \"tridesclous\",\n",
      "    \"sorter_params\": {\n",
      "        \"freq_min\": 400.0,\n",
      "        \"freq_max\": 5000.0,\n",
      "        \"detect_sign\": -1,\n",
      "        \"detect_threshold\": 5,\n",
      "        \"common_ref_removal\": false,\n",
      "        \"nested_params\": null,\n",
      "        \"total_memory\": \"500M\",\n",
      "        \"n_jobs_bin\": 1\n",
      "    }\n",
      "}"
     ]
    }
   ],
   "source": [
    "!cat {base_folder}/results_TDC/spikeinterface_params.json"
   ]
  },
  {
   "cell_type": "markdown",
   "metadata": {},
   "source": [
    "### Installing IronClust (requires MATLAB)\n",
    "\n",
    "For MATLAB-based sorters, all you need to do is cloning the sorter repo and point it to SpikeInterface:\n",
    "\n",
    "Let's clone ironclust in the current directory:"
   ]
  },
  {
   "cell_type": "code",
   "execution_count": 57,
   "metadata": {},
   "outputs": [
    {
     "name": "stdout",
     "output_type": "stream",
     "text": [
      "Clonage dans 'ironclust'...\n",
      "remote: Enumerating objects: 4964, done.\n",
      "remote: Counting objects: 100% (189/189), done.\n",
      "remote: Compressing objects: 100% (88/88), done.\n",
      "remote: Total 4964 (delta 131), reused 152 (delta 97), pack-reused 4775\n",
      "Réception d'objets: 100% (4964/4964), 83.82 Mio | 10.64 Mio/s, fait.\n",
      "Résolution des deltas: 100% (3556/3556), fait.\n",
      "Mise à jour des fichiers: 100% (846/846), fait.\n"
     ]
    }
   ],
   "source": [
    "!git clone https://github.com/flatironinstitute/ironclust"
   ]
  },
  {
   "cell_type": "markdown",
   "metadata": {
    "pycharm": {
     "name": "#%% md\n"
    }
   },
   "source": [
    "Now all we have to tell the IronClustSorter class where is the ironclust repo:"
   ]
  },
  {
   "cell_type": "code",
   "execution_count": 58,
   "metadata": {
    "pycharm": {
     "name": "#%%\n"
    }
   },
   "outputs": [
    {
     "name": "stdout",
     "output_type": "stream",
     "text": [
      "Setting IRONCLUST_PATH environment variable for subprocess calls to: /home/samuel.garcia/Documents/presentation/2022_rome_spikeinterface/ironclust\n"
     ]
    }
   ],
   "source": [
    "ss.IronClustSorter.set_ironclust_path('./ironclust')"
   ]
  },
  {
   "cell_type": "markdown",
   "metadata": {
    "pycharm": {
     "name": "#%% md\n"
    }
   },
   "source": [
    "Note that we can also set a global environment variable called `IRONCLUST_PATH`. In that case we don't need to set the path in each session because the sorter class looks for this environment variable.\n",
    "\n",
    "Now ironclust should be installed and we can run it:"
   ]
  },
  {
   "cell_type": "code",
   "execution_count": 59,
   "metadata": {
    "pycharm": {
     "name": "#%%\n"
    }
   },
   "outputs": [
    {
     "data": {
      "text/plain": [
       "'/home/samuel.garcia/Documents/presentation/2022_rome_spikeinterface/ironclust'"
      ]
     },
     "execution_count": 59,
     "metadata": {},
     "output_type": "execute_result"
    }
   ],
   "source": [
    "ss.IronClustSorter.ironclust_path"
   ]
  },
  {
   "cell_type": "code",
   "execution_count": 60,
   "metadata": {},
   "outputs": [
    {
     "name": "stdout",
     "output_type": "stream",
     "text": [
      "RUNNING SHELL SCRIPT: /tmp/tmp_shellscript7ltetkk0/script.sh\n"
     ]
    },
    {
     "data": {
      "text/plain": [
       "['herdingspikes', 'ironclust', 'pykilosort', 'spykingcircus', 'tridesclous']"
      ]
     },
     "execution_count": 60,
     "metadata": {},
     "output_type": "execute_result"
    }
   ],
   "source": [
    "ss.installed_sorters()"
   ]
  },
  {
   "cell_type": "code",
   "execution_count": 61,
   "metadata": {
    "pycharm": {
     "name": "#%%\n"
    },
    "scrolled": true
   },
   "outputs": [
    {
     "name": "stdout",
     "output_type": "stream",
     "text": [
      "RUNNING SHELL SCRIPT: /tmp/tmp_shellscriptcdep_11w/script.sh\n",
      "Warning! The recording is already filtered, but ironclust filter is enabled\n",
      "write_binary_recording with n_jobs 1  chunk_size 15625000\n",
      "channels = 16, timepoints = 6000000, duration = 5.0 minutes\n",
      "Creating argfile.txt...\n",
      "RUNNING SHELL SCRIPT: /tmp/tmp_shellscriptrxi8t2ju/script.sh\n",
      "Running ironclust in /data_local/DataSpikeSorting/data_tutorial/McKenzie/results_IC/tmp...\n",
      "RUNNING SHELL SCRIPT: /tmp/tmp_shellscriptd1e19_wp/script.sh\n",
      "RUNNING SHELL SCRIPT: /data_local/DataSpikeSorting/data_tutorial/McKenzie/results_IC/run_ironclust.sh\n",
      "\n",
      "\n",
      "                            < M A T L A B (R) >\n",
      "\n",
      "                  Copyright 1984-2020 The MathWorks, Inc.\n",
      "\n",
      "              R2020a Update 2 (9.8.0.1380330) 64-bit (glnxa64)\n",
      "\n",
      "                                May 5, 2020\n",
      "\n",
      "\n",
      "\n",
      "\n",
      "\n",
      "                            < M A T L A B (R) >\n",
      "\n",
      "                  Copyright 1984-2020 The MathWorks, Inc.\n",
      "\n",
      "              R2020a Update 2 (9.8.0.1380330) 64-bit (glnxa64)\n",
      "\n",
      "                                May 5, 2020\n",
      "\n",
      "\n",
      "\n",
      " \n",
      "\n",
      " \n",
      "\n",
      "To get started, type doc.\n",
      "\n",
      "To get started, type doc.\n",
      "\n",
      "For product information, visit www.mathworks.com.\n",
      "\n",
      "For product information, visit www.mathworks.com.\n",
      "\n",
      " \n",
      "\n",
      " \n",
      "\n",
      "===================================================\n",
      "\n",
      "===================================================\n",
      "\n",
      "IronClust Version: 2\n",
      "\n",
      "IronClust Version: 2\n",
      "\n",
      "===================================================\n",
      "\n",
      "===================================================\n",
      "\n",
      "Removed 0 lock(s).\n",
      "\n",
      "Removed 0 lock(s).\n",
      "\n",
      "Running irc2.m (5.9.8)\n",
      "\n",
      "Running irc2.m (5.9.8)\n",
      "\n",
      "Created /data_local/DataSpikeSorting/data_tutorial/McKenzie/results_IC/tmp/raw_geom.prm\n",
      "\n",
      "Created /data_local/DataSpikeSorting/data_tutorial/McKenzie/results_IC/tmp/raw_geom.prm\n",
      "\n",
      "Read /data_local/DataSpikeSorting/data_tutorial/McKenzie/results_IC/ironclust_dataset/raw.mda (1/1), took 0.4s (479.3 MB/s, 192.0 MB)\n",
      "\n",
      "Read /data_local/DataSpikeSorting/data_tutorial/McKenzie/results_IC/ironclust_dataset/raw.mda (1/1), took 0.4s (479.3 MB/s, 192.0 MB)\n",
      "\n",
      "\tget_prinvec_: took 0.3s\n",
      "\n",
      "\tget_prinvec_: took 0.3s\n",
      "\n",
      "\tDetecting 1/1: 154026 spikes found (16620.5 spikes/s, 20.7 MB/s, took 9.3 s)\n",
      "\n",
      "\tDetecting 1/1: 154026 spikes found (16620.5 spikes/s, 20.7 MB/s, took 9.3 s)\n",
      "\n",
      "Detection took 9.8s and used 0.640 GiB (fParfor=0, fGpu=1)\n",
      "\n",
      "Detection took 9.8s and used 0.640 GiB (fParfor=0, fGpu=1)\n",
      "\n",
      "Saving a struct to /data_local/DataSpikeSorting/data_tutorial/McKenzie/results_IC/tmp/detect_9f9d5782701ef0a4c201ab8b205750a2/detect_irc.mat: Saving a struct to /data_local/DataSpikeSorting/data_tutorial/McKenzie/results_IC/tmp/detect_9f9d5782701ef0a4c201ab8b205750a2/detect_irc.mat: took 0.0s.\n",
      "\n",
      "took 0.0s.\n",
      "\n",
      "Clustering\n",
      "\n",
      "Clustering\n",
      "\n",
      "Calculating drift similarity...Calculating drift similarity...\n",
      "\n",
      "\ttook 0.0s\n",
      "\n",
      "\n",
      "\n",
      "\ttook 0.0s\n",
      "\n",
      "sort_page_: calculating Rho...\n",
      "\n",
      "sort_page_: calculating Rho...\n",
      "\n",
      "Page 1/1 Page 1/1 ................................ took 3.5s\n",
      "\n",
      " took 3.5s\n",
      "\n",
      "calculating Rho took 3.5s\n",
      "\n",
      "calculating Rho took 3.5s\n",
      "\n",
      "sort_page_: calculating Delta...\n",
      "\n",
      "sort_page_: calculating Delta...\n",
      "\n",
      "Page 1/1 Page 1/1 ................................ took 3.3s\n",
      "\n",
      " took 3.3s\n",
      "\n",
      "calculating Delta took 3.3s\n",
      "\n",
      "calculating Delta took 3.3s\n",
      "\n",
      "sort_long_: took 6.8s (fGpu=1, fParfor=0)\n",
      "\n",
      "sort_long_: took 6.8s (fGpu=1, fParfor=0)\n",
      "\n",
      "Saving a struct to /data_local/DataSpikeSorting/data_tutorial/McKenzie/results_IC/tmp/detect_9f9d5782701ef0a4c201ab8b205750a2/sort_b5e8be3adbd834d6471ca94e5d41d629/sort_irc.mat: Saving a struct to /data_local/DataSpikeSorting/data_tutorial/McKenzie/results_IC/tmp/detect_9f9d5782701ef0a4c201ab8b205750a2/sort_b5e8be3adbd834d6471ca94e5d41d629/sort_irc.mat: took 0.0s.\n",
      "\n",
      "took 0.0s.\n",
      "\n",
      "\n",
      "\n",
      "auto-merging...\n",
      "\n",
      "\n",
      "\n",
      "auto-merging...\n",
      "\n",
      "\tpostCluster_...\n",
      "\n",
      "\tpostCluster_...\n",
      "\n",
      "\tcell2map_: \tcell2map_: ...... nRepeat=4, took 0.0s\n",
      "\n",
      " nRepeat=4, took 0.0s\n",
      "\n",
      "\tnRepeat:1, n0=0\n",
      "\n",
      "\tnRepeat:1, n0=0\n",
      "\n",
      "\tpostCluster_: Pre-merged 128->62->62 clusters, took 0.2s\n",
      "\n",
      "\tpostCluster_: Pre-merged 128->62->62 clusters, took 0.2s\n",
      "\n",
      "\tisolation_score_: took 0.2s\n",
      "\n",
      "\tisolation_score_: took 0.2s\n",
      "\n",
      "\tcell2map_: \tcell2map_: .... nRepeat=3, took 0.0s\n",
      "\n",
      " nRepeat=3, took 0.0s\n",
      "\n",
      "\tknn_overlap_merge_: 62->25 units\n",
      "\n",
      "\tknn_overlap_merge_: 62->25 units\n",
      "\n",
      "Removed 488/154026 (0.3%) duplicate spikes, took 0.0s\n",
      "\n",
      "Removed 488/154026 (0.3%) duplicate spikes, took 0.0s\n",
      "\n",
      "\tMerging templates...\n",
      "\n",
      "\t\tMerging templates...\n",
      "\n",
      "\t................................\n",
      "\n",
      "\n",
      "\n",
      "\tcell2map_: \tcell2map_: .. nRepeat=2, took 0.0s\n",
      "\n",
      " nRepeat=2, took 0.0s\n",
      "\n",
      "\tMerged waveforms (25->25->25), took 0.4s\n",
      "\n",
      "\tMerged waveforms (25->25->25), took 0.4s\n",
      "\n",
      "Removed 0/153538 (0.0%) duplicate spikes, took 0.0s\n",
      "\n",
      "Removed 0/153538 (0.0%) duplicate spikes, took 0.0s\n",
      "\n",
      "\tauto-merging took 1.0s (fGpu=1, fParfor=0)\n",
      "\n",
      "\tauto-merging took 1.0s (fGpu=1, fParfor=0)\n",
      "\n",
      "\tisolation_score_: took 0.1s\n",
      "\n",
      "\tisolation_score_: took 0.1s\n",
      "\n",
      "Wrote to /data_local/DataSpikeSorting/data_tutorial/McKenzie/results_IC/tmp/detect_9f9d5782701ef0a4c201ab8b205750a2/sort_b5e8be3adbd834d6471ca94e5d41d629/auto_f83832cfc7a58d1733a09ba4456e6515/firings.mda, took 0.0s\n",
      "\n",
      "Wrote to /data_local/DataSpikeSorting/data_tutorial/McKenzie/results_IC/tmp/detect_9f9d5782701ef0a4c201ab8b205750a2/sort_b5e8be3adbd834d6471ca94e5d41d629/auto_f83832cfc7a58d1733a09ba4456e6515/firings.mda, took 0.0s\n",
      "\n",
      "Saving a struct to /data_local/DataSpikeSorting/data_tutorial/McKenzie/results_IC/tmp/detect_9f9d5782701ef0a4c201ab8b205750a2/sort_b5e8be3adbd834d6471ca94e5d41d629/auto_f83832cfc7a58d1733a09ba4456e6515/auto_irc.mat: Saving a struct to /data_local/DataSpikeSorting/data_tutorial/McKenzie/results_IC/tmp/detect_9f9d5782701ef0a4c201ab8b205750a2/sort_b5e8be3adbd834d6471ca94e5d41d629/auto_f83832cfc7a58d1733a09ba4456e6515/auto_irc.mat: took 0.0s.\n",
      "\n",
      "took 0.0s.\n",
      "\n",
      "\n",
      "\n",
      "\n",
      "\n",
      "------------------------------\n",
      "\n",
      "------------------------------\n",
      "\n",
      "Summary of /data_local/DataSpikeSorting/data_tutorial/McKenzie/results_IC/tmp/raw_geom.prm\n",
      "\n",
      "Summary of /data_local/DataSpikeSorting/data_tutorial/McKenzie/results_IC/tmp/raw_geom.prm\n",
      "\n",
      "------------------------------\n",
      "\n",
      "------------------------------\n",
      "\n",
      "Recording format\n",
      "\n",
      "Recording format\n",
      "\n",
      "    Recording file:         /data_local/DataSpikeSorting/data_tutorial/McKenzie/results_IC/ironclust_dataset/raw.mda\n",
      "\n",
      "    Recording file:         /data_local/DataSpikeSorting/data_tutorial/McKenzie/results_IC/ironclust_dataset/raw.mda\n",
      "\n",
      "    Probe file:             /data_local/DataSpikeSorting/data_tutorial/McKenzie/results_IC/ironclust_dataset/geom.csv\n",
      "\n",
      "    Probe file:             /data_local/DataSpikeSorting/data_tutorial/McKenzie/results_IC/ironclust_dataset/geom.csv\n",
      "\n",
      "    Recording Duration:     300.0s\n",
      "\n",
      "    Recording Duration:     300.0s\n",
      "\n",
      "    Data Type:              int16\n",
      "\n",
      "    Data Type:              int16\n",
      "\n",
      "    #Channels in file:      16\n",
      "\n",
      "    #Channels in file:      16\n",
      "\n",
      "    #Sites:                 16\n",
      "\n",
      "    #Sites:                 16\n",
      "\n",
      "    #Shanks:                1\n",
      "\n",
      "    #Shanks:                1\n",
      "\n",
      "Pre-processing\n",
      "\n",
      "Pre-processing\n",
      "\n",
      "    Filter type:            bandpass\n",
      "\n",
      "    Filter type:            bandpass\n",
      "\n",
      "    Filter range (Hz):      [300.0, 8000.0]\n",
      "\n",
      "    Filter range (Hz):      [300.0, 8000.0]\n",
      "\n",
      "    Matched Filter:         0\n",
      "\n",
      "    Matched Filter:         0\n",
      "\n",
      "    Common ref:             trimmean\n",
      "\n",
      "    Common ref:             trimmean\n",
      "\n",
      "    Whiten:                 0\n",
      "\n",
      "    Whiten:                 0\n",
      "\n",
      "    FFT threshold:          8\n",
      "\n",
      "    FFT threshold:          8\n",
      "\n",
      "    blank threshold:        0\n",
      "\n",
      "    blank threshold:        0\n",
      "\n",
      "Events\n",
      "\n",
      "Events\n",
      "\n",
      "    #Spikes:                154026\n",
      "\n",
      "    #Spikes:                154026\n",
      "\n",
      "    Feature extracted:      gpca\n",
      "\n",
      "    Feature extracted:      gpca\n",
      "\n",
      "    #Sites/event:           12\n",
      "\n",
      "    #Sites/event:           12\n",
      "\n",
      "    maxDist_site_um:        50\n",
      "\n",
      "    maxDist_site_um:        50\n",
      "\n",
      "    maxDist_site_spk_um:    100\n",
      "\n",
      "    maxDist_site_spk_um:    100\n",
      "\n",
      "    spkLim_ms:              [-0.250, 0.750]\n",
      "\n",
      "    spkLim_ms:              [-0.250, 0.750]\n",
      "\n",
      "    #PC/chan:               9\n",
      "\n",
      "    #PC/chan:               9\n",
      "\n",
      "Cluster\n",
      "\n",
      "Cluster\n",
      "\n",
      "    #Clusters:              25\n",
      "\n",
      "    #Clusters:              25\n",
      "\n",
      "    #Unique events:         153538\n",
      "\n",
      "    #Unique events:         153538\n",
      "\n",
      "    min. spk/clu:           30\n",
      "\n",
      "    min. spk/clu:           30\n",
      "\n",
      "    Cluster method:         drift-knn\n",
      "\n",
      "    Cluster method:         drift-knn\n",
      "\n",
      "    knn:                    30\n",
      "\n",
      "    knn:                    30\n",
      "\n",
      "    step_sec_drift:         20.0s\n",
      "\n",
      "    step_sec_drift:         20.0s\n",
      "\n",
      "    batch_sec_drift:        300.0s\n",
      "\n",
      "    batch_sec_drift:        300.0s\n",
      "\n",
      "Auto-merge\n",
      "\n",
      "Auto-merge\n",
      "\n",
      "    merge_overlap_thresh:   0.950\n",
      "\n",
      "    merge_overlap_thresh:   0.950\n",
      "\n",
      "    delta_cut:              1.000\n",
      "\n",
      "    delta_cut:              1.000\n",
      "\n",
      "    merge_thresh_cc:        1.000\n",
      "\n",
      "    merge_thresh_cc:        1.000\n",
      "\n",
      "    maxWavCor:              0.985\n",
      "\n",
      "    maxWavCor:              0.985\n",
      "\n",
      "Runtime (s)\n",
      "\n",
      "Runtime (s)\n",
      "\n",
      "    Detect + feature (s):   9.8s\n",
      "\n",
      "    Detect + feature (s):   9.8s\n",
      "\n",
      "    Cluster runtime (s):    6.8s\n",
      "\n",
      "    Cluster runtime (s):    6.8s\n",
      "\n",
      "    merge runtime (s):      1.0s\n",
      "\n",
      "    merge runtime (s):      1.0s\n",
      "\n",
      "    Total runtime (s):      17.6s\n",
      "\n",
      "    Total runtime (s):      17.6s\n",
      "\n",
      "    Runtime speed:          x17.0 realtime\n",
      "\n",
      "    Runtime speed:          x17.0 realtime\n",
      "\n",
      "    Processing speed:       8743.6 spikes/s\n",
      "\n",
      "    Processing speed:       8743.6 spikes/s\n",
      "\n",
      "memory usage (GiB):         0.700\n",
      "\n",
      "memory usage (GiB):         0.700\n",
      "\n",
      "    detect:                 0.640\n",
      "\n",
      "    detect:                 0.640\n",
      "\n",
      "    sort:                   0.660\n",
      "\n",
      "    sort:                   0.660\n",
      "\n",
      "    auto-merge:             0.700\n",
      "\n",
      "    auto-merge:             0.700\n",
      "\n",
      "Execution\n",
      "\n",
      "Execution\n",
      "\n",
      "    irc2 version:           5.9.8\n",
      "\n",
      "    irc2 version:           5.9.8\n",
      "\n",
      "    fGpu (GPU use):         1\n",
      "\n",
      "    fGpu (GPU use):         1\n",
      "\n",
      "    fParfor (parfor use):   0\n",
      "\n",
      "    fParfor (parfor use):   0\n",
      "\n",
      "    fLargeRecording:        0\n",
      "\n",
      "    fLargeRecording:        0\n",
      "\n",
      "    Parameter file:         /data_local/DataSpikeSorting/data_tutorial/McKenzie/results_IC/tmp/raw_geom.prm\n",
      "\n",
      "    Parameter file:         /data_local/DataSpikeSorting/data_tutorial/McKenzie/results_IC/tmp/raw_geom.prm\n",
      "\n",
      "------------------------------\n",
      "\n",
      "------------------------------\n",
      "\n",
      "Clustering result wrote to /data_local/DataSpikeSorting/data_tutorial/McKenzie/results_IC/tmp/firings.mda\n",
      "\n",
      "Clustering result wrote to /data_local/DataSpikeSorting/data_tutorial/McKenzie/results_IC/tmp/firings.mda\n",
      "\n",
      "#SF-SORTER-RUNTIME#22.373#\n",
      "\n",
      "#SF-SORTER-RUNTIME#22.373#\n",
      "\n",
      "ironclust run time 33.54s\n"
     ]
    }
   ],
   "source": [
    "# run spike sorting by group\n",
    "sorting_IC = ss.run_sorter('ironclust', recording_saved, \n",
    "                              output_folder=base_folder/'results_IC',\n",
    "                              verbose=True)\n"
   ]
  },
  {
   "cell_type": "code",
   "execution_count": 62,
   "metadata": {},
   "outputs": [
    {
     "data": {
      "text/plain": [
       "MdaSortingExtractor: 26 units - 1 segments - 20.0kHz\n",
       "  file_path: /data_local/DataSpikeSorting/data_tutorial/McKenzie/results_IC/tmp/firings.mda"
      ]
     },
     "execution_count": 62,
     "metadata": {},
     "output_type": "execute_result"
    }
   ],
   "source": [
    "sorting_IC"
   ]
  },
  {
   "cell_type": "code",
   "execution_count": 63,
   "metadata": {},
   "outputs": [
    {
     "name": "stdout",
     "output_type": "stream",
     "text": [
      "IronClust found 26 units\n"
     ]
    }
   ],
   "source": [
    "print(f'IronClust found {len(sorting_IC.get_unit_ids())} units')"
   ]
  },
  {
   "cell_type": "markdown",
   "metadata": {
    "pycharm": {
     "name": "#%% md\n"
    }
   },
   "source": [
    "The spike sorting returns a `SortingExtractor` object. Let's see some of its functions:"
   ]
  },
  {
   "cell_type": "code",
   "execution_count": 64,
   "metadata": {},
   "outputs": [
    {
     "name": "stdout",
     "output_type": "stream",
     "text": [
      "Ironclust unit ids: [ 0  1  2  3  4  5  6  7  8  9 10 11 12 13 14 15 16 17 18 19 20 21 22 23\n",
      " 24 25]\n"
     ]
    }
   ],
   "source": [
    "print(f'Ironclust unit ids: {sorting_IC.get_unit_ids()}')"
   ]
  },
  {
   "cell_type": "code",
   "execution_count": 65,
   "metadata": {},
   "outputs": [
    {
     "name": "stdout",
     "output_type": "stream",
     "text": [
      "Spike train of a unit: [    369    1369    2509 ... 5998886 5999281 5999321]\n"
     ]
    }
   ],
   "source": [
    "print(f'Spike train of a unit: {sorting_IC.get_unit_spike_train(13)}')"
   ]
  },
  {
   "cell_type": "markdown",
   "metadata": {
    "pycharm": {
     "name": "#%% md\n"
    }
   },
   "source": [
    "We can use `spikewidgets` functions for some quick visualizations:"
   ]
  },
  {
   "cell_type": "code",
   "execution_count": 66,
   "metadata": {
    "pycharm": {
     "name": "#%%\n"
    }
   },
   "outputs": [
    {
     "data": {
      "image/png": "[encoded data removed]",
      "text/plain": [
       "<Figure size 432x288 with 1 Axes>"
      ]
     },
     "metadata": {
      "needs_background": "light"
     },
     "output_type": "display_data"
    }
   ],
   "source": [
    "w_rs = sw.plot_rasters(sorting_IC)"
   ]
  },
  {
   "cell_type": "markdown",
   "metadata": {
    "pycharm": {
     "name": "#%% md\n"
    }
   },
   "source": [
    "# Running multiple sorter jobs in parallel\n",
    "\n",
    "So far we have seen how to run one sorter at a time. SI provides a convenient launcher in order to run multiple sorters on multiple recordings with one line of code!\n",
    "\n",
    "The `run_sorters()` function of the `sorter` module allows you to specify a list of sorters to use on a list (or dictionary) of parameters. The jobs are by default ran in a loop, but the `engine` argument enables to specify a parallel backend (`joblib` or `dask`) and relative parameters.\n",
    "\n",
    "In the following example, we run the 2 jobs to run `herdingspikes` and `ironclust` in parallel:"
   ]
  },
  {
   "cell_type": "code",
   "execution_count": 67,
   "metadata": {
    "scrolled": true
   },
   "outputs": [],
   "source": [
    "sorting_outputs = ss.run_sorters(sorter_list=[\"tridesclous\", \"ironclust\"],\n",
    "                                 recording_dict_or_list={\"group0\": recording_saved},\n",
    "                                 working_folder=base_folder / \"all_sorters\",\n",
    "                                 verbose=True,\n",
    "                                 engine=\"joblib\",\n",
    "                                 engine_kwargs={'n_jobs': 2})"
   ]
  },
  {
   "cell_type": "markdown",
   "metadata": {},
   "source": [
    "The returned `sorting_outputs` variable is a dictionary that has (rec_name, sorter_name) as keys, and the `SortingExtractor` objects as valus:"
   ]
  },
  {
   "cell_type": "code",
   "execution_count": 68,
   "metadata": {},
   "outputs": [
    {
     "name": "stdout",
     "output_type": "stream",
     "text": [
      "dict_keys([('group0', 'tridesclous'), ('group0', 'ironclust')])\n"
     ]
    }
   ],
   "source": [
    "print(sorting_outputs.keys())"
   ]
  },
  {
   "cell_type": "markdown",
   "metadata": {},
   "source": [
    "For the rest of the tutorial, let's pick the `ironclust` output:"
   ]
  },
  {
   "cell_type": "code",
   "execution_count": 69,
   "metadata": {},
   "outputs": [
    {
     "data": {
      "text/plain": [
       "MdaSortingExtractor: 26 units - 1 segments - 20.0kHz\n",
       "  file_path: /data_local/DataSpikeSorting/data_tutorial/McKenzie/all_sorters/group0/ironclust/tmp/firings.mda"
      ]
     },
     "execution_count": 69,
     "metadata": {},
     "output_type": "execute_result"
    }
   ],
   "source": [
    "sorting_IC = sorting_outputs[('group0', 'ironclust')]\n",
    "sorting_IC"
   ]
  },
  {
   "cell_type": "markdown",
   "metadata": {},
   "source": [
    "## Spike sort in Docker containers\n",
    "###  (Linux and MacOS only)"
   ]
  },
  {
   "cell_type": "markdown",
   "metadata": {
    "pycharm": {
     "name": "#%% md\n"
    }
   },
   "source": [
    "Some sorters are hard to install! To alleviate this headache, SI provides a built-in mechanism to run a spike sorting job in a docker container.\n",
    "\n",
    "We are maintaining a set of sorter-specific docker files in the [spikeinterface-dockerfiles repo](<https://github.com/SpikeInterface/spikeinterface-dockerfiles>)\n",
    "and most of the docker images are available on Docker Hub from the [SpikeInterface organization](<https://hub.docker.com/orgs/spikeinterface/repositories>).\n",
    "\n",
    "Running spike sorting in a docker container just requires to:\n",
    "\n",
    "1. have docker installed\n",
    "2. have docker python SDK installed (`pip install docker`)\n",
    "\n",
    "When docker is installed, you can simply run the sorter in a specified docker image:"
   ]
  },
  {
   "cell_type": "code",
   "execution_count": 70,
   "metadata": {
    "pycharm": {
     "name": "#%%\n"
    }
   },
   "outputs": [
    {
     "name": "stdout",
     "output_type": "stream",
     "text": [
      "Starting container\n",
      "Installing spikeinterface from sources in spikeinterface/spyking-circus-base:1.0.7\n",
      "Running spykingcircus sorter inside spikeinterface/spyking-circus-base:1.0.7\n",
      "Stopping container\n"
     ]
    }
   ],
   "source": [
    "sorting_SC = ss.run_spykingcircus(recording_saved, output_folder=\"/data_local/DataSpikeSorting/results_SC\",\n",
    "                                  docker_image=\"spikeinterface/spyking-circus-base:1.0.7\", \n",
    "                                  verbose=True)"
   ]
  },
  {
   "cell_type": "code",
   "execution_count": 71,
   "metadata": {},
   "outputs": [
    {
     "data": {
      "text/plain": [
       "SpykingCircusSortingExtractor: 39 units - 1 segments - 20.0kHz"
      ]
     },
     "execution_count": 71,
     "metadata": {},
     "output_type": "execute_result"
    }
   ],
   "source": [
    "sorting_SC"
   ]
  },
  {
   "cell_type": "code",
   "execution_count": 72,
   "metadata": {
    "scrolled": true
   },
   "outputs": [
    {
     "data": {
      "text/plain": [
       "<spikeinterface.widgets.rasters.RasterWidget at 0x7f48332603d0>"
      ]
     },
     "execution_count": 72,
     "metadata": {},
     "output_type": "execute_result"
    },
    {
     "data": {
      "image/png": "[encoded data removed]",
      "text/plain": [
       "<Figure size 432x288 with 1 Axes>"
      ]
     },
     "metadata": {
      "needs_background": "light"
     },
     "output_type": "display_data"
    }
   ],
   "source": [
    "sw.plot_rasters(sorting_SC)"
   ]
  },
  {
   "cell_type": "markdown",
   "metadata": {},
   "source": [
    "# 5. Extracting waveforms <a class=\"anchor\" id=\"waveforms\"></a>\n",
    "\n",
    "The core of postprocessing spike sorting results revolves around extracting waveforms from paired recording-sorting objects.\n",
    "\n",
    "**NEW** In the SI API, waveforms are extracted using the `WaveformExtractor` class in the `core` module.\n",
    "\n",
    "The `WaveformExtractor` object has convenient functions to retrieve waveforms and templates.\n",
    "Let's see how it works.\n",
    "\n",
    "To extract the waveforms, we can run:"
   ]
  },
  {
   "cell_type": "code",
   "execution_count": 73,
   "metadata": {
    "pycharm": {
     "name": "#%%\n"
    }
   },
   "outputs": [
    {
     "name": "stdout",
     "output_type": "stream",
     "text": [
      "\u001b[0;31mSignature:\u001b[0m\n",
      "\u001b[0msi\u001b[0m\u001b[0;34m.\u001b[0m\u001b[0mextract_waveforms\u001b[0m\u001b[0;34m(\u001b[0m\u001b[0;34m\u001b[0m\n",
      "\u001b[0;34m\u001b[0m    \u001b[0mrecording\u001b[0m\u001b[0;34m,\u001b[0m\u001b[0;34m\u001b[0m\n",
      "\u001b[0;34m\u001b[0m    \u001b[0msorting\u001b[0m\u001b[0;34m,\u001b[0m\u001b[0;34m\u001b[0m\n",
      "\u001b[0;34m\u001b[0m    \u001b[0mfolder\u001b[0m\u001b[0;34m,\u001b[0m\u001b[0;34m\u001b[0m\n",
      "\u001b[0;34m\u001b[0m    \u001b[0mload_if_exists\u001b[0m\u001b[0;34m=\u001b[0m\u001b[0;32mFalse\u001b[0m\u001b[0;34m,\u001b[0m\u001b[0;34m\u001b[0m\n",
      "\u001b[0;34m\u001b[0m    \u001b[0mprecompute_template\u001b[0m\u001b[0;34m=\u001b[0m\u001b[0;34m(\u001b[0m\u001b[0;34m'average'\u001b[0m\u001b[0;34m,\u001b[0m\u001b[0;34m)\u001b[0m\u001b[0;34m,\u001b[0m\u001b[0;34m\u001b[0m\n",
      "\u001b[0;34m\u001b[0m    \u001b[0mms_before\u001b[0m\u001b[0;34m=\u001b[0m\u001b[0;36m3.0\u001b[0m\u001b[0;34m,\u001b[0m\u001b[0;34m\u001b[0m\n",
      "\u001b[0;34m\u001b[0m    \u001b[0mms_after\u001b[0m\u001b[0;34m=\u001b[0m\u001b[0;36m4.0\u001b[0m\u001b[0;34m,\u001b[0m\u001b[0;34m\u001b[0m\n",
      "\u001b[0;34m\u001b[0m    \u001b[0mmax_spikes_per_unit\u001b[0m\u001b[0;34m=\u001b[0m\u001b[0;36m500\u001b[0m\u001b[0;34m,\u001b[0m\u001b[0;34m\u001b[0m\n",
      "\u001b[0;34m\u001b[0m    \u001b[0munselect_spike_on_border\u001b[0m\u001b[0;34m=\u001b[0m\u001b[0;32mTrue\u001b[0m\u001b[0;34m,\u001b[0m\u001b[0;34m\u001b[0m\n",
      "\u001b[0;34m\u001b[0m    \u001b[0moverwrite\u001b[0m\u001b[0;34m=\u001b[0m\u001b[0;32mFalse\u001b[0m\u001b[0;34m,\u001b[0m\u001b[0;34m\u001b[0m\n",
      "\u001b[0;34m\u001b[0m    \u001b[0mreturn_scaled\u001b[0m\u001b[0;34m=\u001b[0m\u001b[0;32mTrue\u001b[0m\u001b[0;34m,\u001b[0m\u001b[0;34m\u001b[0m\n",
      "\u001b[0;34m\u001b[0m    \u001b[0mdtype\u001b[0m\u001b[0;34m=\u001b[0m\u001b[0;32mNone\u001b[0m\u001b[0;34m,\u001b[0m\u001b[0;34m\u001b[0m\n",
      "\u001b[0;34m\u001b[0m    \u001b[0muse_relative_path\u001b[0m\u001b[0;34m=\u001b[0m\u001b[0;32mFalse\u001b[0m\u001b[0;34m,\u001b[0m\u001b[0;34m\u001b[0m\n",
      "\u001b[0;34m\u001b[0m    \u001b[0;34m**\u001b[0m\u001b[0mjob_kwargs\u001b[0m\u001b[0;34m,\u001b[0m\u001b[0;34m\u001b[0m\n",
      "\u001b[0;34m\u001b[0m\u001b[0;34m)\u001b[0m\u001b[0;34m\u001b[0m\u001b[0;34m\u001b[0m\u001b[0m\n",
      "\u001b[0;31mDocstring:\u001b[0m\n",
      "Extracts waveform on paired Recording-Sorting objects.\n",
      "Waveforms are persistent on disk and cached in memory.\n",
      "\n",
      "Parameters\n",
      "----------\n",
      "recording: Recording\n",
      "    The recording object\n",
      "sorting: Sorting\n",
      "    The sorting object\n",
      "folder: str or Path\n",
      "    The folder where waveforms are cached\n",
      "load_if_exists: bool\n",
      "    If True and waveforms have already been extracted in the specified folder, they are loaded\n",
      "    and not recomputed.\n",
      "precompute_template: None or list\n",
      "    Precompute average/std/median for template. If None not precompute.\n",
      "ms_before: float\n",
      "    Time in ms to cut before spike peak\n",
      "ms_after: float\n",
      "    Time in ms to cut after spike peak\n",
      "max_spikes_per_unit: int or None\n",
      "    Number of spikes per unit to extract waveforms from (default 500).\n",
      "    Use None to extract waveforms for all spikes\n",
      "overwrite: bool\n",
      "    If True and 'folder' exists, the folder is removed and waveforms are recomputed.\n",
      "    Otherwise an error is raised.\n",
      "return_scaled: bool\n",
      "    If True and recording has gain_to_uV/offset_to_uV properties, waveforms are converted to uV.\n",
      "dtype: dtype or None\n",
      "    Dtype of the output waveforms. If None, the recording dtype is maintained.\n",
      "use_relative_path: bool\n",
      "    If True, the recording and sorting paths are relative to the waveforms folder. \n",
      "    This allows portability of the waveform folder provided that the relative paths are the same, \n",
      "    but forces all the data files to be in the same drive.\n",
      "    Default is False.\n",
      "\n",
      "**job_kwargs: keyword arguments for parallel processing:\n",
      "        * chunk_size or chunk_memory, or total_memory\n",
      "            - chunk_size: int\n",
      "                number of samples per chunk\n",
      "            - chunk_memory: str\n",
      "                Memory usage for each job (e.g. '100M', '1G'\n",
      "            - total_memory: str\n",
      "                Total memory usage (e.g. '500M', '2G')\n",
      "            - chunk_duration : str or float or None\n",
      "                Chunk duration in s if float or with units if str (e.g. '1s', '500ms')\n",
      "        * n_jobs: int\n",
      "            Number of jobs to use. With -1 the number of jobs is the same as number of cores\n",
      "        * progress_bar: bool\n",
      "            If True, a progress bar is printed\n",
      "\n",
      "\n",
      "Returns\n",
      "-------\n",
      "we: WaveformExtractor\n",
      "    The WaveformExtractor object\n",
      "\u001b[0;31mFile:\u001b[0m      ~/Documents/SpikeInterface/spikeinterface/spikeinterface/core/waveform_extractor.py\n",
      "\u001b[0;31mType:\u001b[0m      function\n"
     ]
    }
   ],
   "source": [
    "si.extract_waveforms?"
   ]
  },
  {
   "cell_type": "code",
   "execution_count": 74,
   "metadata": {},
   "outputs": [
    {
     "name": "stderr",
     "output_type": "stream",
     "text": [
      "extract waveforms memmap: 100%|██████████| 2/2 [00:00<00:00,  4.20it/s]\n"
     ]
    },
    {
     "name": "stdout",
     "output_type": "stream",
     "text": [
      "WaveformExtractor: 16 channels - 26 units - 1 segments\n",
      "  before:60 after:80 n_per_units:500\n"
     ]
    }
   ],
   "source": [
    "we = si.extract_waveforms(recording_saved, sorting_IC, folder=base_folder / \"wf_IC\", progress_bar=True,\n",
    "                          n_jobs=4, total_memory=\"500M\", overwrite=False, load_if_exists=True)\n",
    "print(we)"
   ]
  },
  {
   "cell_type": "markdown",
   "metadata": {
    "pycharm": {
     "name": "#%% md\n"
    }
   },
   "source": [
    "Now all waveforms are computed and stored in the provided `wf_IC` folder. We can now retrieve waveforms and templates easily:"
   ]
  },
  {
   "cell_type": "code",
   "execution_count": 75,
   "metadata": {},
   "outputs": [
    {
     "name": "stdout",
     "output_type": "stream",
     "text": [
      "Waveforms shape: (488, 140, 16)\n",
      "Template shape: (140, 16)\n",
      "All templates shape: (26, 140, 16)\n"
     ]
    }
   ],
   "source": [
    "waveforms0 = we.get_waveforms(unit_id=0)\n",
    "print(f\"Waveforms shape: {waveforms0.shape}\")\n",
    "template0 = we.get_template(unit_id=0)\n",
    "print(f\"Template shape: {template0.shape}\")\n",
    "all_templates = we.get_all_templates()\n",
    "print(f\"All templates shape: {all_templates.shape}\")"
   ]
  },
  {
   "cell_type": "markdown",
   "metadata": {},
   "source": [
    "For waveforms, the dimension is (num_spikes, num_samples, num_channels), while each template has dimension (num_samples, num_channels). Note that the number of spikes in this case is 500..we'll get back to it later!\n",
    "\n",
    "The `WaveformExtractor` is also compatible with several `widgets` to visualize the spike sorting output:"
   ]
  },
  {
   "cell_type": "code",
   "execution_count": 76,
   "metadata": {},
   "outputs": [
    {
     "data": {
      "image/png": "[encoded data removed]",
      "text/plain": [
       "<Figure size 432x288 with 3 Axes>"
      ]
     },
     "metadata": {
      "needs_background": "light"
     },
     "output_type": "display_data"
    },
    {
     "data": {
      "image/png": "[encoded data removed]",
      "text/plain": [
       "<Figure size 432x288 with 3 Axes>"
      ]
     },
     "metadata": {
      "needs_background": "light"
     },
     "output_type": "display_data"
    },
    {
     "data": {
      "image/png": "[encoded data removed]",
      "text/plain": [
       "<Figure size 432x288 with 2 Axes>"
      ]
     },
     "metadata": {
      "needs_background": "light"
     },
     "output_type": "display_data"
    }
   ],
   "source": [
    "w = sw.plot_unit_waveforms(we, unit_ids=[2, 3, 4])\n",
    "w = sw.plot_unit_templates(we, unit_ids=[2, 3, 4])\n",
    "w = sw.plot_unit_probe_map(we, unit_ids=[2,])"
   ]
  },
  {
   "cell_type": "code",
   "execution_count": 78,
   "metadata": {},
   "outputs": [
    {
     "data": {
      "image/png": "[encoded data removed]",
      "text/plain": [
       "<Figure size 1080x504 with 4 Axes>"
      ]
     },
     "metadata": {
      "needs_background": "light"
     },
     "output_type": "display_data"
    }
   ],
   "source": [
    "w = sw.plot_unit_summary(we, unit_id=3)"
   ]
  },
  {
   "cell_type": "markdown",
   "metadata": {},
   "source": [
    "As we noticed before, the number of spikes for the waveforms is 500. Let's check the number of spikes for other waveforms:"
   ]
  },
  {
   "cell_type": "code",
   "execution_count": 79,
   "metadata": {},
   "outputs": [
    {
     "name": "stdout",
     "output_type": "stream",
     "text": [
      "Unit 0 - num waveforms: 488 - num spikes: 488\n",
      "Unit 1 - num waveforms: 500 - num spikes: 12849\n",
      "Unit 2 - num waveforms: 500 - num spikes: 8273\n",
      "Unit 3 - num waveforms: 236 - num spikes: 236\n",
      "Unit 4 - num waveforms: 500 - num spikes: 14482\n",
      "Unit 5 - num waveforms: 499 - num spikes: 1611\n",
      "Unit 6 - num waveforms: 443 - num spikes: 443\n",
      "Unit 7 - num waveforms: 500 - num spikes: 7963\n",
      "Unit 8 - num waveforms: 500 - num spikes: 1577\n",
      "Unit 9 - num waveforms: 500 - num spikes: 867\n",
      "Unit 10 - num waveforms: 500 - num spikes: 916\n",
      "Unit 11 - num waveforms: 500 - num spikes: 595\n",
      "Unit 12 - num waveforms: 203 - num spikes: 203\n",
      "Unit 13 - num waveforms: 500 - num spikes: 11095\n",
      "Unit 14 - num waveforms: 500 - num spikes: 2368\n",
      "Unit 15 - num waveforms: 500 - num spikes: 19379\n",
      "Unit 16 - num waveforms: 499 - num spikes: 3174\n",
      "Unit 17 - num waveforms: 500 - num spikes: 2110\n",
      "Unit 18 - num waveforms: 412 - num spikes: 412\n",
      "Unit 19 - num waveforms: 500 - num spikes: 11859\n",
      "Unit 20 - num waveforms: 500 - num spikes: 3266\n",
      "Unit 21 - num waveforms: 500 - num spikes: 3806\n",
      "Unit 22 - num waveforms: 163 - num spikes: 163\n",
      "Unit 23 - num waveforms: 500 - num spikes: 43472\n",
      "Unit 24 - num waveforms: 500 - num spikes: 2216\n",
      "Unit 25 - num waveforms: 203 - num spikes: 203\n"
     ]
    }
   ],
   "source": [
    "for unit in sorting_IC.get_unit_ids():\n",
    "    waveforms = we.get_waveforms(unit_id=unit)\n",
    "    spiketrain = sorting_IC.get_unit_spike_train(unit)\n",
    "    print(f\"Unit {unit} - num waveforms: {waveforms.shape[0]} - num spikes: {len(spiketrain)}\")"
   ]
  },
  {
   "cell_type": "markdown",
   "metadata": {},
   "source": [
    "No units have more than 500 spikes! This is because by default, the `WaveformExtractor` extracts waveforms on a random subset of 500 spikes. To extract waveforms on all spikes, we can use the `max_spikes_per_unit` argument:"
   ]
  },
  {
   "cell_type": "code",
   "execution_count": 80,
   "metadata": {},
   "outputs": [
    {
     "name": "stderr",
     "output_type": "stream",
     "text": [
      "extract waveforms memmap: 100%|##########| 1/1 [00:02<00:00,  2.62s/it]\n"
     ]
    }
   ],
   "source": [
    "we_all = si.extract_waveforms(recording_saved, sorting_IC, folder=base_folder / \"wf_IC_all\", \n",
    "                              max_spikes_per_unit=None, progress_bar=True, load_if_exists=True)"
   ]
  },
  {
   "cell_type": "code",
   "execution_count": 81,
   "metadata": {},
   "outputs": [
    {
     "name": "stdout",
     "output_type": "stream",
     "text": [
      "Unit 0 - num waveforms: 488 - num spikes: 488\n",
      "Unit 1 - num waveforms: 12849 - num spikes: 12849\n",
      "Unit 2 - num waveforms: 8273 - num spikes: 8273\n",
      "Unit 3 - num waveforms: 236 - num spikes: 236\n",
      "Unit 4 - num waveforms: 14482 - num spikes: 14482\n",
      "Unit 5 - num waveforms: 1611 - num spikes: 1611\n",
      "Unit 6 - num waveforms: 443 - num spikes: 443\n",
      "Unit 7 - num waveforms: 7963 - num spikes: 7963\n",
      "Unit 8 - num waveforms: 1577 - num spikes: 1577\n",
      "Unit 9 - num waveforms: 867 - num spikes: 867\n",
      "Unit 10 - num waveforms: 916 - num spikes: 916\n",
      "Unit 11 - num waveforms: 595 - num spikes: 595\n",
      "Unit 12 - num waveforms: 203 - num spikes: 203\n",
      "Unit 13 - num waveforms: 11095 - num spikes: 11095\n",
      "Unit 14 - num waveforms: 2368 - num spikes: 2368\n",
      "Unit 15 - num waveforms: 19379 - num spikes: 19379\n",
      "Unit 16 - num waveforms: 3174 - num spikes: 3174\n",
      "Unit 17 - num waveforms: 2110 - num spikes: 2110\n",
      "Unit 18 - num waveforms: 412 - num spikes: 412\n",
      "Unit 19 - num waveforms: 11859 - num spikes: 11859\n",
      "Unit 20 - num waveforms: 3266 - num spikes: 3266\n",
      "Unit 21 - num waveforms: 3806 - num spikes: 3806\n",
      "Unit 22 - num waveforms: 163 - num spikes: 163\n",
      "Unit 23 - num waveforms: 43472 - num spikes: 43472\n",
      "Unit 24 - num waveforms: 2216 - num spikes: 2216\n",
      "Unit 25 - num waveforms: 203 - num spikes: 203\n"
     ]
    }
   ],
   "source": [
    "for unit in sorting_IC.get_unit_ids():\n",
    "    waveforms = we_all.get_waveforms(unit_id=unit)\n",
    "    spiketrain = sorting_IC.get_unit_spike_train(unit)\n",
    "    print(f\"Unit {unit} - num waveforms: {waveforms.shape[0]} - num spikes: {len(spiketrain)}\")"
   ]
  },
  {
   "cell_type": "markdown",
   "metadata": {},
   "source": [
    "Now waveforms have been extracted for all spikes! Let's move on to explore the postprocessing capabilities of the `toolkit` module."
   ]
  },
  {
   "cell_type": "markdown",
   "metadata": {
    "pycharm": {
     "name": "#%% md\n"
    }
   },
   "source": [
    "# 6. Postprocessing <a class=\"anchor\" id=\"postprocessing\"></a>"
   ]
  },
  {
   "cell_type": "markdown",
   "metadata": {},
   "source": [
    "Postprocessing spike sorting results ranges from computing additional information, such as spike amplitudes and Principal Component Analisys (PCA) scores, to computing features of the extracellular waveforms, similarity between templates and crosscorrelograms. All of this is possible with the `toolkit` module."
   ]
  },
  {
   "cell_type": "markdown",
   "metadata": {
    "pycharm": {
     "name": "#%% md\n"
    }
   },
   "source": [
    "### PCA scores\n",
    "\n",
    "PCA scores can be easily computed with the `compute_principal_components()` function. Similarly to the `extract_waveforms`, the function returns an object of type `WaveformPrincipalComponent` that allows to retrieve all pc scores on demand."
   ]
  },
  {
   "cell_type": "code",
   "execution_count": 82,
   "metadata": {},
   "outputs": [
    {
     "name": "stdout",
     "output_type": "stream",
     "text": [
      "\u001b[0;31mSignature:\u001b[0m\n",
      "\u001b[0mst\u001b[0m\u001b[0;34m.\u001b[0m\u001b[0mcompute_principal_components\u001b[0m\u001b[0;34m(\u001b[0m\u001b[0;34m\u001b[0m\n",
      "\u001b[0;34m\u001b[0m    \u001b[0mwaveform_extractor\u001b[0m\u001b[0;34m,\u001b[0m\u001b[0;34m\u001b[0m\n",
      "\u001b[0;34m\u001b[0m    \u001b[0mload_if_exists\u001b[0m\u001b[0;34m=\u001b[0m\u001b[0;32mFalse\u001b[0m\u001b[0;34m,\u001b[0m\u001b[0;34m\u001b[0m\n",
      "\u001b[0;34m\u001b[0m    \u001b[0mn_components\u001b[0m\u001b[0;34m=\u001b[0m\u001b[0;36m5\u001b[0m\u001b[0;34m,\u001b[0m\u001b[0;34m\u001b[0m\n",
      "\u001b[0;34m\u001b[0m    \u001b[0mmode\u001b[0m\u001b[0;34m=\u001b[0m\u001b[0;34m'by_channel_local'\u001b[0m\u001b[0;34m,\u001b[0m\u001b[0;34m\u001b[0m\n",
      "\u001b[0;34m\u001b[0m    \u001b[0mwhiten\u001b[0m\u001b[0;34m=\u001b[0m\u001b[0;32mTrue\u001b[0m\u001b[0;34m,\u001b[0m\u001b[0;34m\u001b[0m\n",
      "\u001b[0;34m\u001b[0m    \u001b[0mdtype\u001b[0m\u001b[0;34m=\u001b[0m\u001b[0;34m'float32'\u001b[0m\u001b[0;34m,\u001b[0m\u001b[0;34m\u001b[0m\n",
      "\u001b[0;34m\u001b[0m\u001b[0;34m)\u001b[0m\u001b[0;34m\u001b[0m\u001b[0;34m\u001b[0m\u001b[0m\n",
      "\u001b[0;31mDocstring:\u001b[0m\n",
      "Compute PC scores from waveform extractor. The PCA projections are pre-computed only\n",
      "on the sampled waveforms available from the WaveformExtractor.\n",
      "\n",
      "Parameters\n",
      "----------\n",
      "waveform_extractor: WaveformExtractor\n",
      "    The waveform extractor\n",
      "load_if_exists: bool\n",
      "    If True and pc scores are already in the waveform extractor folders, pc scores are loaded and not recomputed.\n",
      "n_components: int\n",
      "    Number of components fo PCA\n",
      "mode: str\n",
      "    - 'by_channel_local': a local PCA is fitted for each channel (projection by channel)\n",
      "    - 'by_channel_global': a global PCA is fitted for all channels (projection by channel)\n",
      "    - 'concatenated': channels are concatenated and a global PCA is fitted\n",
      "whiten: bool\n",
      "    If True, waveforms are pre-whitened\n",
      "dtype: dtype\n",
      "    Dtype of the pc scores (default float32)\n",
      "\n",
      "Returns\n",
      "-------\n",
      "pc: WaveformPrincipalComponent\n",
      "    The waveform principal component object\n",
      "\n",
      "Examples\n",
      "--------\n",
      ">>> we = si.extract_waveforms(recording, sorting, folder='waveforms_mearec')\n",
      ">>> pc = st.compute_principal_components(we, load_if_exists=True, n_components=3, mode='by_channel_local')\n",
      ">>> # get pre-computed projections for unit_id=1\n",
      ">>> projections = pc.get_projections(unit_id=1)\n",
      ">>> # get all pre-computed projections and labels\n",
      ">>> all_projections, all_labels = pc.get_all_projections()\n",
      ">>> # retrieve fitted pca model(s)\n",
      ">>> pca_model = pc.get_pca_model()\n",
      ">>> # compute projections on new waveforms\n",
      ">>> proj_new = pc.project_new(new_waveforms)\n",
      ">>> # run for all spikes in the SortingExtractor\n",
      ">>> pc.run_for_all_spikes(file_path=\"all_pca_projections.npy\")\n",
      "\u001b[0;31mFile:\u001b[0m      ~/Documents/SpikeInterface/spikeinterface/spikeinterface/toolkit/postprocessing/principal_component.py\n",
      "\u001b[0;31mType:\u001b[0m      function\n"
     ]
    }
   ],
   "source": [
    "st.compute_principal_components?"
   ]
  },
  {
   "cell_type": "code",
   "execution_count": 83,
   "metadata": {},
   "outputs": [],
   "source": [
    "pc = st.compute_principal_components(we, n_components=3, load_if_exists=True)"
   ]
  },
  {
   "cell_type": "code",
   "execution_count": 85,
   "metadata": {
    "pycharm": {
     "name": "#%%\n"
    }
   },
   "outputs": [
    {
     "name": "stdout",
     "output_type": "stream",
     "text": [
      "PC scores shape: (488, 3, 16)\n",
      "All PC scores shape: (11646, 3, 16)\n"
     ]
    }
   ],
   "source": [
    "pc0 = pc.get_components(unit_id=0)\n",
    "print(f\"PC scores shape: {pc0.shape}\")\n",
    "all_labels, all_pcs = pc.get_all_components()\n",
    "print(f\"All PC scores shape: {all_pcs.shape}\")"
   ]
  },
  {
   "cell_type": "markdown",
   "metadata": {},
   "source": [
    "For pc scores of a single unit, the dimension is (num_spikes, num_components, num_channels). \n",
    "The `get_all_components()` function returns an array with the label/unit id for each component (`all_labels`) and an array of dimension (num_all_samples, num_components, num_channels). "
   ]
  },
  {
   "cell_type": "markdown",
   "metadata": {},
   "source": [
    "### Spike amplitudes"
   ]
  },
  {
   "cell_type": "markdown",
   "metadata": {},
   "source": [
    "Spike amplitudes can be computed with the `get_spike_amplitudes` function."
   ]
  },
  {
   "cell_type": "code",
   "execution_count": 86,
   "metadata": {},
   "outputs": [
    {
     "name": "stderr",
     "output_type": "stream",
     "text": [
      "extract amplitudes: 100%|##########| 1/1 [00:00<00:00,  1.74it/s]\n"
     ]
    }
   ],
   "source": [
    "amplitudes = st.compute_spike_amplitudes(we, outputs=\"concatenated\", progress_bar=True)"
   ]
  },
  {
   "cell_type": "code",
   "execution_count": 87,
   "metadata": {},
   "outputs": [
    {
     "data": {
      "text/plain": [
       "[array([-117.975   , -103.155   ,  -26.714998, ...,  -24.375   ,\n",
       "        -149.56499 ,  -36.66    ], dtype=float32)]"
      ]
     },
     "execution_count": 87,
     "metadata": {},
     "output_type": "execute_result"
    }
   ],
   "source": [
    "amplitudes"
   ]
  },
  {
   "cell_type": "code",
   "execution_count": 88,
   "metadata": {},
   "outputs": [
    {
     "data": {
      "text/plain": [
       "<spikeinterface.widgets.amplitudes.AmplitudeDistributionWidget at 0x7f48590442e0>"
      ]
     },
     "execution_count": 88,
     "metadata": {},
     "output_type": "execute_result"
    },
    {
     "data": {
      "image/png": "[encoded data removed]",
      "text/plain": [
       "<Figure size 432x288 with 1 Axes>"
      ]
     },
     "metadata": {
      "needs_background": "light"
     },
     "output_type": "display_data"
    }
   ],
   "source": [
    "sw.plot_amplitudes_distribution(we)"
   ]
  },
  {
   "cell_type": "code",
   "execution_count": 89,
   "metadata": {},
   "outputs": [
    {
     "data": {
      "text/plain": [
       "<spikeinterface.widgets.amplitudes.AmplitudeTimeseriesWidget at 0x7f48442b3880>"
      ]
     },
     "execution_count": 89,
     "metadata": {},
     "output_type": "execute_result"
    },
    {
     "data": {
      "image/png": "[encoded data removed]",
      "text/plain": [
       "<Figure size 432x288 with 1 Axes>"
      ]
     },
     "metadata": {
      "needs_background": "light"
     },
     "output_type": "display_data"
    }
   ],
   "source": [
    "sw.plot_amplitudes_timeseries(we, unit_ids=[3, 11])"
   ]
  },
  {
   "cell_type": "markdown",
   "metadata": {
    "pycharm": {
     "name": "#%% md\n"
    }
   },
   "source": [
    "By default, all amplitudes are concatenated in one array.\n",
    "\n",
    "The correspinding spike times and labels can be easily retrieved as:"
   ]
  },
  {
   "cell_type": "code",
   "execution_count": 90,
   "metadata": {
    "pycharm": {
     "name": "#%%\n"
    }
   },
   "outputs": [],
   "source": [
    "all_spike_times, all_spike_labels = sorting_IC.get_all_spike_trains()[0]"
   ]
  },
  {
   "cell_type": "markdown",
   "metadata": {},
   "source": [
    "The [0] index is to select the first segment. In case of multiple segments each element will correspond to a different segment and will contain spike times and labels for that segment.\n"
   ]
  },
  {
   "cell_type": "markdown",
   "metadata": {},
   "source": [
    "### Compute template metrics\n",
    "\n",
    "Template metrics, or extracellular features, such as peak to valley duration or full-width half maximum, are important to classify neurons into putative classes (excitatory - inhibitory). The `toolkit` allows one to compute several of these metrics:"
   ]
  },
  {
   "cell_type": "code",
   "execution_count": 91,
   "metadata": {},
   "outputs": [
    {
     "name": "stdout",
     "output_type": "stream",
     "text": [
      "['peak_to_valley', 'peak_trough_ratio', 'half_width', 'repolarization_slope', 'recovery_slope']\n"
     ]
    }
   ],
   "source": [
    "print(st.get_template_metric_names())"
   ]
  },
  {
   "cell_type": "code",
   "execution_count": 92,
   "metadata": {
    "pycharm": {
     "name": "#%%\n"
    }
   },
   "outputs": [
    {
     "data": {
      "text/html": [
       "<div>\n",
       "<style scoped>\n",
       "    .dataframe tbody tr th:only-of-type {\n",
       "        vertical-align: middle;\n",
       "    }\n",
       "\n",
       "    .dataframe tbody tr th {\n",
       "        vertical-align: top;\n",
       "    }\n",
       "\n",
       "    .dataframe thead th {\n",
       "        text-align: right;\n",
       "    }\n",
       "</style>\n",
       "<table border=\"1\" class=\"dataframe\">\n",
       "  <thead>\n",
       "    <tr style=\"text-align: right;\">\n",
       "      <th></th>\n",
       "      <th>peak_to_valley</th>\n",
       "      <th>peak_trough_ratio</th>\n",
       "      <th>half_width</th>\n",
       "      <th>repolarization_slope</th>\n",
       "      <th>recovery_slope</th>\n",
       "    </tr>\n",
       "  </thead>\n",
       "  <tbody>\n",
       "    <tr>\n",
       "      <th>0</th>\n",
       "      <td>0.00092</td>\n",
       "      <td>-0.215728</td>\n",
       "      <td>0.00021</td>\n",
       "      <td>38270.465469</td>\n",
       "      <td>-6474.96097</td>\n",
       "    </tr>\n",
       "    <tr>\n",
       "      <th>1</th>\n",
       "      <td>0.00029</td>\n",
       "      <td>-0.112728</td>\n",
       "      <td>0.000145</td>\n",
       "      <td>265470.868455</td>\n",
       "      <td>-139.553477</td>\n",
       "    </tr>\n",
       "    <tr>\n",
       "      <th>2</th>\n",
       "      <td>0.000205</td>\n",
       "      <td>-0.329496</td>\n",
       "      <td>0.00014</td>\n",
       "      <td>1359148.498141</td>\n",
       "      <td>-62635.133021</td>\n",
       "    </tr>\n",
       "    <tr>\n",
       "      <th>3</th>\n",
       "      <td>0.00084</td>\n",
       "      <td>-0.240657</td>\n",
       "      <td>0.000195</td>\n",
       "      <td>471967.563851</td>\n",
       "      <td>-69172.621832</td>\n",
       "    </tr>\n",
       "    <tr>\n",
       "      <th>4</th>\n",
       "      <td>0.000655</td>\n",
       "      <td>-0.241431</td>\n",
       "      <td>0.000205</td>\n",
       "      <td>105261.800797</td>\n",
       "      <td>-11727.923844</td>\n",
       "    </tr>\n",
       "    <tr>\n",
       "      <th>5</th>\n",
       "      <td>0.00058</td>\n",
       "      <td>-0.282427</td>\n",
       "      <td>0.000245</td>\n",
       "      <td>417899.129669</td>\n",
       "      <td>-56424.119664</td>\n",
       "    </tr>\n",
       "    <tr>\n",
       "      <th>6</th>\n",
       "      <td>0.000585</td>\n",
       "      <td>-0.288771</td>\n",
       "      <td>0.000215</td>\n",
       "      <td>343733.390945</td>\n",
       "      <td>-44630.308035</td>\n",
       "    </tr>\n",
       "    <tr>\n",
       "      <th>7</th>\n",
       "      <td>0.00029</td>\n",
       "      <td>-0.244543</td>\n",
       "      <td>0.000145</td>\n",
       "      <td>380066.491146</td>\n",
       "      <td>-15708.490783</td>\n",
       "    </tr>\n",
       "    <tr>\n",
       "      <th>8</th>\n",
       "      <td>0.00065</td>\n",
       "      <td>-0.305685</td>\n",
       "      <td>0.000285</td>\n",
       "      <td>144363.123994</td>\n",
       "      <td>-22062.636343</td>\n",
       "    </tr>\n",
       "    <tr>\n",
       "      <th>9</th>\n",
       "      <td>0.00066</td>\n",
       "      <td>-0.276173</td>\n",
       "      <td>0.000185</td>\n",
       "      <td>350925.260594</td>\n",
       "      <td>-49411.381986</td>\n",
       "    </tr>\n",
       "    <tr>\n",
       "      <th>10</th>\n",
       "      <td>0.000315</td>\n",
       "      <td>-0.335848</td>\n",
       "      <td>0.00018</td>\n",
       "      <td>544355.016894</td>\n",
       "      <td>-44885.2556</td>\n",
       "    </tr>\n",
       "    <tr>\n",
       "      <th>11</th>\n",
       "      <td>0.00064</td>\n",
       "      <td>-0.231254</td>\n",
       "      <td>0.000165</td>\n",
       "      <td>456278.65738</td>\n",
       "      <td>-55535.81297</td>\n",
       "    </tr>\n",
       "    <tr>\n",
       "      <th>12</th>\n",
       "      <td>0.0006</td>\n",
       "      <td>-0.273683</td>\n",
       "      <td>0.000195</td>\n",
       "      <td>535430.643861</td>\n",
       "      <td>-51519.715348</td>\n",
       "    </tr>\n",
       "    <tr>\n",
       "      <th>13</th>\n",
       "      <td>0.00063</td>\n",
       "      <td>-0.302423</td>\n",
       "      <td>0.000215</td>\n",
       "      <td>149153.005495</td>\n",
       "      <td>-20557.64109</td>\n",
       "    </tr>\n",
       "    <tr>\n",
       "      <th>14</th>\n",
       "      <td>0.00022</td>\n",
       "      <td>-0.384238</td>\n",
       "      <td>0.00014</td>\n",
       "      <td>782485.657031</td>\n",
       "      <td>-41857.416369</td>\n",
       "    </tr>\n",
       "    <tr>\n",
       "      <th>15</th>\n",
       "      <td>0.00069</td>\n",
       "      <td>-0.134083</td>\n",
       "      <td>0.00018</td>\n",
       "      <td>109304.324749</td>\n",
       "      <td>-3619.876851</td>\n",
       "    </tr>\n",
       "    <tr>\n",
       "      <th>16</th>\n",
       "      <td>0.00062</td>\n",
       "      <td>-0.306793</td>\n",
       "      <td>0.000265</td>\n",
       "      <td>284581.821606</td>\n",
       "      <td>-45924.178372</td>\n",
       "    </tr>\n",
       "    <tr>\n",
       "      <th>17</th>\n",
       "      <td>0.000565</td>\n",
       "      <td>-0.285536</td>\n",
       "      <td>0.000245</td>\n",
       "      <td>391237.044691</td>\n",
       "      <td>-45426.68162</td>\n",
       "    </tr>\n",
       "    <tr>\n",
       "      <th>18</th>\n",
       "      <td>0.000625</td>\n",
       "      <td>-0.260218</td>\n",
       "      <td>0.000225</td>\n",
       "      <td>558065.417096</td>\n",
       "      <td>-57419.273138</td>\n",
       "    </tr>\n",
       "    <tr>\n",
       "      <th>19</th>\n",
       "      <td>0.000605</td>\n",
       "      <td>-0.22845</td>\n",
       "      <td>0.000175</td>\n",
       "      <td>98607.509398</td>\n",
       "      <td>-11042.782237</td>\n",
       "    </tr>\n",
       "    <tr>\n",
       "      <th>20</th>\n",
       "      <td>0.000635</td>\n",
       "      <td>-0.291398</td>\n",
       "      <td>0.000245</td>\n",
       "      <td>254408.29665</td>\n",
       "      <td>-38208.262497</td>\n",
       "    </tr>\n",
       "    <tr>\n",
       "      <th>21</th>\n",
       "      <td>0.000615</td>\n",
       "      <td>-0.303961</td>\n",
       "      <td>0.00023</td>\n",
       "      <td>429006.881764</td>\n",
       "      <td>-61890.158671</td>\n",
       "    </tr>\n",
       "    <tr>\n",
       "      <th>22</th>\n",
       "      <td>0.00059</td>\n",
       "      <td>-0.304009</td>\n",
       "      <td>0.000185</td>\n",
       "      <td>1245461.555803</td>\n",
       "      <td>-166767.103013</td>\n",
       "    </tr>\n",
       "    <tr>\n",
       "      <th>23</th>\n",
       "      <td>0.00064</td>\n",
       "      <td>-0.218604</td>\n",
       "      <td>0.00021</td>\n",
       "      <td>66478.851617</td>\n",
       "      <td>-4174.640802</td>\n",
       "    </tr>\n",
       "    <tr>\n",
       "      <th>24</th>\n",
       "      <td>0.000625</td>\n",
       "      <td>-0.284358</td>\n",
       "      <td>0.000225</td>\n",
       "      <td>449933.764867</td>\n",
       "      <td>-60517.635025</td>\n",
       "    </tr>\n",
       "    <tr>\n",
       "      <th>25</th>\n",
       "      <td>0.00057</td>\n",
       "      <td>-0.282935</td>\n",
       "      <td>0.000145</td>\n",
       "      <td>975501.324686</td>\n",
       "      <td>-164711.823954</td>\n",
       "    </tr>\n",
       "  </tbody>\n",
       "</table>\n",
       "</div>"
      ],
      "text/plain": [
       "   peak_to_valley peak_trough_ratio half_width repolarization_slope  \\\n",
       "0         0.00092         -0.215728    0.00021         38270.465469   \n",
       "1         0.00029         -0.112728   0.000145        265470.868455   \n",
       "2        0.000205         -0.329496    0.00014       1359148.498141   \n",
       "3         0.00084         -0.240657   0.000195        471967.563851   \n",
       "4        0.000655         -0.241431   0.000205        105261.800797   \n",
       "5         0.00058         -0.282427   0.000245        417899.129669   \n",
       "6        0.000585         -0.288771   0.000215        343733.390945   \n",
       "7         0.00029         -0.244543   0.000145        380066.491146   \n",
       "8         0.00065         -0.305685   0.000285        144363.123994   \n",
       "9         0.00066         -0.276173   0.000185        350925.260594   \n",
       "10       0.000315         -0.335848    0.00018        544355.016894   \n",
       "11        0.00064         -0.231254   0.000165         456278.65738   \n",
       "12         0.0006         -0.273683   0.000195        535430.643861   \n",
       "13        0.00063         -0.302423   0.000215        149153.005495   \n",
       "14        0.00022         -0.384238    0.00014        782485.657031   \n",
       "15        0.00069         -0.134083    0.00018        109304.324749   \n",
       "16        0.00062         -0.306793   0.000265        284581.821606   \n",
       "17       0.000565         -0.285536   0.000245        391237.044691   \n",
       "18       0.000625         -0.260218   0.000225        558065.417096   \n",
       "19       0.000605          -0.22845   0.000175         98607.509398   \n",
       "20       0.000635         -0.291398   0.000245         254408.29665   \n",
       "21       0.000615         -0.303961    0.00023        429006.881764   \n",
       "22        0.00059         -0.304009   0.000185       1245461.555803   \n",
       "23        0.00064         -0.218604    0.00021         66478.851617   \n",
       "24       0.000625         -0.284358   0.000225        449933.764867   \n",
       "25        0.00057         -0.282935   0.000145        975501.324686   \n",
       "\n",
       "   recovery_slope  \n",
       "0     -6474.96097  \n",
       "1     -139.553477  \n",
       "2   -62635.133021  \n",
       "3   -69172.621832  \n",
       "4   -11727.923844  \n",
       "5   -56424.119664  \n",
       "6   -44630.308035  \n",
       "7   -15708.490783  \n",
       "8   -22062.636343  \n",
       "9   -49411.381986  \n",
       "10    -44885.2556  \n",
       "11   -55535.81297  \n",
       "12  -51519.715348  \n",
       "13   -20557.64109  \n",
       "14  -41857.416369  \n",
       "15   -3619.876851  \n",
       "16  -45924.178372  \n",
       "17   -45426.68162  \n",
       "18  -57419.273138  \n",
       "19  -11042.782237  \n",
       "20  -38208.262497  \n",
       "21  -61890.158671  \n",
       "22 -166767.103013  \n",
       "23   -4174.640802  \n",
       "24  -60517.635025  \n",
       "25 -164711.823954  "
      ]
     },
     "metadata": {},
     "output_type": "display_data"
    }
   ],
   "source": [
    "template_metrics = st.calculate_template_metrics(we)\n",
    "display(template_metrics)"
   ]
  },
  {
   "cell_type": "markdown",
   "metadata": {
    "pycharm": {
     "name": "#%% md\n"
    }
   },
   "source": [
    "For more information about these template metrics, we refer to this [documentation](https://github.com/AllenInstitute/ecephys_spike_sorting/tree/master/ecephys_spike_sorting/modules/mean_waveforms) from the Allen Institute."
   ]
  },
  {
   "cell_type": "markdown",
   "metadata": {},
   "source": [
    "# 7. Viewers <a class=\"anchor\" id=\"viewers\"></a>\n",
    "\n",
    "Let's check put the `spikeinterface-gui` to explore our spike sorting results:"
   ]
  },
  {
   "cell_type": "code",
   "execution_count": 93,
   "metadata": {
    "pycharm": {
     "name": "#%%\n"
    }
   },
   "outputs": [
    {
     "name": "stdout",
     "output_type": "stream",
     "text": [
      "^C\n"
     ]
    }
   ],
   "source": [
    "!sigui wf_IC"
   ]
  },
  {
   "cell_type": "markdown",
   "metadata": {
    "pycharm": {
     "name": "#%% md\n"
    }
   },
   "source": [
    "# 8. Validation and curation <a class=\"anchor\" id=\"curation\"></a>\n",
    "\n",
    "The `toolkit` module also provides several functions to compute qualitity metrics to validate the spike sorting results.\n",
    "\n",
    "Let's see what metrics are available:"
   ]
  },
  {
   "cell_type": "code",
   "execution_count": 94,
   "metadata": {},
   "outputs": [
    {
     "name": "stdout",
     "output_type": "stream",
     "text": [
      "['num_spikes', 'firing_rate', 'presence_ratio', 'snr', 'isi_violation', 'amplitude_cutoff']\n"
     ]
    }
   ],
   "source": [
    "print(st.get_quality_metric_list())"
   ]
  },
  {
   "cell_type": "code",
   "execution_count": 95,
   "metadata": {
    "pycharm": {
     "name": "#%%\n"
    }
   },
   "outputs": [],
   "source": [
    "qc = st.compute_quality_metrics(we)"
   ]
  },
  {
   "cell_type": "code",
   "execution_count": 96,
   "metadata": {
    "pycharm": {
     "name": "#%%\n"
    }
   },
   "outputs": [
    {
     "data": {
      "text/html": [
       "<div>\n",
       "<style scoped>\n",
       "    .dataframe tbody tr th:only-of-type {\n",
       "        vertical-align: middle;\n",
       "    }\n",
       "\n",
       "    .dataframe tbody tr th {\n",
       "        vertical-align: top;\n",
       "    }\n",
       "\n",
       "    .dataframe thead th {\n",
       "        text-align: right;\n",
       "    }\n",
       "</style>\n",
       "<table border=\"1\" class=\"dataframe\">\n",
       "  <thead>\n",
       "    <tr style=\"text-align: right;\">\n",
       "      <th></th>\n",
       "      <th>num_spikes</th>\n",
       "      <th>firing_rate</th>\n",
       "      <th>presence_ratio</th>\n",
       "      <th>snr</th>\n",
       "      <th>isi_violations_ratio</th>\n",
       "      <th>isi_violations_rate</th>\n",
       "      <th>isi_violations_count</th>\n",
       "      <th>amplitude_cutoff</th>\n",
       "      <th>isolation_distance</th>\n",
       "      <th>l_ratio</th>\n",
       "      <th>d_prime</th>\n",
       "    </tr>\n",
       "  </thead>\n",
       "  <tbody>\n",
       "    <tr>\n",
       "      <th>0</th>\n",
       "      <td>488</td>\n",
       "      <td>1.626667</td>\n",
       "      <td>0.97</td>\n",
       "      <td>1.271598</td>\n",
       "      <td>0.839828</td>\n",
       "      <td>0.006667</td>\n",
       "      <td>2</td>\n",
       "      <td>0.027881</td>\n",
       "      <td>26.842605</td>\n",
       "      <td>5.827804e+00</td>\n",
       "      <td>1.533508</td>\n",
       "    </tr>\n",
       "    <tr>\n",
       "      <th>1</th>\n",
       "      <td>12849</td>\n",
       "      <td>42.830000</td>\n",
       "      <td>1.00</td>\n",
       "      <td>2.719759</td>\n",
       "      <td>0.600254</td>\n",
       "      <td>3.303333</td>\n",
       "      <td>991</td>\n",
       "      <td>0.005335</td>\n",
       "      <td>39.366805</td>\n",
       "      <td>2.329754e+00</td>\n",
       "      <td>1.851862</td>\n",
       "    </tr>\n",
       "    <tr>\n",
       "      <th>2</th>\n",
       "      <td>8273</td>\n",
       "      <td>27.576667</td>\n",
       "      <td>1.00</td>\n",
       "      <td>8.279611</td>\n",
       "      <td>0.045293</td>\n",
       "      <td>0.103333</td>\n",
       "      <td>31</td>\n",
       "      <td>0.000518</td>\n",
       "      <td>83.428366</td>\n",
       "      <td>7.142884e-02</td>\n",
       "      <td>5.993015</td>\n",
       "    </tr>\n",
       "    <tr>\n",
       "      <th>3</th>\n",
       "      <td>236</td>\n",
       "      <td>0.786667</td>\n",
       "      <td>0.59</td>\n",
       "      <td>13.684422</td>\n",
       "      <td>0.000000</td>\n",
       "      <td>0.000000</td>\n",
       "      <td>0</td>\n",
       "      <td>0.001097</td>\n",
       "      <td>167.039586</td>\n",
       "      <td>2.533894e-05</td>\n",
       "      <td>10.162438</td>\n",
       "    </tr>\n",
       "    <tr>\n",
       "      <th>4</th>\n",
       "      <td>14482</td>\n",
       "      <td>48.273333</td>\n",
       "      <td>1.00</td>\n",
       "      <td>3.881724</td>\n",
       "      <td>0.282747</td>\n",
       "      <td>1.976667</td>\n",
       "      <td>593</td>\n",
       "      <td>0.000518</td>\n",
       "      <td>44.705209</td>\n",
       "      <td>1.496716e+00</td>\n",
       "      <td>2.059724</td>\n",
       "    </tr>\n",
       "    <tr>\n",
       "      <th>5</th>\n",
       "      <td>1611</td>\n",
       "      <td>5.370000</td>\n",
       "      <td>0.99</td>\n",
       "      <td>14.405005</td>\n",
       "      <td>0.115593</td>\n",
       "      <td>0.010000</td>\n",
       "      <td>3</td>\n",
       "      <td>0.004008</td>\n",
       "      <td>84.027516</td>\n",
       "      <td>5.587969e-02</td>\n",
       "      <td>5.377432</td>\n",
       "    </tr>\n",
       "    <tr>\n",
       "      <th>6</th>\n",
       "      <td>443</td>\n",
       "      <td>1.476667</td>\n",
       "      <td>0.85</td>\n",
       "      <td>13.513721</td>\n",
       "      <td>0.000000</td>\n",
       "      <td>0.000000</td>\n",
       "      <td>0</td>\n",
       "      <td>0.061562</td>\n",
       "      <td>71.979882</td>\n",
       "      <td>1.206745e-01</td>\n",
       "      <td>3.249654</td>\n",
       "    </tr>\n",
       "    <tr>\n",
       "      <th>7</th>\n",
       "      <td>7963</td>\n",
       "      <td>26.543333</td>\n",
       "      <td>1.00</td>\n",
       "      <td>3.741847</td>\n",
       "      <td>0.252329</td>\n",
       "      <td>0.533333</td>\n",
       "      <td>160</td>\n",
       "      <td>0.009763</td>\n",
       "      <td>47.896012</td>\n",
       "      <td>1.165040e+00</td>\n",
       "      <td>1.881658</td>\n",
       "    </tr>\n",
       "    <tr>\n",
       "      <th>8</th>\n",
       "      <td>1577</td>\n",
       "      <td>5.256667</td>\n",
       "      <td>1.00</td>\n",
       "      <td>5.405070</td>\n",
       "      <td>0.361892</td>\n",
       "      <td>0.030000</td>\n",
       "      <td>9</td>\n",
       "      <td>0.000518</td>\n",
       "      <td>55.104229</td>\n",
       "      <td>6.667041e-01</td>\n",
       "      <td>2.258875</td>\n",
       "    </tr>\n",
       "    <tr>\n",
       "      <th>9</th>\n",
       "      <td>867</td>\n",
       "      <td>2.890000</td>\n",
       "      <td>0.95</td>\n",
       "      <td>11.098741</td>\n",
       "      <td>0.133034</td>\n",
       "      <td>0.003333</td>\n",
       "      <td>1</td>\n",
       "      <td>0.010404</td>\n",
       "      <td>65.770845</td>\n",
       "      <td>2.839098e-01</td>\n",
       "      <td>4.555427</td>\n",
       "    </tr>\n",
       "    <tr>\n",
       "      <th>10</th>\n",
       "      <td>916</td>\n",
       "      <td>3.053333</td>\n",
       "      <td>0.86</td>\n",
       "      <td>7.844590</td>\n",
       "      <td>0.000000</td>\n",
       "      <td>0.000000</td>\n",
       "      <td>0</td>\n",
       "      <td>0.000518</td>\n",
       "      <td>80.200060</td>\n",
       "      <td>1.061892e-01</td>\n",
       "      <td>5.268209</td>\n",
       "    </tr>\n",
       "    <tr>\n",
       "      <th>11</th>\n",
       "      <td>595</td>\n",
       "      <td>1.983333</td>\n",
       "      <td>0.81</td>\n",
       "      <td>10.842113</td>\n",
       "      <td>0.282466</td>\n",
       "      <td>0.003333</td>\n",
       "      <td>1</td>\n",
       "      <td>0.032581</td>\n",
       "      <td>92.199788</td>\n",
       "      <td>2.966497e-02</td>\n",
       "      <td>6.729631</td>\n",
       "    </tr>\n",
       "    <tr>\n",
       "      <th>12</th>\n",
       "      <td>203</td>\n",
       "      <td>0.676667</td>\n",
       "      <td>0.46</td>\n",
       "      <td>8.135332</td>\n",
       "      <td>0.000000</td>\n",
       "      <td>0.000000</td>\n",
       "      <td>0</td>\n",
       "      <td>0.001275</td>\n",
       "      <td>98.183313</td>\n",
       "      <td>1.448454e-02</td>\n",
       "      <td>4.679028</td>\n",
       "    </tr>\n",
       "    <tr>\n",
       "      <th>13</th>\n",
       "      <td>11095</td>\n",
       "      <td>36.983333</td>\n",
       "      <td>1.00</td>\n",
       "      <td>4.730577</td>\n",
       "      <td>0.303008</td>\n",
       "      <td>1.243333</td>\n",
       "      <td>373</td>\n",
       "      <td>0.000518</td>\n",
       "      <td>42.905368</td>\n",
       "      <td>1.651340e+00</td>\n",
       "      <td>2.507316</td>\n",
       "    </tr>\n",
       "    <tr>\n",
       "      <th>14</th>\n",
       "      <td>2368</td>\n",
       "      <td>7.893333</td>\n",
       "      <td>1.00</td>\n",
       "      <td>6.185779</td>\n",
       "      <td>0.071334</td>\n",
       "      <td>0.013333</td>\n",
       "      <td>4</td>\n",
       "      <td>0.021608</td>\n",
       "      <td>50.313785</td>\n",
       "      <td>9.856151e-01</td>\n",
       "      <td>3.495344</td>\n",
       "    </tr>\n",
       "    <tr>\n",
       "      <th>15</th>\n",
       "      <td>19379</td>\n",
       "      <td>64.596667</td>\n",
       "      <td>1.00</td>\n",
       "      <td>2.748291</td>\n",
       "      <td>0.569838</td>\n",
       "      <td>7.133333</td>\n",
       "      <td>2140</td>\n",
       "      <td>0.000518</td>\n",
       "      <td>37.820133</td>\n",
       "      <td>2.702008e+00</td>\n",
       "      <td>2.520559</td>\n",
       "    </tr>\n",
       "    <tr>\n",
       "      <th>16</th>\n",
       "      <td>3174</td>\n",
       "      <td>10.580000</td>\n",
       "      <td>1.00</td>\n",
       "      <td>11.383040</td>\n",
       "      <td>0.069484</td>\n",
       "      <td>0.023333</td>\n",
       "      <td>7</td>\n",
       "      <td>0.032406</td>\n",
       "      <td>105.157353</td>\n",
       "      <td>3.088644e-03</td>\n",
       "      <td>6.474017</td>\n",
       "    </tr>\n",
       "    <tr>\n",
       "      <th>17</th>\n",
       "      <td>2110</td>\n",
       "      <td>7.033333</td>\n",
       "      <td>0.96</td>\n",
       "      <td>9.743574</td>\n",
       "      <td>0.044923</td>\n",
       "      <td>0.006667</td>\n",
       "      <td>2</td>\n",
       "      <td>0.034204</td>\n",
       "      <td>88.553217</td>\n",
       "      <td>3.897604e-02</td>\n",
       "      <td>3.696387</td>\n",
       "    </tr>\n",
       "    <tr>\n",
       "      <th>18</th>\n",
       "      <td>412</td>\n",
       "      <td>1.373333</td>\n",
       "      <td>0.83</td>\n",
       "      <td>13.965759</td>\n",
       "      <td>0.000000</td>\n",
       "      <td>0.000000</td>\n",
       "      <td>0</td>\n",
       "      <td>0.000628</td>\n",
       "      <td>129.078210</td>\n",
       "      <td>6.840173e-04</td>\n",
       "      <td>8.844194</td>\n",
       "    </tr>\n",
       "    <tr>\n",
       "      <th>19</th>\n",
       "      <td>11859</td>\n",
       "      <td>39.530000</td>\n",
       "      <td>1.00</td>\n",
       "      <td>2.811849</td>\n",
       "      <td>0.347706</td>\n",
       "      <td>1.630000</td>\n",
       "      <td>489</td>\n",
       "      <td>0.000518</td>\n",
       "      <td>40.631224</td>\n",
       "      <td>2.113358e+00</td>\n",
       "      <td>1.553114</td>\n",
       "    </tr>\n",
       "    <tr>\n",
       "      <th>20</th>\n",
       "      <td>3266</td>\n",
       "      <td>10.886667</td>\n",
       "      <td>1.00</td>\n",
       "      <td>8.796463</td>\n",
       "      <td>0.084374</td>\n",
       "      <td>0.030000</td>\n",
       "      <td>9</td>\n",
       "      <td>0.000518</td>\n",
       "      <td>73.241244</td>\n",
       "      <td>1.523894e-01</td>\n",
       "      <td>5.217764</td>\n",
       "    </tr>\n",
       "    <tr>\n",
       "      <th>21</th>\n",
       "      <td>3806</td>\n",
       "      <td>12.686667</td>\n",
       "      <td>1.00</td>\n",
       "      <td>11.273190</td>\n",
       "      <td>0.027614</td>\n",
       "      <td>0.013333</td>\n",
       "      <td>4</td>\n",
       "      <td>0.000518</td>\n",
       "      <td>103.572534</td>\n",
       "      <td>1.611717e-02</td>\n",
       "      <td>4.696431</td>\n",
       "    </tr>\n",
       "    <tr>\n",
       "      <th>22</th>\n",
       "      <td>163</td>\n",
       "      <td>0.543333</td>\n",
       "      <td>0.33</td>\n",
       "      <td>30.412773</td>\n",
       "      <td>0.000000</td>\n",
       "      <td>0.000000</td>\n",
       "      <td>0</td>\n",
       "      <td>0.500000</td>\n",
       "      <td>205.681058</td>\n",
       "      <td>1.746068e-13</td>\n",
       "      <td>11.304735</td>\n",
       "    </tr>\n",
       "    <tr>\n",
       "      <th>23</th>\n",
       "      <td>43472</td>\n",
       "      <td>144.906667</td>\n",
       "      <td>1.00</td>\n",
       "      <td>1.716619</td>\n",
       "      <td>0.477295</td>\n",
       "      <td>30.066667</td>\n",
       "      <td>9020</td>\n",
       "      <td>0.000518</td>\n",
       "      <td>37.255699</td>\n",
       "      <td>2.696425e+00</td>\n",
       "      <td>1.617271</td>\n",
       "    </tr>\n",
       "    <tr>\n",
       "      <th>24</th>\n",
       "      <td>2216</td>\n",
       "      <td>7.386667</td>\n",
       "      <td>0.94</td>\n",
       "      <td>10.484397</td>\n",
       "      <td>0.183275</td>\n",
       "      <td>0.030000</td>\n",
       "      <td>9</td>\n",
       "      <td>0.000518</td>\n",
       "      <td>72.741422</td>\n",
       "      <td>9.514849e-02</td>\n",
       "      <td>3.401147</td>\n",
       "    </tr>\n",
       "    <tr>\n",
       "      <th>25</th>\n",
       "      <td>203</td>\n",
       "      <td>0.676667</td>\n",
       "      <td>0.63</td>\n",
       "      <td>25.287739</td>\n",
       "      <td>2.426654</td>\n",
       "      <td>0.003333</td>\n",
       "      <td>1</td>\n",
       "      <td>0.105647</td>\n",
       "      <td>187.987200</td>\n",
       "      <td>3.612802e-05</td>\n",
       "      <td>11.675987</td>\n",
       "    </tr>\n",
       "  </tbody>\n",
       "</table>\n",
       "</div>"
      ],
      "text/plain": [
       "    num_spikes  firing_rate  presence_ratio        snr  isi_violations_ratio  \\\n",
       "0          488     1.626667            0.97   1.271598              0.839828   \n",
       "1        12849    42.830000            1.00   2.719759              0.600254   \n",
       "2         8273    27.576667            1.00   8.279611              0.045293   \n",
       "3          236     0.786667            0.59  13.684422              0.000000   \n",
       "4        14482    48.273333            1.00   3.881724              0.282747   \n",
       "5         1611     5.370000            0.99  14.405005              0.115593   \n",
       "6          443     1.476667            0.85  13.513721              0.000000   \n",
       "7         7963    26.543333            1.00   3.741847              0.252329   \n",
       "8         1577     5.256667            1.00   5.405070              0.361892   \n",
       "9          867     2.890000            0.95  11.098741              0.133034   \n",
       "10         916     3.053333            0.86   7.844590              0.000000   \n",
       "11         595     1.983333            0.81  10.842113              0.282466   \n",
       "12         203     0.676667            0.46   8.135332              0.000000   \n",
       "13       11095    36.983333            1.00   4.730577              0.303008   \n",
       "14        2368     7.893333            1.00   6.185779              0.071334   \n",
       "15       19379    64.596667            1.00   2.748291              0.569838   \n",
       "16        3174    10.580000            1.00  11.383040              0.069484   \n",
       "17        2110     7.033333            0.96   9.743574              0.044923   \n",
       "18         412     1.373333            0.83  13.965759              0.000000   \n",
       "19       11859    39.530000            1.00   2.811849              0.347706   \n",
       "20        3266    10.886667            1.00   8.796463              0.084374   \n",
       "21        3806    12.686667            1.00  11.273190              0.027614   \n",
       "22         163     0.543333            0.33  30.412773              0.000000   \n",
       "23       43472   144.906667            1.00   1.716619              0.477295   \n",
       "24        2216     7.386667            0.94  10.484397              0.183275   \n",
       "25         203     0.676667            0.63  25.287739              2.426654   \n",
       "\n",
       "    isi_violations_rate  isi_violations_count  amplitude_cutoff  \\\n",
       "0              0.006667                     2          0.027881   \n",
       "1              3.303333                   991          0.005335   \n",
       "2              0.103333                    31          0.000518   \n",
       "3              0.000000                     0          0.001097   \n",
       "4              1.976667                   593          0.000518   \n",
       "5              0.010000                     3          0.004008   \n",
       "6              0.000000                     0          0.061562   \n",
       "7              0.533333                   160          0.009763   \n",
       "8              0.030000                     9          0.000518   \n",
       "9              0.003333                     1          0.010404   \n",
       "10             0.000000                     0          0.000518   \n",
       "11             0.003333                     1          0.032581   \n",
       "12             0.000000                     0          0.001275   \n",
       "13             1.243333                   373          0.000518   \n",
       "14             0.013333                     4          0.021608   \n",
       "15             7.133333                  2140          0.000518   \n",
       "16             0.023333                     7          0.032406   \n",
       "17             0.006667                     2          0.034204   \n",
       "18             0.000000                     0          0.000628   \n",
       "19             1.630000                   489          0.000518   \n",
       "20             0.030000                     9          0.000518   \n",
       "21             0.013333                     4          0.000518   \n",
       "22             0.000000                     0          0.500000   \n",
       "23            30.066667                  9020          0.000518   \n",
       "24             0.030000                     9          0.000518   \n",
       "25             0.003333                     1          0.105647   \n",
       "\n",
       "    isolation_distance       l_ratio    d_prime  \n",
       "0            26.842605  5.827804e+00   1.533508  \n",
       "1            39.366805  2.329754e+00   1.851862  \n",
       "2            83.428366  7.142884e-02   5.993015  \n",
       "3           167.039586  2.533894e-05  10.162438  \n",
       "4            44.705209  1.496716e+00   2.059724  \n",
       "5            84.027516  5.587969e-02   5.377432  \n",
       "6            71.979882  1.206745e-01   3.249654  \n",
       "7            47.896012  1.165040e+00   1.881658  \n",
       "8            55.104229  6.667041e-01   2.258875  \n",
       "9            65.770845  2.839098e-01   4.555427  \n",
       "10           80.200060  1.061892e-01   5.268209  \n",
       "11           92.199788  2.966497e-02   6.729631  \n",
       "12           98.183313  1.448454e-02   4.679028  \n",
       "13           42.905368  1.651340e+00   2.507316  \n",
       "14           50.313785  9.856151e-01   3.495344  \n",
       "15           37.820133  2.702008e+00   2.520559  \n",
       "16          105.157353  3.088644e-03   6.474017  \n",
       "17           88.553217  3.897604e-02   3.696387  \n",
       "18          129.078210  6.840173e-04   8.844194  \n",
       "19           40.631224  2.113358e+00   1.553114  \n",
       "20           73.241244  1.523894e-01   5.217764  \n",
       "21          103.572534  1.611717e-02   4.696431  \n",
       "22          205.681058  1.746068e-13  11.304735  \n",
       "23           37.255699  2.696425e+00   1.617271  \n",
       "24           72.741422  9.514849e-02   3.401147  \n",
       "25          187.987200  3.612802e-05  11.675987  "
      ]
     },
     "metadata": {},
     "output_type": "display_data"
    }
   ],
   "source": [
    "display(qc)"
   ]
  },
  {
   "cell_type": "markdown",
   "metadata": {
    "pycharm": {
     "name": "#%% md\n"
    }
   },
   "source": [
    "For more information about these waveform features, we refer to this [documentation](https://allensdk.readthedocs.io/en/latest/_static/examples/nb/ecephys_quality_metrics.html) from the Allen Institute."
   ]
  },
  {
   "cell_type": "markdown",
   "metadata": {
    "pycharm": {
     "name": "#%% md\n"
    }
   },
   "source": [
    "## Automatic curation based on quality metrics"
   ]
  },
  {
   "cell_type": "markdown",
   "metadata": {
    "pycharm": {
     "name": "#%% md\n"
    }
   },
   "source": [
    "A viable option to curate (or at least pre-curate) a spike sorting output is to filter units based on quality metrics. As we have already computed quality metrics a few lines above, we can simply filter the `qc` dataframe based on some thresholds.\n",
    "\n",
    "Here, we'll only keep units with an SNR > 5 and an ISI violation threshold < 0.2:"
   ]
  },
  {
   "cell_type": "code",
   "execution_count": 97,
   "metadata": {
    "pycharm": {
     "name": "#%%\n"
    }
   },
   "outputs": [],
   "source": [
    "snr_thresh = 5\n",
    "isi_viol_thresh = 0.2"
   ]
  },
  {
   "cell_type": "markdown",
   "metadata": {},
   "source": [
    "A straightforward way to filter a pandas dataframe is via the `query`.\n",
    "We first define our query (make sure the names match the column names of the dataframe):"
   ]
  },
  {
   "cell_type": "code",
   "execution_count": 98,
   "metadata": {
    "pycharm": {
     "name": "#%%\n"
    }
   },
   "outputs": [
    {
     "name": "stdout",
     "output_type": "stream",
     "text": [
      "snr > 5 & isi_violations_rate < 0.2\n"
     ]
    }
   ],
   "source": [
    "our_query = f\"snr > {snr_thresh} & isi_violations_rate < {isi_viol_thresh}\"\n",
    "print(our_query)"
   ]
  },
  {
   "cell_type": "markdown",
   "metadata": {
    "pycharm": {
     "name": "#%% md\n"
    }
   },
   "source": [
    "and then we can use the query to select units:"
   ]
  },
  {
   "cell_type": "code",
   "execution_count": 99,
   "metadata": {
    "pycharm": {
     "name": "#%%\n"
    }
   },
   "outputs": [],
   "source": [
    "keep_units = qc.query(our_query)\n",
    "keep_unit_ids = keep_units.index.values"
   ]
  },
  {
   "cell_type": "code",
   "execution_count": 100,
   "metadata": {},
   "outputs": [
    {
     "name": "stdout",
     "output_type": "stream",
     "text": [
      "Number of units before curation: 26\n",
      "Number of units after curation: 18\n"
     ]
    }
   ],
   "source": [
    "sorting_auto = sorting_IC.select_units(keep_unit_ids)\n",
    "print(f\"Number of units before curation: {len(sorting_IC.get_unit_ids())}\")\n",
    "print(f\"Number of units after curation: {len(sorting_auto.get_unit_ids())}\")"
   ]
  },
  {
   "cell_type": "markdown",
   "metadata": {},
   "source": [
    "# 8. Spike sorting comparison <a class=\"anchor\" id=\"comparison\"></a>\n",
    "\n",
    "Can we combine the output of multiple sorters to curate the spike sorting output?\n",
    "\n",
    "To answer this question we can use the `comparison` module.\n",
    "We first compare and match the output spike trains of the different sorters, and we can then extract a new `SortingExtractor` with only the units in agreement."
   ]
  },
  {
   "cell_type": "markdown",
   "metadata": {},
   "source": [
    "### compare 2 by two"
   ]
  },
  {
   "cell_type": "code",
   "execution_count": 107,
   "metadata": {},
   "outputs": [],
   "source": [
    "comp = comp_TDC_IC = sc.compare_two_sorters(sorting_TDC, sorting_IC, 'TDC', 'IC')"
   ]
  },
  {
   "cell_type": "code",
   "execution_count": 108,
   "metadata": {},
   "outputs": [
    {
     "data": {
      "text/plain": [
       "<spikeinterface.widgets.agreementmatrix.AgreementMatrixWidget at 0x7f4821dc4040>"
      ]
     },
     "execution_count": 108,
     "metadata": {},
     "output_type": "execute_result"
    },
    {
     "data": {
      "image/png": "[encoded data removed]",
      "text/plain": [
       "<Figure size 432x288 with 1 Axes>"
      ]
     },
     "metadata": {
      "needs_background": "light"
     },
     "output_type": "display_data"
    }
   ],
   "source": [
    "sw.plot_agreement_matrix(comp)"
   ]
  },
  {
   "cell_type": "code",
   "execution_count": 109,
   "metadata": {},
   "outputs": [
    {
     "data": {
      "text/plain": [
       "<spikeinterface.widgets.agreementmatrix.AgreementMatrixWidget at 0x7f483334a5b0>"
      ]
     },
     "execution_count": 109,
     "metadata": {},
     "output_type": "execute_result"
    },
    {
     "data": {
      "image/png": "[encoded data removed]",
      "text/plain": [
       "<Figure size 432x288 with 1 Axes>"
      ]
     },
     "metadata": {
      "needs_background": "light"
     },
     "output_type": "display_data"
    }
   ],
   "source": [
    "comp = comp_TDC_IC = sc.compare_two_sorters(sorting_SC, sorting_IC, 'SC', 'IC')\n",
    "sw.plot_agreement_matrix(comp)"
   ]
  },
  {
   "cell_type": "code",
   "execution_count": 110,
   "metadata": {},
   "outputs": [
    {
     "data": {
      "text/plain": [
       "<spikeinterface.widgets.agreementmatrix.AgreementMatrixWidget at 0x7f4837af0910>"
      ]
     },
     "execution_count": 110,
     "metadata": {},
     "output_type": "execute_result"
    },
    {
     "data": {
      "image/png": "[encoded data removed]",
      "text/plain": [
       "<Figure size 432x288 with 1 Axes>"
      ]
     },
     "metadata": {
      "needs_background": "light"
     },
     "output_type": "display_data"
    }
   ],
   "source": [
    "comp = comp_TDC_IC = sc.compare_two_sorters(sorting_SC, sorting_TDC, 'SC', 'TDC')\n",
    "sw.plot_agreement_matrix(comp)"
   ]
  },
  {
   "cell_type": "markdown",
   "metadata": {},
   "source": [
    "### compare all"
   ]
  },
  {
   "cell_type": "code",
   "execution_count": 111,
   "metadata": {},
   "outputs": [
    {
     "name": "stdout",
     "output_type": "stream",
     "text": [
      "Multicomaprison step 1: pairwise comparison\n",
      "  Comparing: TDC and IC\n",
      "  Comparing: TDC and SC\n",
      "  Comparing: IC and SC\n",
      "Multicomparison step 2: make graph\n",
      "Multicomaprison step 3: clean graph\n",
      "Removed 0 duplicate nodes\n",
      "Multicomparison step 4: extract agreement from graph\n"
     ]
    }
   ],
   "source": [
    "mcmp = sc.compare_multiple_sorters([sorting_TDC, sorting_IC, sorting_SC], ['TDC', 'IC', 'SC'], \n",
    "                                   spiketrain_mode='union', verbose=True)"
   ]
  },
  {
   "cell_type": "code",
   "execution_count": 112,
   "metadata": {},
   "outputs": [
    {
     "data": {
      "image/png": "[encoded data removed]",
      "text/plain": [
       "<Figure size 432x288 with 1 Axes>"
      ]
     },
     "metadata": {},
     "output_type": "display_data"
    },
    {
     "data": {
      "image/png": "[encoded data removed]",
      "text/plain": [
       "<Figure size 432x288 with 3 Axes>"
      ]
     },
     "metadata": {},
     "output_type": "display_data"
    }
   ],
   "source": [
    "w = sw.plot_multicomp_agreement(mcmp)\n",
    "w = sw.plot_multicomp_agreement_by_sorter(mcmp)"
   ]
  },
  {
   "cell_type": "code",
   "execution_count": 113,
   "metadata": {
    "pycharm": {
     "name": "#%%\n"
    }
   },
   "outputs": [
    {
     "data": {
      "text/plain": [
       "<spikeinterface.widgets.multicompgraph.MultiCompGraphWidget at 0x7f4821cfcee0>"
      ]
     },
     "execution_count": 113,
     "metadata": {},
     "output_type": "execute_result"
    },
    {
     "data": {
      "image/png": "[encoded data removed]",
      "text/plain": [
       "<Figure size 432x288 with 1 Axes>"
      ]
     },
     "metadata": {},
     "output_type": "display_data"
    }
   ],
   "source": [
    "sw.plot_multicomp_graph(mcmp, draw_labels=True)"
   ]
  },
  {
   "cell_type": "code",
   "execution_count": 114,
   "metadata": {},
   "outputs": [],
   "source": [
    "agreement_sorting = mcmp.get_agreement_sorting(minimum_agreement_count=2)"
   ]
  },
  {
   "cell_type": "code",
   "execution_count": 115,
   "metadata": {},
   "outputs": [
    {
     "data": {
      "text/plain": [
       "<spikeinterface.widgets.rasters.RasterWidget at 0x7f4821cfcd30>"
      ]
     },
     "execution_count": 115,
     "metadata": {},
     "output_type": "execute_result"
    },
    {
     "data": {
      "image/png": "[encoded data removed]",
      "text/plain": [
       "<Figure size 432x288 with 1 Axes>"
      ]
     },
     "metadata": {
      "needs_background": "light"
     },
     "output_type": "display_data"
    }
   ],
   "source": [
    "sw.plot_rasters(agreement_sorting)"
   ]
  },
  {
   "cell_type": "markdown",
   "metadata": {
    "pycharm": {
     "name": "#%% md\n"
    }
   },
   "source": [
    "# 9. Exporters <a class=\"anchor\" id=\"exporters\"></a>"
   ]
  },
  {
   "cell_type": "markdown",
   "metadata": {
    "pycharm": {
     "name": "#%% md\n"
    }
   },
   "source": [
    "## Export to Phy for manual curation\n",
    "\n",
    "To perform manual curation we can export the data to [Phy](https://github.com/cortex-lab/phy). "
   ]
  },
  {
   "cell_type": "code",
   "execution_count": 116,
   "metadata": {},
   "outputs": [],
   "source": [
    "from spikeinterface.exporters import export_to_phy"
   ]
  },
  {
   "cell_type": "code",
   "execution_count": 122,
   "metadata": {
    "pycharm": {
     "name": "#%%\n"
    }
   },
   "outputs": [
    {
     "name": "stdout",
     "output_type": "stream",
     "text": [
      "write_binary_recording with n_jobs 1  chunk_size 3125000\n"
     ]
    },
    {
     "name": "stderr",
     "output_type": "stream",
     "text": [
      "write_binary_recording: 100%|##########| 2/2 [00:00<00:00,  4.57it/s]\n",
      "extract PCs: 100%|##########| 2/2 [02:02<00:00, 61.20s/it]\n"
     ]
    },
    {
     "name": "stdout",
     "output_type": "stream",
     "text": [
      "Run:\n",
      "phy template-gui  /data_local/DataSpikeSorting/data_tutorial/McKenzie/phy_IC/params.py\n"
     ]
    }
   ],
   "source": [
    "export_to_phy(we_all, output_folder=base_folder / 'phy_IC',\n",
    "              progress_bar=True, total_memory='100M')"
   ]
  },
  {
   "cell_type": "code",
   "execution_count": 123,
   "metadata": {
    "pycharm": {
     "name": "#%%\n"
    }
   },
   "outputs": [],
   "source": [
    "%%capture --no-display\n",
    "!phy template-gui phy_IC/params.py"
   ]
  },
  {
   "cell_type": "markdown",
   "metadata": {
    "pycharm": {
     "name": "#%% md\n"
    }
   },
   "source": [
    "After curating the results we can reload it using the `PhySortingExtractor` and exclude the units that we labeled as `noise`:"
   ]
  },
  {
   "cell_type": "code",
   "execution_count": 107,
   "metadata": {},
   "outputs": [],
   "source": [
    "sorting_IC_phy_curated = se.PhySortingExtractor(base_folder / 'phy_IC/', exclude_cluster_groups=['noise'])"
   ]
  },
  {
   "cell_type": "code",
   "execution_count": 108,
   "metadata": {},
   "outputs": [
    {
     "name": "stdout",
     "output_type": "stream",
     "text": [
      "Number of units before curation: 25\n",
      "Number of units after curation: 21\n"
     ]
    }
   ],
   "source": [
    "print(f\"Number of units before curation: {len(sorting_IC.get_unit_ids())}\")\n",
    "# in manual curation, 4 units were labeled as noise:\n",
    "print(f\"Number of units after curation: {len(sorting_IC_phy_curated.get_unit_ids())}\")"
   ]
  },
  {
   "cell_type": "markdown",
   "metadata": {},
   "source": [
    "## Export spike sorting report"
   ]
  },
  {
   "cell_type": "code",
   "execution_count": 118,
   "metadata": {},
   "outputs": [],
   "source": [
    "from spikeinterface.exporters import export_report"
   ]
  },
  {
   "cell_type": "code",
   "execution_count": 119,
   "metadata": {
    "scrolled": true
   },
   "outputs": [],
   "source": [
    "%%capture --no-display\n",
    "export_report(waveform_extractor=we, output_folder=base_folder/\"SI_report\", format=\"png\", show_figures=False)"
   ]
  },
  {
   "cell_type": "code",
   "execution_count": 120,
   "metadata": {
    "pycharm": {
     "name": "#%%\n"
    }
   },
   "outputs": [
    {
     "name": "stdout",
     "output_type": "stream",
     "text": [
      " amplitudes_distribution.png   unit_localization.png\n",
      "'quality metrics.csv'\t       units\n",
      "'unit list.csv'\t\t       units_depth_vs_amplitude.png\n"
     ]
    }
   ],
   "source": [
    "!ls {base_folder}/SI_report"
   ]
  },
  {
   "cell_type": "code",
   "execution_count": 121,
   "metadata": {},
   "outputs": [
    {
     "name": "stdout",
     "output_type": "stream",
     "text": [
      "0.png\t12.png\t15.png\t18.png\t20.png\t23.png\t2.png  5.png  8.png\n",
      "10.png\t13.png\t16.png\t19.png\t21.png\t24.png\t3.png  6.png  9.png\n",
      "11.png\t14.png\t17.png\t1.png\t22.png\t25.png\t4.png  7.png\n"
     ]
    }
   ],
   "source": [
    "!ls {base_folder}/SI_report/units/"
   ]
  },
  {
   "cell_type": "markdown",
   "metadata": {},
   "source": [
    "# Et voilà"
   ]
  }
 ],
 "metadata": {
  "kernelspec": {
   "display_name": "Python 3",
   "language": "python",
   "name": "python3"
  },
  "language_info": {
   "codemirror_mode": {
    "name": "ipython",
    "version": 3
   },
   "file_extension": ".py",
   "mimetype": "text/x-python",
   "name": "python",
   "nbconvert_exporter": "python",
   "pygments_lexer": "ipython3",
   "version": "3.8.10"
  },
  "pycharm": {
   "stem_cell": {
    "cell_type": "raw",
    "metadata": {
     "collapsed": false
    },
    "source": []
   }
  }
 },
 "nbformat": 4,
 "nbformat_minor": 4
}
