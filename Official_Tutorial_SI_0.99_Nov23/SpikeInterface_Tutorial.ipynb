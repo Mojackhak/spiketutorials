{
 "cells": [
  {
   "cell_type": "markdown",
   "metadata": {},
   "source": [
    "# SpikeInterface DEMO v0.99 -  Cambridge Neurotech Webinar\n",
    "\n",
    "## November 2023\n",
    "\n",
    "For this demo we will use a small file provided by Eduarda Centeno, Arthur Leblois and Aude Retailleau from IMN lab in Bordeaux.\n",
    "\n",
    "It is a recording from a zebra finch using the \"ASSY-236-H5\" probe from Cambridge Neurotech.\n",
    "The acquisition system is the Open Ephys usb3 board.\n",
    "This file is only for testing or teaching purposes.\n",
    "\n",
    "The dataset can be download here\n",
    "https://drive.google.com/drive/folders/17RlgsMLheW82IMLMgmTFifVACebDZ8X5?usp=sharing\n"
   ]
  },
  {
   "cell_type": "markdown",
   "metadata": {},
   "source": [
    "# Table of contents\n",
    "\n",
    "* [0. Preparation](#preparation)\n",
    "* [1. Reading recording and sorting](#loading)\n",
    "* [2. Preprocessing](#preprocessing)\n",
    "* [3. Saving and loading SpikeInterface objects](#save-load)\n",
    "* [4. Data compression](#compression)\n",
    "* [5. Spike sorting](#spike-sorting)\n",
    "* [6. Extracting waveforms](#waveforms)\n",
    "* [7. Postprocessing](#postprocessing)\n",
    "* [8. Validation and curation](#curation)\n",
    "* [9. Viewers](#viewers)\n",
    "* [10. Spike sorting comparison](#comparison)\n",
    "* [11. Exporters](#exporters)"
   ]
  },
  {
   "cell_type": "markdown",
   "metadata": {},
   "source": [
    "# 0. Preparation <a class=\"anchor\" id=\"preparation\"></a>"
   ]
  },
  {
   "cell_type": "markdown",
   "metadata": {},
   "source": [
    "### Download the ephys data\n",
    "\n"
   ]
  },
  {
   "cell_type": "code",
   "execution_count": 1,
   "metadata": {},
   "outputs": [],
   "source": [
    "import spikeinterface.full as si"
   ]
  },
  {
   "cell_type": "code",
   "execution_count": 2,
   "metadata": {},
   "outputs": [
    {
     "name": "stdout",
     "output_type": "stream",
     "text": [
      "SpikeInterface version: 0.99.0\n"
     ]
    }
   ],
   "source": [
    "print(f\"SpikeInterface version: {si.__version__}\")"
   ]
  },
  {
   "cell_type": "code",
   "execution_count": 3,
   "metadata": {},
   "outputs": [],
   "source": [
    "import matplotlib.pyplot as plt\n",
    "import numpy as np\n",
    "from pathlib import Path\n",
    "\n",
    "import warnings\n",
    "warnings.simplefilter(\"ignore\")\n",
    "\n",
    "# %matplotlib widget\n",
    "%matplotlib inline"
   ]
  },
  {
   "cell_type": "markdown",
   "metadata": {},
   "source": [
    "# 1. Reading recording and sorting <a class=\"anchor\" id=\"loading\"></a>\n",
    "\n",
    "More documention on this section here: https://spikeinterface.readthedocs.io/en/latest/modules/core.html"
   ]
  },
  {
   "cell_type": "code",
   "execution_count": 4,
   "metadata": {},
   "outputs": [],
   "source": [
    "#base_folder = Path('/data_local/DataSpikeSorting/SI_tutorial_cambridgeneurotech_2023')\n",
    "base_folder = Path(\".\")\n",
    "oe_folder = base_folder / 'openephys_recording/2023-08-23_15-56-05'\n"
   ]
  },
  {
   "cell_type": "code",
   "execution_count": 5,
   "metadata": {},
   "outputs": [],
   "source": [
    "full_raw_rec = si.read_openephys(oe_folder)\n"
   ]
  },
  {
   "cell_type": "markdown",
   "metadata": {},
   "source": [
    "The `read_openephys()` function returns a `Recording` (or `RecordingExtractor`) object. We can print it to visualize some of its properties:"
   ]
  },
  {
   "cell_type": "code",
   "execution_count": 6,
   "metadata": {},
   "outputs": [
    {
     "data": {
      "text/plain": [
       "OpenEphysBinaryRecordingExtractor: 72 channels - 30.0kHz - 1 segments - 9,000,000 samples \n",
       "                                   300.00s (5.00 minutes) - int16 dtype - 1.21 GiB"
      ]
     },
     "execution_count": 6,
     "metadata": {},
     "output_type": "execute_result"
    }
   ],
   "source": [
    "full_raw_rec"
   ]
  },
  {
   "cell_type": "markdown",
   "metadata": {},
   "source": [
    "Our recording is 64 ephys channels and 8 auxs"
   ]
  },
  {
   "cell_type": "code",
   "execution_count": 7,
   "metadata": {},
   "outputs": [
    {
     "data": {
      "text/plain": [
       "array(['CH1', 'CH2', 'CH3', 'CH4', 'CH5', 'CH6', 'CH7', 'CH8', 'CH9',\n",
       "       'CH10', 'CH11', 'CH12', 'CH13', 'CH14', 'CH15', 'CH16', 'CH17',\n",
       "       'CH18', 'CH19', 'CH20', 'CH21', 'CH22', 'CH23', 'CH24', 'CH25',\n",
       "       'CH26', 'CH27', 'CH28', 'CH29', 'CH30', 'CH31', 'CH32', 'CH33',\n",
       "       'CH34', 'CH35', 'CH36', 'CH37', 'CH38', 'CH39', 'CH40', 'CH41',\n",
       "       'CH42', 'CH43', 'CH44', 'CH45', 'CH46', 'CH47', 'CH48', 'CH49',\n",
       "       'CH50', 'CH51', 'CH52', 'CH53', 'CH54', 'CH55', 'CH56', 'CH57',\n",
       "       'CH58', 'CH59', 'CH60', 'CH61', 'CH62', 'CH63', 'CH64', 'ADC1',\n",
       "       'ADC2', 'ADC3', 'ADC4', 'ADC5', 'ADC6', 'ADC7', 'ADC8'],\n",
       "      dtype='<U64')"
      ]
     },
     "execution_count": 7,
     "metadata": {},
     "output_type": "execute_result"
    }
   ],
   "source": [
    "full_raw_rec.channel_ids"
   ]
  },
  {
   "cell_type": "markdown",
   "metadata": {},
   "source": [
    "`spikeinterface.extractors` integrate many readers"
   ]
  },
  {
   "cell_type": "code",
   "execution_count": 8,
   "metadata": {},
   "outputs": [
    {
     "data": {
      "text/plain": [
       "{'binaryfolder': spikeinterface.core.binaryfolder.BinaryFolderRecording,\n",
       " 'binary': spikeinterface.core.binaryrecordingextractor.BinaryRecordingExtractor,\n",
       " 'zarr': spikeinterface.core.zarrrecordingextractor.ZarrRecordingExtractor,\n",
       " 'numpy': spikeinterface.core.numpyextractors.NumpyRecording,\n",
       " 'shybrid': spikeinterface.extractors.shybridextractors.SHYBRIDRecordingExtractor,\n",
       " 'mda': spikeinterface.extractors.mdaextractors.MdaRecordingExtractor,\n",
       " 'nwb': spikeinterface.extractors.nwbextractors.NwbRecordingExtractor,\n",
       " 'cbin_ibl': spikeinterface.extractors.cbin_ibl.CompressedBinaryIblExtractor,\n",
       " 'ibl_streaming_recording': spikeinterface.extractors.iblstreamingrecording.IblStreamingRecordingExtractor,\n",
       " 'mcsh5': spikeinterface.extractors.mcsh5extractors.MCSH5RecordingExtractor,\n",
       " 'alphaomega': spikeinterface.extractors.neoextractors.alphaomega.AlphaOmegaRecordingExtractor,\n",
       " 'axona': spikeinterface.extractors.neoextractors.axona.AxonaRecordingExtractor,\n",
       " 'biocam': spikeinterface.extractors.neoextractors.biocam.BiocamRecordingExtractor,\n",
       " 'blackrock': spikeinterface.extractors.neoextractors.blackrock.BlackrockRecordingExtractor,\n",
       " 'ced': spikeinterface.extractors.neoextractors.ced.CedRecordingExtractor,\n",
       " 'edf': spikeinterface.extractors.neoextractors.edf.EDFRecordingExtractor,\n",
       " 'intan': spikeinterface.extractors.neoextractors.intan.IntanRecordingExtractor,\n",
       " 'maxwell': spikeinterface.extractors.neoextractors.maxwell.MaxwellRecordingExtractor,\n",
       " 'mearec': spikeinterface.extractors.neoextractors.mearec.MEArecRecordingExtractor,\n",
       " 'mcsraw': spikeinterface.extractors.neoextractors.mcsraw.MCSRawRecordingExtractor,\n",
       " 'neuralynx': spikeinterface.extractors.neoextractors.neuralynx.NeuralynxRecordingExtractor,\n",
       " 'neuroscope': spikeinterface.extractors.neoextractors.neuroscope.NeuroScopeRecordingExtractor,\n",
       " 'nix': spikeinterface.extractors.neoextractors.nix.NixRecordingExtractor,\n",
       " 'openephys': spikeinterface.extractors.neoextractors.openephys.OpenEphysBinaryRecordingExtractor,\n",
       " 'openephyslegacy': spikeinterface.extractors.neoextractors.openephys.OpenEphysLegacyRecordingExtractor,\n",
       " 'plexon': spikeinterface.extractors.neoextractors.plexon.PlexonRecordingExtractor,\n",
       " 'plexon2': spikeinterface.extractors.neoextractors.plexon2.Plexon2RecordingExtractor,\n",
       " 'spike2': spikeinterface.extractors.neoextractors.spike2.Spike2RecordingExtractor,\n",
       " 'spikegadgets': spikeinterface.extractors.neoextractors.spikegadgets.SpikeGadgetsRecordingExtractor,\n",
       " 'spikeglx': spikeinterface.extractors.neoextractors.spikeglx.SpikeGLXRecordingExtractor,\n",
       " 'tdt': spikeinterface.extractors.neoextractors.tdt.TdtRecordingExtractor,\n",
       " 'neuroexplorer': spikeinterface.extractors.neoextractors.neuroexplorer.NeuroExplorerRecordingExtractor}"
      ]
     },
     "execution_count": 8,
     "metadata": {},
     "output_type": "execute_result"
    }
   ],
   "source": [
    "si.recording_extractor_full_dict"
   ]
  },
  {
   "cell_type": "markdown",
   "metadata": {},
   "source": [
    "A `Recording` object extracts information about channel ids, channel locations (if present), the sampling frequency of the recording, and the extracellular traces (when prompted). The `NwbRecording` is designed specifically for NWB files.\n",
    "\n",
    "Here we retrieve information from the recording using the built-in functions from the `Recording`:"
   ]
  },
  {
   "cell_type": "markdown",
   "metadata": {},
   "source": [
    "SpikeInterface supports multi-segment recordings. A segment is a contiguous piece of data, and sometimes recordings can be made of multiple acquisitions, for examples a baseline, a stimulation phase, and a post recording. In such cases, the recording object will be made of multiple segments and be treated as such over the pipeline."
   ]
  },
  {
   "cell_type": "markdown",
   "metadata": {
    "pycharm": {
     "name": "#%% md\n"
    }
   },
   "source": [
    "The `get_traces()` function returns a TxN numpy array where N is the number of channel ids passed in (all channel ids are passed in by default) and T is the number of frames (determined by start_frame and end_frame)."
   ]
  },
  {
   "cell_type": "code",
   "execution_count": 9,
   "metadata": {
    "pycharm": {
     "name": "#%%\n"
    }
   },
   "outputs": [],
   "source": [
    "fs = full_raw_rec.get_sampling_frequency()\n",
    "trace_snippet = full_raw_rec.get_traces(start_frame=int(fs*0), end_frame=int(fs*2))"
   ]
  },
  {
   "cell_type": "code",
   "execution_count": 10,
   "metadata": {},
   "outputs": [
    {
     "name": "stdout",
     "output_type": "stream",
     "text": [
      "Traces shape: (60000, 72)\n"
     ]
    }
   ],
   "source": [
    "print('Traces shape:', trace_snippet.shape)"
   ]
  },
  {
   "cell_type": "markdown",
   "metadata": {
    "pycharm": {
     "name": "#%% md\n"
    }
   },
   "source": [
    "Before moving on with the analysis, we have to load the probe information. For this we will use the [ProbeInterface](https://probeinterface.readthedocs.io/en/main/index.html) package. \n",
    "\n",
    "ProbeInterface allows to easily create, manipulate, and visualize neural probes. Moreover, it comes with a wide range of IO functions to import and export existing formats. Finally, we have created a public library of commercial probes (https://github.com/SpikeInterface/probeinterface_library) that can be retrieved with a single line of code.\n",
    "\n",
    "Let's import `probeinterface`, download the probe and plot it!"
   ]
  },
  {
   "cell_type": "code",
   "execution_count": 11,
   "metadata": {},
   "outputs": [],
   "source": [
    "import probeinterface as pi\n",
    "from probeinterface.plotting import plot_probe"
   ]
  },
  {
   "cell_type": "code",
   "execution_count": 12,
   "metadata": {},
   "outputs": [
    {
     "name": "stdout",
     "output_type": "stream",
     "text": [
      "ASSY-236-H5 - cambridgeneurotech - 64ch - 1shanks\n"
     ]
    }
   ],
   "source": [
    "manufacturer = 'cambridgeneurotech'\n",
    "probe_name = 'ASSY-236-H5'\n",
    "\n",
    "probe = pi.get_probe(manufacturer, probe_name)\n",
    "print(probe)"
   ]
  },
  {
   "cell_type": "markdown",
   "metadata": {},
   "source": [
    "In most experiments, the neural probe has a connector, that is interfaced to an headstage, which in turn connects to the acquisition system. This *pathway* usually results in a channel remapping, which means that the order of the contacts on the probe is different than the order of the recorded traces.\n",
    "\n",
    "`probeinterface` provides a growing collection of common pathways that can be loaded directly to wire a device and apply the correct channel mapping:"
   ]
  },
  {
   "cell_type": "code",
   "execution_count": 13,
   "metadata": {},
   "outputs": [
    {
     "data": {
      "text/plain": [
       "['H32>RHD2132',\n",
       " 'ASSY-156>RHD2164',\n",
       " 'ASSY-116>RHD2132',\n",
       " 'ASSY-77>Adpt.A64-Om32_2x-sm-NN>RHD2164',\n",
       " 'ASSY-77>Adpt.A64-Om32_2x-sm-NN>two_RHD2132',\n",
       " 'cambridgeneurotech_mini-amp-64']"
      ]
     },
     "execution_count": 13,
     "metadata": {},
     "output_type": "execute_result"
    }
   ],
   "source": [
    "pi.get_available_pathways()"
   ]
  },
  {
   "cell_type": "code",
   "execution_count": 14,
   "metadata": {},
   "outputs": [],
   "source": [
    "probe.wiring_to_device('cambridgeneurotech_mini-amp-64')"
   ]
  },
  {
   "cell_type": "code",
   "execution_count": 15,
   "metadata": {},
   "outputs": [
    {
     "data": {
      "text/plain": [
       "(-50.0, 500.0)"
      ]
     },
     "execution_count": 15,
     "metadata": {},
     "output_type": "execute_result"
    },
    {
     "data": {
      "image/png": "[encoded data removed]",
      "text/plain": [
       "<Figure size 1400x1000 with 1 Axes>"
      ]
     },
     "metadata": {},
     "output_type": "display_data"
    }
   ],
   "source": [
    "fig, ax = plt.subplots(figsize=(14, 10))\n",
    "plot_probe(probe, ax=ax)\n",
    "ax.set_xlim(-100, 100)\n",
    "ax.set_ylim(-50, 500)"
   ]
  },
  {
   "cell_type": "code",
   "execution_count": 16,
   "metadata": {},
   "outputs": [
    {
     "data": {
      "text/plain": [
       "(-50.0, 300.0)"
      ]
     },
     "execution_count": 16,
     "metadata": {},
     "output_type": "execute_result"
    },
    {
     "data": {
      "image/png": "[encoded data removed]",
      "text/plain": [
       "<Figure size 1400x1000 with 1 Axes>"
      ]
     },
     "metadata": {},
     "output_type": "display_data"
    }
   ],
   "source": [
    "fig, ax = plt.subplots(figsize=(14, 10))\n",
    "plot_probe(probe, ax=ax, with_contact_id=True, with_device_index=True,)\n",
    "ax.set_xlim(-100, 100)\n",
    "ax.set_ylim(-50, 300)"
   ]
  },
  {
   "cell_type": "markdown",
   "metadata": {},
   "source": [
    "The probe now has contact ids `id#` and device ids `dev#`! We can also visualize the probe information as a `pandas` dataframe:"
   ]
  },
  {
   "cell_type": "code",
   "execution_count": 17,
   "metadata": {},
   "outputs": [
    {
     "data": {
      "text/html": [
       "<div>\n",
       "<style scoped>\n",
       "    .dataframe tbody tr th:only-of-type {\n",
       "        vertical-align: middle;\n",
       "    }\n",
       "\n",
       "    .dataframe tbody tr th {\n",
       "        vertical-align: top;\n",
       "    }\n",
       "\n",
       "    .dataframe thead th {\n",
       "        text-align: right;\n",
       "    }\n",
       "</style>\n",
       "<table border=\"1\" class=\"dataframe\">\n",
       "  <thead>\n",
       "    <tr style=\"text-align: right;\">\n",
       "      <th></th>\n",
       "      <th>contact_ids</th>\n",
       "      <th>shank_ids</th>\n",
       "      <th>device_channel_indices</th>\n",
       "    </tr>\n",
       "  </thead>\n",
       "  <tbody>\n",
       "    <tr>\n",
       "      <th>0</th>\n",
       "      <td>1</td>\n",
       "      <td></td>\n",
       "      <td>41</td>\n",
       "    </tr>\n",
       "    <tr>\n",
       "      <th>1</th>\n",
       "      <td>2</td>\n",
       "      <td></td>\n",
       "      <td>39</td>\n",
       "    </tr>\n",
       "    <tr>\n",
       "      <th>2</th>\n",
       "      <td>3</td>\n",
       "      <td></td>\n",
       "      <td>38</td>\n",
       "    </tr>\n",
       "    <tr>\n",
       "      <th>3</th>\n",
       "      <td>4</td>\n",
       "      <td></td>\n",
       "      <td>37</td>\n",
       "    </tr>\n",
       "    <tr>\n",
       "      <th>4</th>\n",
       "      <td>5</td>\n",
       "      <td></td>\n",
       "      <td>35</td>\n",
       "    </tr>\n",
       "    <tr>\n",
       "      <th>...</th>\n",
       "      <td>...</td>\n",
       "      <td>...</td>\n",
       "      <td>...</td>\n",
       "    </tr>\n",
       "    <tr>\n",
       "      <th>59</th>\n",
       "      <td>60</td>\n",
       "      <td></td>\n",
       "      <td>4</td>\n",
       "    </tr>\n",
       "    <tr>\n",
       "      <th>60</th>\n",
       "      <td>61</td>\n",
       "      <td></td>\n",
       "      <td>3</td>\n",
       "    </tr>\n",
       "    <tr>\n",
       "      <th>61</th>\n",
       "      <td>62</td>\n",
       "      <td></td>\n",
       "      <td>2</td>\n",
       "    </tr>\n",
       "    <tr>\n",
       "      <th>62</th>\n",
       "      <td>63</td>\n",
       "      <td></td>\n",
       "      <td>1</td>\n",
       "    </tr>\n",
       "    <tr>\n",
       "      <th>63</th>\n",
       "      <td>64</td>\n",
       "      <td></td>\n",
       "      <td>0</td>\n",
       "    </tr>\n",
       "  </tbody>\n",
       "</table>\n",
       "<p>64 rows × 3 columns</p>\n",
       "</div>"
      ],
      "text/plain": [
       "   contact_ids shank_ids  device_channel_indices\n",
       "0            1                                41\n",
       "1            2                                39\n",
       "2            3                                38\n",
       "3            4                                37\n",
       "4            5                                35\n",
       "..         ...       ...                     ...\n",
       "59          60                                 4\n",
       "60          61                                 3\n",
       "61          62                                 2\n",
       "62          63                                 1\n",
       "63          64                                 0\n",
       "\n",
       "[64 rows x 3 columns]"
      ]
     },
     "execution_count": 17,
     "metadata": {},
     "output_type": "execute_result"
    }
   ],
   "source": [
    "probe.to_dataframe(complete=True).loc[:, [\"contact_ids\", \"shank_ids\", \"device_channel_indices\"]]"
   ]
  },
  {
   "cell_type": "markdown",
   "metadata": {},
   "source": [
    "When loading the probe, the device indices (and all the other contact properties) are automatically sorted.\n",
    "And very importantly the recording is reduce to 644 channels!"
   ]
  },
  {
   "cell_type": "code",
   "execution_count": 18,
   "metadata": {},
   "outputs": [
    {
     "data": {
      "text/plain": [
       "ChannelSliceRecording: 64 channels - 30.0kHz - 1 segments - 9,000,000 samples \n",
       "                       300.00s (5.00 minutes) - int16 dtype - 1.07 GiB"
      ]
     },
     "execution_count": 18,
     "metadata": {},
     "output_type": "execute_result"
    }
   ],
   "source": [
    "raw_rec = full_raw_rec.set_probe(probe)\n",
    "raw_rec"
   ]
  },
  {
   "cell_type": "code",
   "execution_count": 19,
   "metadata": {},
   "outputs": [
    {
     "data": {
      "text/html": [
       "<div>\n",
       "<style scoped>\n",
       "    .dataframe tbody tr th:only-of-type {\n",
       "        vertical-align: middle;\n",
       "    }\n",
       "\n",
       "    .dataframe tbody tr th {\n",
       "        vertical-align: top;\n",
       "    }\n",
       "\n",
       "    .dataframe thead th {\n",
       "        text-align: right;\n",
       "    }\n",
       "</style>\n",
       "<table border=\"1\" class=\"dataframe\">\n",
       "  <thead>\n",
       "    <tr style=\"text-align: right;\">\n",
       "      <th></th>\n",
       "      <th>contact_ids</th>\n",
       "      <th>device_channel_indices</th>\n",
       "    </tr>\n",
       "  </thead>\n",
       "  <tbody>\n",
       "    <tr>\n",
       "      <th>0</th>\n",
       "      <td>64</td>\n",
       "      <td>0</td>\n",
       "    </tr>\n",
       "    <tr>\n",
       "      <th>1</th>\n",
       "      <td>63</td>\n",
       "      <td>1</td>\n",
       "    </tr>\n",
       "    <tr>\n",
       "      <th>2</th>\n",
       "      <td>62</td>\n",
       "      <td>2</td>\n",
       "    </tr>\n",
       "    <tr>\n",
       "      <th>3</th>\n",
       "      <td>61</td>\n",
       "      <td>3</td>\n",
       "    </tr>\n",
       "    <tr>\n",
       "      <th>4</th>\n",
       "      <td>60</td>\n",
       "      <td>4</td>\n",
       "    </tr>\n",
       "    <tr>\n",
       "      <th>...</th>\n",
       "      <td>...</td>\n",
       "      <td>...</td>\n",
       "    </tr>\n",
       "    <tr>\n",
       "      <th>59</th>\n",
       "      <td>53</td>\n",
       "      <td>59</td>\n",
       "    </tr>\n",
       "    <tr>\n",
       "      <th>60</th>\n",
       "      <td>52</td>\n",
       "      <td>60</td>\n",
       "    </tr>\n",
       "    <tr>\n",
       "      <th>61</th>\n",
       "      <td>51</td>\n",
       "      <td>61</td>\n",
       "    </tr>\n",
       "    <tr>\n",
       "      <th>62</th>\n",
       "      <td>50</td>\n",
       "      <td>62</td>\n",
       "    </tr>\n",
       "    <tr>\n",
       "      <th>63</th>\n",
       "      <td>49</td>\n",
       "      <td>63</td>\n",
       "    </tr>\n",
       "  </tbody>\n",
       "</table>\n",
       "<p>64 rows × 2 columns</p>\n",
       "</div>"
      ],
      "text/plain": [
       "   contact_ids  device_channel_indices\n",
       "0           64                       0\n",
       "1           63                       1\n",
       "2           62                       2\n",
       "3           61                       3\n",
       "4           60                       4\n",
       "..         ...                     ...\n",
       "59          53                      59\n",
       "60          52                      60\n",
       "61          51                      61\n",
       "62          50                      62\n",
       "63          49                      63\n",
       "\n",
       "[64 rows x 2 columns]"
      ]
     },
     "execution_count": 19,
     "metadata": {},
     "output_type": "execute_result"
    }
   ],
   "source": [
    "probe_rec = raw_rec.get_probe()\n",
    "probe_rec.to_dataframe(complete=True).loc[:, [\"contact_ids\", \"device_channel_indices\"]]"
   ]
  },
  {
   "cell_type": "markdown",
   "metadata": {},
   "source": [
    "We can now visualize the channel_id (channel name) from open ephys."
   ]
  },
  {
   "cell_type": "code",
   "execution_count": 20,
   "metadata": {},
   "outputs": [
    {
     "data": {
      "text/plain": [
       "(-50.0, 300.0)"
      ]
     },
     "execution_count": 20,
     "metadata": {},
     "output_type": "execute_result"
    },
    {
     "data": {
      "image/png": "[encoded data removed]",
      "text/plain": [
       "<Figure size 640x480 with 1 Axes>"
      ]
     },
     "metadata": {},
     "output_type": "display_data"
    }
   ],
   "source": [
    "fig, ax = plt.subplots()\n",
    "si.plot_probe_map(raw_rec, with_channel_ids=True, ax=ax)\n",
    "ax.set_xlim(-100, 100)\n",
    "ax.set_ylim(-50, 300)"
   ]
  },
  {
   "cell_type": "markdown",
   "metadata": {},
   "source": [
    "The `widgets` module includes several convenient plotting functions that can be used to explore the data:"
   ]
  },
  {
   "cell_type": "code",
   "execution_count": 21,
   "metadata": {},
   "outputs": [
    {
     "data": {
      "application/vnd.jupyter.widget-view+json": {
       "model_id": "766fc07b41124e0f8a1bbfe370444f3d",
       "version_major": 2,
       "version_minor": 0
      },
      "text/plain": [
       "AppLayout(children=(TimeSlider(children=(Dropdown(description='segment', options=(0,), value=0), Button(icon='…"
      ]
     },
     "metadata": {},
     "output_type": "display_data"
    },
    {
     "data": {
      "text/plain": [
       "<spikeinterface.widgets.traces.TracesWidget at 0x7fb5c80db550>"
      ]
     },
     "execution_count": 21,
     "metadata": {},
     "output_type": "execute_result"
    }
   ],
   "source": [
    "%matplotlib widget\n",
    "si.plot_traces(raw_rec, backend=\"ipywidgets\", mode='line', channel_ids=raw_rec.channel_ids[::8])"
   ]
  },
  {
   "cell_type": "markdown",
   "metadata": {
    "pycharm": {
     "name": "#%% md\n"
    }
   },
   "source": [
    "### Properties \n",
    "\n",
    "`Recording` objects can have *properties*. A property is a piece of information attached to a channel, e.g. group or location.\n",
    "\n",
    "Similarly, for `Sorting` objects (that we'll cover later), anything related to a unit can be stored as a property. \n",
    "\n",
    "We can check which properties are in the extractor as follows:"
   ]
  },
  {
   "cell_type": "code",
   "execution_count": 22,
   "metadata": {
    "pycharm": {
     "name": "#%%\n"
    }
   },
   "outputs": [
    {
     "name": "stdout",
     "output_type": "stream",
     "text": [
      "Properties:\n",
      " ['gain_to_uV', 'offset_to_uV', 'channel_name', 'contact_vector', 'location', 'group']\n"
     ]
    }
   ],
   "source": [
    "print(\"Properties:\\n\", list(raw_rec.get_property_keys()))"
   ]
  },
  {
   "cell_type": "markdown",
   "metadata": {
    "pycharm": {
     "name": "#%% md\n"
    }
   },
   "source": [
    "Let's add some new properties! \n",
    "The first 192 channels are in the CA1 area, the second 192 are in the CA3 area:"
   ]
  },
  {
   "cell_type": "code",
   "execution_count": 23,
   "metadata": {
    "pycharm": {
     "name": "#%%\n"
    }
   },
   "outputs": [
    {
     "name": "stdout",
     "output_type": "stream",
     "text": [
      "['CA1', 'CA1', 'CA1', 'CA1', 'CA1', 'CA1', 'CA1', 'CA1', 'CA1', 'CA1', 'CA1', 'CA1', 'CA1', 'CA1', 'CA1', 'CA1', 'CA1', 'CA1', 'CA1', 'CA1', 'CA1', 'CA1', 'CA1', 'CA1', 'CA1', 'CA1', 'CA1', 'CA1', 'CA1', 'CA1', 'CA1', 'CA1', 'CA3', 'CA3', 'CA3', 'CA3', 'CA3', 'CA3', 'CA3', 'CA3', 'CA3', 'CA3', 'CA3', 'CA3', 'CA3', 'CA3', 'CA3', 'CA3', 'CA3', 'CA3', 'CA3', 'CA3', 'CA3', 'CA3', 'CA3', 'CA3', 'CA3', 'CA3', 'CA3', 'CA3', 'CA3', 'CA3', 'CA3', 'CA3']\n"
     ]
    }
   ],
   "source": [
    "brain_area_property_values = ['CA1']*32 + ['CA3']*32\n",
    "print(brain_area_property_values)"
   ]
  },
  {
   "cell_type": "code",
   "execution_count": 24,
   "metadata": {},
   "outputs": [],
   "source": [
    "raw_rec.set_property(key='brain_area', values=brain_area_property_values)"
   ]
  },
  {
   "cell_type": "code",
   "execution_count": 25,
   "metadata": {},
   "outputs": [
    {
     "data": {
      "text/plain": [
       "['gain_to_uV',\n",
       " 'offset_to_uV',\n",
       " 'channel_name',\n",
       " 'contact_vector',\n",
       " 'location',\n",
       " 'group',\n",
       " 'brain_area']"
      ]
     },
     "execution_count": 25,
     "metadata": {},
     "output_type": "execute_result"
    }
   ],
   "source": [
    "raw_rec.get_property_keys()"
   ]
  },
  {
   "cell_type": "code",
   "execution_count": 26,
   "metadata": {},
   "outputs": [
    {
     "data": {
      "text/plain": [
       "array(['CA1', 'CA1', 'CA1', 'CA1', 'CA1', 'CA1', 'CA1', 'CA1', 'CA1',\n",
       "       'CA1', 'CA1', 'CA1', 'CA1', 'CA1', 'CA1', 'CA1', 'CA1', 'CA1',\n",
       "       'CA1', 'CA1', 'CA1', 'CA1', 'CA1', 'CA1', 'CA1', 'CA1', 'CA1',\n",
       "       'CA1', 'CA1', 'CA1', 'CA1', 'CA1', 'CA3', 'CA3', 'CA3', 'CA3',\n",
       "       'CA3', 'CA3', 'CA3', 'CA3', 'CA3', 'CA3', 'CA3', 'CA3', 'CA3',\n",
       "       'CA3', 'CA3', 'CA3', 'CA3', 'CA3', 'CA3', 'CA3', 'CA3', 'CA3',\n",
       "       'CA3', 'CA3', 'CA3', 'CA3', 'CA3', 'CA3', 'CA3', 'CA3', 'CA3',\n",
       "       'CA3'], dtype='<U3')"
      ]
     },
     "execution_count": 26,
     "metadata": {},
     "output_type": "execute_result"
    }
   ],
   "source": [
    "raw_rec.get_property(\"brain_area\")"
   ]
  },
  {
   "cell_type": "markdown",
   "metadata": {},
   "source": [
    "**NOTE:** Internally the properties is jus a dictionary attached to the recording that is accessible as `_properties`"
   ]
  },
  {
   "cell_type": "markdown",
   "metadata": {
    "pycharm": {
     "name": "#%% md\n"
    }
   },
   "source": [
    "### Annotations"
   ]
  },
  {
   "cell_type": "markdown",
   "metadata": {
    "pycharm": {
     "name": "#%% md\n"
    }
   },
   "source": [
    "*Annotations* can be attached to any object and they can carry any information related to the recording or sorting objects.\n",
    "\n",
    "Let's add an annotation about this tutorial:"
   ]
  },
  {
   "cell_type": "code",
   "execution_count": 27,
   "metadata": {
    "pycharm": {
     "name": "#%%\n"
    }
   },
   "outputs": [],
   "source": [
    "raw_rec.annotate(description=\"Dataset for SI tutorial\")"
   ]
  },
  {
   "cell_type": "code",
   "execution_count": 28,
   "metadata": {},
   "outputs": [
    {
     "name": "stdout",
     "output_type": "stream",
     "text": [
      "['is_filtered', 'probe_0_planar_contour', 'description']\n"
     ]
    }
   ],
   "source": [
    "print(raw_rec.get_annotation_keys())"
   ]
  },
  {
   "cell_type": "markdown",
   "metadata": {},
   "source": [
    "# 2. Preprocessing <a class=\"anchor\" id=\"preprocessing\"></a>\n",
    "\n",
    "Now that the probe information is loaded we can do some preprocessing using `preprocessing` module.\n",
    "\n",
    "We can filter the recordings, rereference the signals to remove noise, discard noisy channels, whiten the data, remove stimulation artifacts, etc. \n",
    "\n",
    "For this notebook, let's filter the recordings and apply common median reference (CMR). All preprocessing modules return new `Recording` objects that apply the underlying preprocessing function. This allows users to access the preprocessed data in the same way as the raw data.\n",
    "\n",
    "More documention on this section here: https://spikeinterface.readthedocs.io/en/latest/modules/preprocessing.html\n"
   ]
  },
  {
   "cell_type": "markdown",
   "metadata": {
    "pycharm": {
     "name": "#%% md\n"
    }
   },
   "source": [
    "Below, we bandpass filter the recording and apply common median reference to the original recording:"
   ]
  },
  {
   "cell_type": "code",
   "execution_count": 29,
   "metadata": {
    "pycharm": {
     "name": "#%%\n"
    }
   },
   "outputs": [],
   "source": [
    "recording_f = si.bandpass_filter(raw_rec, freq_min=300, freq_max=9000)"
   ]
  },
  {
   "cell_type": "markdown",
   "metadata": {
    "pycharm": {
     "name": "#%% md\n"
    }
   },
   "source": [
    "Let's now apply Common Median Reference (CMR):"
   ]
  },
  {
   "cell_type": "code",
   "execution_count": 30,
   "metadata": {},
   "outputs": [],
   "source": [
    "recording_cmr = si.common_reference(recording_f, reference='global', operator='median')"
   ]
  },
  {
   "cell_type": "markdown",
   "metadata": {},
   "source": [
    "We can plot the traces after applying CMR:"
   ]
  },
  {
   "cell_type": "code",
   "execution_count": 31,
   "metadata": {},
   "outputs": [
    {
     "data": {
      "application/vnd.jupyter.widget-view+json": {
       "model_id": "fedac04734834cbc8e696b053ac9c804",
       "version_major": 2,
       "version_minor": 0
      },
      "text/plain": [
       "AppLayout(children=(TimeSlider(children=(Dropdown(description='segment', options=(0,), value=0), Button(icon='…"
      ]
     },
     "metadata": {},
     "output_type": "display_data"
    }
   ],
   "source": [
    "w = si.plot_traces({\"filt\": recording_f, \"common\": recording_cmr}, mode='map',\n",
    "                   time_range=[10, 10.1], backend=\"ipywidgets\")"
   ]
  },
  {
   "cell_type": "markdown",
   "metadata": {},
   "source": [
    "## Removing bad channels\n",
    "\n"
   ]
  },
  {
   "cell_type": "code",
   "execution_count": 32,
   "metadata": {},
   "outputs": [
    {
     "name": "stdout",
     "output_type": "stream",
     "text": [
      "bad_channel_ids ['CH1' 'CH2' 'CH3' 'CH4' 'CH5' 'CH6' 'CH7' 'CH8' 'CH40' 'CH57' 'CH58'\n",
      " 'CH59' 'CH60' 'CH61' 'CH62' 'CH63' 'CH64']\n",
      "channel_labels ['dead' 'dead' 'dead' 'dead' 'dead' 'dead' 'dead' 'dead' 'good' 'good'\n",
      " 'good' 'good' 'good' 'good' 'good' 'good' 'good' 'good' 'good' 'good'\n",
      " 'good' 'good' 'good' 'good' 'good' 'good' 'good' 'good' 'good' 'good'\n",
      " 'good' 'good' 'good' 'good' 'good' 'good' 'good' 'good' 'good' 'out'\n",
      " 'good' 'good' 'good' 'good' 'good' 'good' 'good' 'good' 'good' 'good'\n",
      " 'good' 'good' 'good' 'good' 'good' 'good' 'dead' 'dead' 'dead' 'dead'\n",
      " 'dead' 'out' 'out' 'dead']\n"
     ]
    }
   ],
   "source": [
    "bad_channel_ids, channel_labels = si.detect_bad_channels(recording_f, method='coherence+psd')\n",
    "print('bad_channel_ids', bad_channel_ids)\n",
    "print('channel_labels', channel_labels)"
   ]
  },
  {
   "cell_type": "code",
   "execution_count": 33,
   "metadata": {},
   "outputs": [
    {
     "name": "stdout",
     "output_type": "stream",
     "text": [
      "CommonReferenceRecording: 47 channels - 30.0kHz - 1 segments - 9,000,000 samples \n",
      "                          300.00s (5.00 minutes) - int16 dtype - 806.81 MiB\n",
      "['CH9' 'CH10' 'CH11' 'CH12' 'CH13' 'CH14' 'CH15' 'CH16' 'CH17' 'CH18'\n",
      " 'CH19' 'CH20' 'CH21' 'CH22' 'CH23' 'CH24' 'CH25' 'CH26' 'CH27' 'CH28'\n",
      " 'CH29' 'CH30' 'CH31' 'CH32' 'CH33' 'CH34' 'CH35' 'CH36' 'CH37' 'CH38'\n",
      " 'CH39' 'CH41' 'CH42' 'CH43' 'CH44' 'CH45' 'CH46' 'CH47' 'CH48' 'CH49'\n",
      " 'CH50' 'CH51' 'CH52' 'CH53' 'CH54' 'CH55' 'CH56']\n"
     ]
    }
   ],
   "source": [
    "recording_good_channels_f = recording_f.remove_channels(bad_channel_ids)\n",
    "recording_good_channels = si.common_reference(recording_good_channels_f, reference='global', operator='median')\n",
    "\n",
    "print(recording_good_channels)\n",
    "print(recording_good_channels.channel_ids)"
   ]
  },
  {
   "cell_type": "code",
   "execution_count": 34,
   "metadata": {},
   "outputs": [
    {
     "data": {
      "application/vnd.jupyter.widget-view+json": {
       "model_id": "527861cf9c5c450c9971fae055c1fee4",
       "version_major": 2,
       "version_minor": 0
      },
      "text/plain": [
       "AppLayout(children=(TimeSlider(children=(Dropdown(description='segment', options=(0,), value=0), Button(icon='…"
      ]
     },
     "metadata": {},
     "output_type": "display_data"
    }
   ],
   "source": [
    "w = si.plot_traces(recording_good_channels, mode='map',\n",
    "                   time_range=[10, 10.1],\n",
    "                   backend=\"ipywidgets\")"
   ]
  },
  {
   "cell_type": "markdown",
   "metadata": {},
   "source": [
    "**NOTE**: you can also set a default plotting backend with the `si.set_default_plotter_backend()` function."
   ]
  },
  {
   "cell_type": "markdown",
   "metadata": {},
   "source": [
    "## Take only 5 min. for demo"
   ]
  },
  {
   "cell_type": "markdown",
   "metadata": {
    "pycharm": {
     "name": "#%% md\n"
    }
   },
   "source": [
    "Since we are going to spike sort the data, let's first cut out a 5-minute recording, to speed up computations. \n",
    "In this case, the raw data is already 5 minutes, but this can be useful to test on other longer datasets.\n",
    "\n",
    "We can easily do so with the `frame_slice()` function:"
   ]
  },
  {
   "cell_type": "code",
   "execution_count": 36,
   "metadata": {
    "pycharm": {
     "name": "#%%\n"
    }
   },
   "outputs": [
    {
     "data": {
      "text/plain": [
       "FrameSliceRecording: 47 channels - 30.0kHz - 1 segments - 9,000,000 samples \n",
       "                     300.00s (5.00 minutes) - int16 dtype - 806.81 MiB"
      ]
     },
     "execution_count": 36,
     "metadata": {},
     "output_type": "execute_result"
    }
   ],
   "source": [
    "fs = recording_cmr.get_sampling_frequency()\n",
    "recording_sub = recording_good_channels.frame_slice(start_frame=0*fs, end_frame=300*fs)\n",
    "recording_sub"
   ]
  },
  {
   "cell_type": "code",
   "execution_count": 37,
   "metadata": {},
   "outputs": [
    {
     "data": {
      "text/plain": [
       "FrameSliceRecording: 64 channels - 30.0kHz - 1 segments - 9,000,000 samples \n",
       "                     300.00s (5.00 minutes) - int16 dtype - 1.07 GiB"
      ]
     },
     "execution_count": 37,
     "metadata": {},
     "output_type": "execute_result"
    }
   ],
   "source": [
    "raw_rec_sub = raw_rec.frame_slice(start_frame=0*fs, end_frame=300*fs)\n",
    "raw_rec_sub"
   ]
  },
  {
   "cell_type": "markdown",
   "metadata": {
    "pycharm": {
     "name": "#%% md\n"
    }
   },
   "source": [
    "# 3. Saving and loading SpikeInterface objects <a class=\"anchor\" id=\"save-load\"></a>\n",
    "\n",
    "All operations in SpikeInterface are *lazy*, meaning that they are not performed if not needed. This is why the creation of our filter recording was almost instantaneous. However, to speed up further processing, we might want to **save** it to a file and perform those operations (eg. filters, CMR, etc.) at once. "
   ]
  },
  {
   "cell_type": "code",
   "execution_count": 38,
   "metadata": {},
   "outputs": [],
   "source": [
    "job_kwargs = dict(n_jobs=30, chunk_duration=\"1s\", progress_bar=True)"
   ]
  },
  {
   "cell_type": "code",
   "execution_count": 39,
   "metadata": {
    "pycharm": {
     "name": "#%%\n"
    }
   },
   "outputs": [
    {
     "name": "stdout",
     "output_type": "stream",
     "text": [
      "write_binary_recording with n_jobs = 30 and chunk_size = 30000\n"
     ]
    },
    {
     "data": {
      "application/vnd.jupyter.widget-view+json": {
       "model_id": "74345d36ea6b40958a2ac8f16890d680",
       "version_major": 2,
       "version_minor": 0
      },
      "text/plain": [
       "write_binary_recording:   0%|          | 0/300 [00:00<?, ?it/s]"
      ]
     },
     "metadata": {},
     "output_type": "display_data"
    }
   ],
   "source": [
    "if (base_folder / \"preprocessed\").is_dir():\n",
    "    recording_saved = si.load_extractor(base_folder / \"preprocessed\")\n",
    "else:\n",
    "    recording_saved = recording_sub.save(folder=base_folder / \"preprocessed\", **job_kwargs)"
   ]
  },
  {
   "cell_type": "markdown",
   "metadata": {
    "pycharm": {
     "name": "#%% md\n"
    }
   },
   "source": [
    "If we inspect the `preprocessed` folder, we find that a few files have been saved. Let's take a look at what they are:"
   ]
  },
  {
   "cell_type": "code",
   "execution_count": 40,
   "metadata": {},
   "outputs": [
    {
     "data": {
      "text/plain": [
       "BinaryFolderRecording: 47 channels - 30.0kHz - 1 segments - 9,000,000 samples \n",
       "                       300.00s (5.00 minutes) - int16 dtype - 806.81 MiB"
      ]
     },
     "execution_count": 40,
     "metadata": {},
     "output_type": "execute_result"
    }
   ],
   "source": [
    "recording_saved"
   ]
  },
  {
   "cell_type": "code",
   "execution_count": 41,
   "metadata": {
    "pycharm": {
     "name": "#%%\n"
    }
   },
   "outputs": [
    {
     "name": "stdout",
     "output_type": "stream",
     "text": [
      "total 807M\r\n",
      "-rw-rw-r-- 1 alessio alessio 6,1K nov  4 18:06 binary.json\r\n",
      "-rw-rw-r-- 1 alessio alessio  25K nov  4 18:06 probe.json\r\n",
      "drwxrwxr-x 2 alessio alessio 4,0K nov  4 18:06 properties\r\n",
      "-rw-rw-r-- 1 alessio alessio  98K nov  4 18:06 provenance.json\r\n",
      "-rw-rw-r-- 1 alessio alessio 7,1K nov  4 18:06 si_folder.json\r\n",
      "-rw-rw-r-- 1 alessio alessio 807M nov  4 18:06 traces_cached_seg0.raw\r\n"
     ]
    }
   ],
   "source": [
    "!ls -llh {base_folder}/preprocessed"
   ]
  },
  {
   "cell_type": "markdown",
   "metadata": {
    "pycharm": {
     "name": "#%% md\n"
    }
   },
   "source": [
    "The `traces_cached_seg0.raw` contains the processed raw data, while the `.json` files include information on how to reload the binary file. The `provenance.json` includes the information of the recording before saving it to a binary file, and the `probe.json` represents the probe object. "
   ]
  },
  {
   "cell_type": "markdown",
   "metadata": {
    "pycharm": {
     "name": "#%% md\n"
    }
   },
   "source": [
    "The `save` returns a new *cached* recording that has all the previously loaded information:"
   ]
  },
  {
   "cell_type": "code",
   "execution_count": 42,
   "metadata": {
    "pycharm": {
     "name": "#%%\n"
    }
   },
   "outputs": [
    {
     "name": "stdout",
     "output_type": "stream",
     "text": [
      "Saved channels ids:\n",
      "['CH9' 'CH10' 'CH11' 'CH12' 'CH13' 'CH14' 'CH15' 'CH16' 'CH17' 'CH18'\n",
      " 'CH19' 'CH20' 'CH21' 'CH22' 'CH23' 'CH24' 'CH25' 'CH26' 'CH27' 'CH28'\n",
      " 'CH29' 'CH30' 'CH31' 'CH32' 'CH33' 'CH34' 'CH35' 'CH36' 'CH37' 'CH38'\n",
      " 'CH39' 'CH41' 'CH42' 'CH43' 'CH44' 'CH45' 'CH46' 'CH47' 'CH48' 'CH49'\n",
      " 'CH50' 'CH51' 'CH52' 'CH53' 'CH54' 'CH55' 'CH56']\n"
     ]
    }
   ],
   "source": [
    "print(f'Saved channels ids:\\n{recording_saved.get_channel_ids()}')"
   ]
  },
  {
   "cell_type": "markdown",
   "metadata": {
    "pycharm": {
     "name": "#%% md\n"
    }
   },
   "source": [
    "After saving the SI object, we can easily load it back in a new session:"
   ]
  },
  {
   "cell_type": "code",
   "execution_count": 43,
   "metadata": {
    "pycharm": {
     "name": "#%%\n"
    }
   },
   "outputs": [],
   "source": [
    "recording_loaded = si.load_extractor(base_folder / \"preprocessed\")"
   ]
  },
  {
   "cell_type": "code",
   "execution_count": 44,
   "metadata": {},
   "outputs": [
    {
     "name": "stdout",
     "output_type": "stream",
     "text": [
      "Loaded channels ids:\n",
      "['CH9' 'CH10' 'CH11' 'CH12' 'CH13' 'CH14' 'CH15' 'CH16' 'CH17' 'CH18'\n",
      " 'CH19' 'CH20' 'CH21' 'CH22' 'CH23' 'CH24' 'CH25' 'CH26' 'CH27' 'CH28'\n",
      " 'CH29' 'CH30' 'CH31' 'CH32' 'CH33' 'CH34' 'CH35' 'CH36' 'CH37' 'CH38'\n",
      " 'CH39' 'CH41' 'CH42' 'CH43' 'CH44' 'CH45' 'CH46' 'CH47' 'CH48' 'CH49'\n",
      " 'CH50' 'CH51' 'CH52' 'CH53' 'CH54' 'CH55' 'CH56']\n"
     ]
    }
   ],
   "source": [
    "print(f'Loaded channels ids:\\n{recording_loaded.get_channel_ids()}')"
   ]
  },
  {
   "cell_type": "markdown",
   "metadata": {
    "pycharm": {
     "name": "#%% md\n"
    }
   },
   "source": [
    "**IMPORTANT**:\n",
    "The same saving mechanisms are available also for all `Sorting` objects,\n"
   ]
  },
  {
   "cell_type": "markdown",
   "metadata": {},
   "source": [
    "# 4. Data compression <a class=\"anchor\" id=\"compression\"></a>\n",
    "\n",
    "\n",
    "SpikeInterface also offers a powerful compression framework based on [Zarr](https://zarr.readthedocs.io/en/stable/).\n",
    "\n",
    "You can use the `save()` function to compress to `Zarr` with any available compressor (see [numcodecs](https://numcodecs.readthedocs.io/en/stable/) library)."
   ]
  },
  {
   "cell_type": "code",
   "execution_count": 45,
   "metadata": {},
   "outputs": [],
   "source": [
    "import numcodecs"
   ]
  },
  {
   "cell_type": "code",
   "execution_count": 46,
   "metadata": {},
   "outputs": [
    {
     "name": "stdout",
     "output_type": "stream",
     "text": [
      "write_zarr_recording with n_jobs = 30 and chunk_size = 30000\n"
     ]
    },
    {
     "data": {
      "application/vnd.jupyter.widget-view+json": {
       "model_id": "8f794fed30c443ee84936e8aad36765f",
       "version_major": 2,
       "version_minor": 0
      },
      "text/plain": [
       "write_zarr_recording:   0%|          | 0/300 [00:00<?, ?it/s]"
      ]
     },
     "metadata": {},
     "output_type": "display_data"
    }
   ],
   "source": [
    "if (base_folder / \"preprocessed_compressed.zarr\").is_dir():\n",
    "    recording_saved = si.read_zarr(base_folder / \"preprocessed_compressed.zarr\")\n",
    "else:\n",
    "    import numcodecs\n",
    "    compressor = numcodecs.Blosc(cname=\"zstd\", clevel=9, shuffle=numcodecs.Blosc.BITSHUFFLE)\n",
    "    recording_saved = recording_sub.save(format=\"zarr\", folder=base_folder / \"preprocessed_compressed.zarr\",\n",
    "                                         compressor=compressor,\n",
    "                                         **job_kwargs)"
   ]
  },
  {
   "cell_type": "code",
   "execution_count": 47,
   "metadata": {},
   "outputs": [
    {
     "name": "stdout",
     "output_type": "stream",
     "text": [
      "388M\t./preprocessed_compressed.zarr\n",
      "808M\t./preprocessed\n"
     ]
    }
   ],
   "source": [
    "!du -sh {base_folder}/preprocessed_compressed.zarr\n",
    "!du -sh {base_folder}/preprocessed"
   ]
  },
  {
   "cell_type": "markdown",
   "metadata": {},
   "source": [
    "For more details and an exhaustive comparison of compression methods, see our recent paper here:\n",
    "https://doi.org/10.1088/1741-2552/acf5a4"
   ]
  },
  {
   "cell_type": "markdown",
   "metadata": {},
   "source": [
    "# 4. Spike sorting <a class=\"anchor\" id=\"spike-sorting\"></a>\n",
    "\n",
    "We can now run spike sorting on the above recording. We will use different spike sorters for this demonstration, to show how easy SpikeInterface makes it easy to interchengably run different sorters :)\n",
    "\n",
    "Let's first check the available and installed sorters in `SpikeInterface`.\n",
    "We will sort the bandpass cached filtered recording the `recording_saved` object.\n",
    "\n",
    "\n",
    "\n",
    "More documention on this section here: https://spikeinterface.readthedocs.io/en/latest/modules/sorters.html"
   ]
  },
  {
   "cell_type": "code",
   "execution_count": 48,
   "metadata": {},
   "outputs": [
    {
     "data": {
      "text/plain": [
       "['combinato',\n",
       " 'hdsort',\n",
       " 'herdingspikes',\n",
       " 'ironclust',\n",
       " 'kilosort',\n",
       " 'kilosort2',\n",
       " 'kilosort2_5',\n",
       " 'kilosort3',\n",
       " 'klusta',\n",
       " 'mountainsort4',\n",
       " 'mountainsort5',\n",
       " 'pykilosort',\n",
       " 'spykingcircus',\n",
       " 'spykingcircus2',\n",
       " 'tridesclous',\n",
       " 'tridesclous2',\n",
       " 'waveclus',\n",
       " 'waveclus_snippets',\n",
       " 'yass']"
      ]
     },
     "execution_count": 48,
     "metadata": {},
     "output_type": "execute_result"
    }
   ],
   "source": [
    "si.available_sorters()"
   ]
  },
  {
   "cell_type": "code",
   "execution_count": 49,
   "metadata": {},
   "outputs": [
    {
     "data": {
      "text/plain": [
       "['spykingcircus2', 'tridesclous2']"
      ]
     },
     "execution_count": 49,
     "metadata": {},
     "output_type": "execute_result"
    }
   ],
   "source": [
    "si.installed_sorters()"
   ]
  },
  {
   "cell_type": "markdown",
   "metadata": {},
   "source": [
    "The `spikeinterface.sortingcomponents` module includes functions that can be used to create custom spike sorting pipelines built-in in `SpikeInterface`. It is still experimental and under heavy development, but there are already two SI-based sorters available:\n",
    "\n",
    "* `tridesclous2` (developed by Samuel Garcia)\n",
    "* `spykingcircus2` (developed by Pierre Yger)\n",
    "\n",
    "They can be run with the same `run_sorter` function, but they don't require any additional installation!"
   ]
  },
  {
   "cell_type": "markdown",
   "metadata": {},
   "source": [
    "For matlab based sorter we need to set the path of the source code"
   ]
  },
  {
   "cell_type": "code",
   "execution_count": 50,
   "metadata": {},
   "outputs": [],
   "source": [
    "kilosort_25_path = '/home/samuel.garcia/Documents/SpikeInterface/code_sorters/Kilosort2.5/'\n",
    "#kilosort_25_path = '/home/alessio/Documents/Codes/spike_sorting/sorters/Kilosort2_5'"
   ]
  },
  {
   "cell_type": "code",
   "execution_count": 51,
   "metadata": {},
   "outputs": [
    {
     "name": "stdout",
     "output_type": "stream",
     "text": [
      "Setting KILOSORT2_5_PATH environment variable for subprocess calls to: /home/alessio/Documents/Codes/spike_sorting/sorters/Kilosort2_5\n"
     ]
    },
    {
     "data": {
      "text/plain": [
       "['kilosort2_5', 'spykingcircus2', 'tridesclous2']"
      ]
     },
     "execution_count": 51,
     "metadata": {},
     "output_type": "execute_result"
    }
   ],
   "source": [
    "si.Kilosort2_5Sorter.set_kilosort2_5_path(kilosort_25_path)\n",
    "si.installed_sorters()"
   ]
  },
  {
   "cell_type": "markdown",
   "metadata": {},
   "source": [
    "We can retrieve the parameters associated to any sorter with the `get_default_params()` function from the `sorters` module:"
   ]
  },
  {
   "cell_type": "code",
   "execution_count": 52,
   "metadata": {
    "pycharm": {
     "name": "#%%\n"
    }
   },
   "outputs": [
    {
     "data": {
      "text/plain": [
       "{'detect_threshold': 6,\n",
       " 'projection_threshold': [10, 4],\n",
       " 'preclust_threshold': 8,\n",
       " 'car': True,\n",
       " 'minFR': 0.1,\n",
       " 'minfr_goodchannels': 0.1,\n",
       " 'nblocks': 5,\n",
       " 'sig': 20,\n",
       " 'freq_min': 150,\n",
       " 'sigmaMask': 30,\n",
       " 'nPCs': 3,\n",
       " 'ntbuff': 64,\n",
       " 'nfilt_factor': 4,\n",
       " 'NT': None,\n",
       " 'AUCsplit': 0.9,\n",
       " 'do_correction': True,\n",
       " 'wave_length': 61,\n",
       " 'keep_good_only': False,\n",
       " 'skip_kilosort_preprocessing': False,\n",
       " 'scaleproc': None,\n",
       " 'save_rez_to_mat': False,\n",
       " 'delete_tmp_files': ('matlab_files',),\n",
       " 'delete_recording_dat': False,\n",
       " 'n_jobs': 8,\n",
       " 'chunk_duration': '1s',\n",
       " 'progress_bar': True,\n",
       " 'mp_context': None,\n",
       " 'max_threads_per_process': 1}"
      ]
     },
     "execution_count": 52,
     "metadata": {},
     "output_type": "execute_result"
    }
   ],
   "source": [
    "si.get_default_sorter_params('kilosort2_5')"
   ]
  },
  {
   "cell_type": "code",
   "execution_count": 53,
   "metadata": {
    "pycharm": {
     "name": "#%%\n"
    }
   },
   "outputs": [],
   "source": [
    "si.run_sorter?"
   ]
  },
  {
   "cell_type": "markdown",
   "metadata": {
    "pycharm": {
     "name": "#%% md\n"
    }
   },
   "source": [
    "To modify a parameter, we can easily pass it to the `run` function as an extra argument!"
   ]
  },
  {
   "cell_type": "markdown",
   "metadata": {},
   "source": [
    "### Run sorter locally"
   ]
  },
  {
   "cell_type": "code",
   "execution_count": 54,
   "metadata": {},
   "outputs": [],
   "source": [
    "sorter_params = {'do_correction': False}"
   ]
  },
  {
   "cell_type": "code",
   "execution_count": 55,
   "metadata": {},
   "outputs": [
    {
     "name": "stdout",
     "output_type": "stream",
     "text": [
      "Starting container\n",
      "Installing spikeinterface==0.99.0 in spikeinterface/kilosort2_5-compiled-base\n",
      "Running kilosort2_5 sorter inside spikeinterface/kilosort2_5-compiled-base\n",
      "Stopping container\n"
     ]
    }
   ],
   "source": [
    "# run spike sorting on entire recording\n",
    "sorting_KS25 = si.run_sorter(sorter_name='kilosort2_5', recording=recording_saved, remove_existing_folder=True,\n",
    "                             output_folder=base_folder / 'results_KS25',\n",
    "                             verbose=True, **sorter_params, **job_kwargs)"
   ]
  },
  {
   "cell_type": "markdown",
   "metadata": {},
   "source": [
    "We can check the output object:"
   ]
  },
  {
   "cell_type": "code",
   "execution_count": 56,
   "metadata": {},
   "outputs": [
    {
     "data": {
      "text/plain": [
       "KiloSortSortingExtractor: 158 units - 1 segments - 30.0kHz"
      ]
     },
     "execution_count": 56,
     "metadata": {},
     "output_type": "execute_result"
    }
   ],
   "source": [
    "sorting_KS25"
   ]
  },
  {
   "cell_type": "markdown",
   "metadata": {
    "pycharm": {
     "name": "#%% md\n"
    }
   },
   "source": [
    "SpikeInterface ensures full provenance of the spike sorting pipeline. Upon running a spike sorter, a `spikeinterface_params.json` file is saved in the `output_folder`. This contains a `.json` version of the recording and all the input parameters. "
   ]
  },
  {
   "cell_type": "code",
   "execution_count": 57,
   "metadata": {
    "pycharm": {
     "name": "#%%\n"
    }
   },
   "outputs": [
    {
     "name": "stdout",
     "output_type": "stream",
     "text": [
      "total 24K\r\n",
      "drwxr-xr-x 3 alessio alessio 4,0K nov  4 18:08 in_container_sorting\r\n",
      "drwxr-xr-x 2 alessio alessio 4,0K nov  4 18:08 sorter_output\r\n",
      "-rw-r--r-- 1 alessio alessio 1,9K nov  4 18:08 spikeinterface_log.json\r\n",
      "-rw-r--r-- 1 alessio alessio  943 nov  4 18:07 spikeinterface_params.json\r\n",
      "-rw-r--r-- 1 alessio alessio 7,3K nov  4 18:07 spikeinterface_recording.json\r\n"
     ]
    }
   ],
   "source": [
    "!ls -llh {base_folder}/results_KS25"
   ]
  },
  {
   "cell_type": "code",
   "execution_count": 58,
   "metadata": {},
   "outputs": [
    {
     "name": "stdout",
     "output_type": "stream",
     "text": [
      "{\r\n",
      "    \"sorter_name\": \"kilosort2_5\",\r\n",
      "    \"sorter_params\": {\r\n",
      "        \"detect_threshold\": 6,\r\n",
      "        \"projection_threshold\": [\r\n",
      "            10,\r\n",
      "            4\r\n",
      "        ],\r\n",
      "        \"preclust_threshold\": 8,\r\n",
      "        \"car\": true,\r\n",
      "        \"minFR\": 0.1,\r\n",
      "        \"minfr_goodchannels\": 0.1,\r\n",
      "        \"nblocks\": 5,\r\n",
      "        \"sig\": 20,\r\n",
      "        \"freq_min\": 150,\r\n",
      "        \"sigmaMask\": 30,\r\n",
      "        \"nPCs\": 3,\r\n",
      "        \"ntbuff\": 64,\r\n",
      "        \"nfilt_factor\": 4,\r\n",
      "        \"NT\": 65600,\r\n",
      "        \"AUCsplit\": 0.9,\r\n",
      "        \"do_correction\": false,\r\n",
      "        \"wave_length\": 61,\r\n",
      "        \"keep_good_only\": false,\r\n",
      "        \"skip_kilosort_preprocessing\": false,\r\n",
      "        \"scaleproc\": null,\r\n",
      "        \"save_rez_to_mat\": false,\r\n",
      "        \"delete_tmp_files\": [\r\n",
      "            \"matlab_files\"\r\n",
      "        ],\r\n",
      "        \"delete_recording_dat\": false,\r\n",
      "        \"n_jobs\": 30,\r\n",
      "        \"chunk_duration\": \"1s\",\r\n",
      "        \"progress_bar\": true,\r\n",
      "        \"mp_context\": null,\r\n",
      "        \"max_threads_per_process\": 1\r\n",
      "    }\r\n",
      "}"
     ]
    }
   ],
   "source": [
    "!cat {base_folder}/results_KS25/spikeinterface_params.json"
   ]
  },
  {
   "cell_type": "markdown",
   "metadata": {
    "pycharm": {
     "name": "#%% md\n"
    }
   },
   "source": [
    "The spike sorting returns a `Sorting` object. Let's see some of its functions:"
   ]
  },
  {
   "cell_type": "code",
   "execution_count": 59,
   "metadata": {},
   "outputs": [
    {
     "name": "stdout",
     "output_type": "stream",
     "text": [
      "Spike train of a unit: [  52898  686187  787869  867807  909532  950178  967479 1043858 1168536\n",
      " 1517237 1614229 1828048 1828584 1829071 2107248 2169046 2170788 2171073\n",
      " 2424869 2732182 2792754 2833809 2834132 3022517 3481212 3565080 3571711\n",
      " 3603816 3754327 3896336 3942604 4000616 4132041 4132284 4223149 4245260\n",
      " 4281998 4487964 4816959 4846075 4943297 5010500 5270478 5655299 5845583\n",
      " 5927459 5978840 6000874 6018207 6251006 6251232 6423793 6530819 6614886\n",
      " 6614960 6615051 6621888 6656353 6859590 6861662 7072548 7072754 7097366\n",
      " 7097622 7109979 7213939 7248667 7329074 7363898 7365120 7396063 7482650\n",
      " 7488017 7540170 7540426 7626267 7636437 7905460 7947089 7983580 8060223\n",
      " 8093136 8262500 8375131 8423916 8468168 8541837 8779776 8974841]\n",
      "Spike train of a unit (in s): [354.72326667 375.8329     379.2223     381.8869     383.27773333\n",
      " 384.6326     385.2093     387.75526667 391.9112     403.53456667\n",
      " 406.76763333 413.89493333 413.9128     413.92903333 423.2016\n",
      " 425.26153333 425.3196     425.3291     433.78896667 444.03273333\n",
      " 446.0518     447.4203     447.43106667 453.71056667 469.0004\n",
      " 471.796      472.01703333 473.0872     478.10423333 482.83786667\n",
      " 484.38013333 486.31386667 490.6947     490.7028     493.73163333\n",
      " 494.46866667 495.69326667 502.5588     513.5253     514.49583333\n",
      " 517.73656667 519.97666667 528.6426     541.46996667 547.81276667\n",
      " 550.54196667 552.25466667 552.98913333 553.5669     561.32686667\n",
      " 561.3344     567.08643333 570.65396667 573.4562     573.45866667\n",
      " 573.4617     573.6896     574.83843333 581.613      581.68206667\n",
      " 588.7116     588.71846667 589.53886667 589.5474     589.9593\n",
      " 593.42463333 594.58223333 597.26246667 598.42326667 598.464\n",
      " 599.49543333 602.38166667 602.56056667 604.299      604.30753333\n",
      " 607.1689     607.5079     616.47533333 617.86296667 619.07933333\n",
      " 621.6341     622.7312     628.37666667 632.13103333 633.7572\n",
      " 635.23226667 637.6879     645.6192     652.12136667]\n"
     ]
    }
   ],
   "source": [
    "print(f'Spike train of a unit: {sorting_KS25.get_unit_spike_train(unit_id=1)}')\n",
    "print(f'Spike train of a unit (in s): {sorting_KS25.get_unit_spike_train(unit_id=1, return_times=True)}')"
   ]
  },
  {
   "cell_type": "markdown",
   "metadata": {
    "pycharm": {
     "name": "#%% md\n"
    }
   },
   "source": [
    "We can use `widgets` functions for some quick visualizations:"
   ]
  },
  {
   "cell_type": "code",
   "execution_count": 61,
   "metadata": {
    "pycharm": {
     "name": "#%%\n"
    }
   },
   "outputs": [
    {
     "data": {
      "image/png": "[encoded data removed]",
      "text/plain": [
       "<Figure size 640x480 with 1 Axes>"
      ]
     },
     "metadata": {},
     "output_type": "display_data"
    }
   ],
   "source": [
    "%matplotlib inline\n",
    "w_rs = si.plot_rasters(sorting_KS25, time_range=(0, 60), backend=\"matplotlib\")"
   ]
  },
  {
   "cell_type": "markdown",
   "metadata": {},
   "source": [
    "We can also save a spike sorting output for future use:"
   ]
  },
  {
   "cell_type": "code",
   "execution_count": 66,
   "metadata": {},
   "outputs": [],
   "source": [
    "sorting_saved_KS25 = sorting_KS25.save(folder=base_folder / \"sorting_KS25\")"
   ]
  },
  {
   "cell_type": "code",
   "execution_count": 67,
   "metadata": {},
   "outputs": [
    {
     "data": {
      "text/plain": [
       "NumpyFolderSorting: 158 units - 1 segments - 30.0kHz"
      ]
     },
     "execution_count": 67,
     "metadata": {},
     "output_type": "execute_result"
    }
   ],
   "source": [
    "sorting_loaded_KS25 = si.load_extractor(base_folder / \"sorting_KS25\")\n",
    "sorting_loaded_KS25"
   ]
  },
  {
   "cell_type": "markdown",
   "metadata": {},
   "source": [
    "### Run sorter in container\n",
    "\n",
    "Some sorters are hard to install! To alleviate this headache, SI provides a built-in mechanism to run a spike sorting job in a docker container.\n",
    "\n",
    "We are maintaining a set of sorter-specific docker files in the [spikeinterface-dockerfiles repo](<https://github.com/SpikeInterface/spikeinterface-dockerfiles>)\n",
    "and most of the docker images are available on Docker Hub from the [SpikeInterface organization](<https://hub.docker.com/orgs/spikeinterface/repositories>).\n",
    "\n",
    "Running spike sorting in a docker container just requires to:\n",
    "\n",
    "1. have docker/singularity installed\n",
    "2. have docker/singularity python SDK installed (`pip install docker/spython`)\n",
    "\n",
    "See this documentation : https://spikeinterface.readthedocs.io/en/latest/modules/sorters.html#running-sorters-in-docker-singularity-containers\n",
    "\n",
    "When docker/singularity is installed, you can simply run the sorter in a container image:"
   ]
  },
  {
   "cell_type": "code",
   "execution_count": 68,
   "metadata": {},
   "outputs": [
    {
     "name": "stdout",
     "output_type": "stream",
     "text": [
      "Starting container\n",
      "Installing spikeinterface==0.99.0 in spikeinterface/kilosort2-compiled-base\n",
      "Running kilosort2 sorter inside spikeinterface/kilosort2-compiled-base\n",
      "Stopping container\n"
     ]
    }
   ],
   "source": [
    "# run spike sorting on entire recording\n",
    "sorting_KS2 = si.run_sorter('kilosort2', recording_saved, \n",
    "                            output_folder=base_folder / 'results_KS2',\n",
    "                            verbose=True,\n",
    "                            docker_image=True, \n",
    "                            **job_kwargs)"
   ]
  },
  {
   "cell_type": "code",
   "execution_count": 69,
   "metadata": {},
   "outputs": [
    {
     "data": {
      "text/plain": [
       "KiloSortSortingExtractor: 145 units - 1 segments - 30.0kHz"
      ]
     },
     "execution_count": 69,
     "metadata": {},
     "output_type": "execute_result"
    }
   ],
   "source": [
    "sorting_KS2"
   ]
  },
  {
   "cell_type": "code",
   "execution_count": 70,
   "metadata": {},
   "outputs": [
    {
     "name": "stdout",
     "output_type": "stream",
     "text": [
      "KS2 found 145 units\n"
     ]
    }
   ],
   "source": [
    "print(f'KS2 found {len(sorting_KS2.get_unit_ids())} units')"
   ]
  },
  {
   "cell_type": "markdown",
   "metadata": {},
   "source": [
    "### Run internal sorter : spykingcircus2"
   ]
  },
  {
   "cell_type": "code",
   "execution_count": 71,
   "metadata": {},
   "outputs": [
    {
     "name": "stdout",
     "output_type": "stream",
     "text": [
      "detect peaks using locally_exclusive with n_jobs = 30 and chunk_size = 30000\n"
     ]
    },
    {
     "data": {
      "application/vnd.jupyter.widget-view+json": {
       "model_id": "4782bc5734a94fdda1a7d9a0d27982c1",
       "version_major": 2,
       "version_minor": 0
      },
      "text/plain": [
       "detect peaks using locally_exclusive:   0%|          | 0/300 [00:00<?, ?it/s]"
      ]
     },
     "metadata": {},
     "output_type": "display_data"
    },
    {
     "name": "stdout",
     "output_type": "stream",
     "text": [
      "We found 97705 peaks in total\n",
      "We kept 97705 peaks for clustering\n",
      "extracting features with n_jobs = 30 and chunk_size = 30000\n"
     ]
    },
    {
     "data": {
      "application/vnd.jupyter.widget-view+json": {
       "model_id": "0048977651fe48f786682e0441ec3e67",
       "version_major": 2,
       "version_minor": 0
      },
      "text/plain": [
       "extracting features:   0%|          | 0/300 [00:00<?, ?it/s]"
      ]
     },
     "metadata": {},
     "output_type": "display_data"
    },
    {
     "name": "stdout",
     "output_type": "stream",
     "text": [
      "We found 69 raw clusters, starting to clean with matching...\n",
      "extract waveforms shared_memory multi buffer with n_jobs = 30 and chunk_size = 30000\n"
     ]
    },
    {
     "data": {
      "application/vnd.jupyter.widget-view+json": {
       "model_id": "f568b8fa42e94951b1271c5ce36f20a3",
       "version_major": 2,
       "version_minor": 0
      },
      "text/plain": [
       "extract waveforms shared_memory multi buffer:   0%|          | 0/300 [00:00<?, ?it/s]"
      ]
     },
     "metadata": {},
     "output_type": "display_data"
    },
    {
     "name": "stdout",
     "output_type": "stream",
     "text": [
      "extract waveforms shared_memory multi buffer with n_jobs = 30 and chunk_size = 30000\n"
     ]
    },
    {
     "data": {
      "application/vnd.jupyter.widget-view+json": {
       "model_id": "290b06cfb1744108a8420d2a50e41b1e",
       "version_major": 2,
       "version_minor": 0
      },
      "text/plain": [
       "extract waveforms shared_memory multi buffer:   0%|          | 0/300 [00:00<?, ?it/s]"
      ]
     },
     "metadata": {},
     "output_type": "display_data"
    },
    {
     "name": "stdout",
     "output_type": "stream",
     "text": [
      "We kept 57 non-duplicated clusters...\n",
      "extract waveforms shared_memory multi buffer with n_jobs = 30 and chunk_size = 30000\n"
     ]
    },
    {
     "data": {
      "application/vnd.jupyter.widget-view+json": {
       "model_id": "c178c0733d0e48f2b24689a42e8676bf",
       "version_major": 2,
       "version_minor": 0
      },
      "text/plain": [
       "extract waveforms shared_memory multi buffer:   0%|          | 0/300 [00:00<?, ?it/s]"
      ]
     },
     "metadata": {},
     "output_type": "display_data"
    },
    {
     "name": "stdout",
     "output_type": "stream",
     "text": [
      "extract waveforms shared_memory multi buffer with n_jobs = 30 and chunk_size = 30000\n"
     ]
    },
    {
     "data": {
      "application/vnd.jupyter.widget-view+json": {
       "model_id": "889125c5d156479da7c2b0edbf098da6",
       "version_major": 2,
       "version_minor": 0
      },
      "text/plain": [
       "extract waveforms shared_memory multi buffer:   0%|          | 0/300 [00:00<?, ?it/s]"
      ]
     },
     "metadata": {},
     "output_type": "display_data"
    },
    {
     "name": "stdout",
     "output_type": "stream",
     "text": [
      "find spikes (circus-omp-svd) with n_jobs = 30 and chunk_size = 3000\n"
     ]
    },
    {
     "data": {
      "application/vnd.jupyter.widget-view+json": {
       "model_id": "15d783afe98f48229f393ad10f94f0d1",
       "version_major": 2,
       "version_minor": 0
      },
      "text/plain": [
       "find spikes (circus-omp-svd):   0%|          | 0/3000 [00:00<?, ?it/s]"
      ]
     },
     "metadata": {},
     "output_type": "display_data"
    },
    {
     "name": "stdout",
     "output_type": "stream",
     "text": [
      "We found 261495 spikes\n",
      "spykingcircus2 run time 294.08s\n"
     ]
    }
   ],
   "source": [
    "sorting_SC2 = si.run_sorter('spykingcircus2', recording_saved, \n",
    "                            output_folder=base_folder / 'results_SC2',\n",
    "                            verbose=True, job_kwargs=job_kwargs)"
   ]
  },
  {
   "cell_type": "code",
   "execution_count": 72,
   "metadata": {},
   "outputs": [
    {
     "data": {
      "text/plain": [
       "NumpyFolderSorting: 57 units - 1 segments - 30.0kHz"
      ]
     },
     "execution_count": 72,
     "metadata": {},
     "output_type": "execute_result"
    }
   ],
   "source": [
    "sorting_SC2"
   ]
  },
  {
   "cell_type": "markdown",
   "metadata": {},
   "source": [
    "# 6. Extracting waveforms <a class=\"anchor\" id=\"waveforms\"></a>\n",
    "\n",
    "The core of postprocessing spike sorting results revolves around extracting waveforms from paired recording-sorting objects.\n",
    "\n",
    "In the SI API, waveforms are extracted using the `WaveformExtractor` class in the `core` module.\n",
    "\n",
    "The `WaveformExtractor` object has convenient functions to retrieve waveforms and templates.\n",
    "Let's see how it works.\n",
    "\n",
    "To extract the waveforms, we can run:"
   ]
  },
  {
   "cell_type": "code",
   "execution_count": 73,
   "metadata": {},
   "outputs": [],
   "source": [
    "recording_saved = si.load_extractor(base_folder / \"preprocessed\")\n",
    "sorting = sorting_KS25"
   ]
  },
  {
   "cell_type": "code",
   "execution_count": 74,
   "metadata": {
    "pycharm": {
     "name": "#%%\n"
    }
   },
   "outputs": [],
   "source": [
    "si.extract_waveforms?"
   ]
  },
  {
   "cell_type": "markdown",
   "metadata": {},
   "source": [
    "### Global job kargs\n",
    "\n",
    "Across `SpikeInterface`, you will find that many functions use `job_kwargs` (e.g., the `save()` we used above, `extract_waveforms`, etc.).\n",
    "\n",
    "These arguments control the parallelization parameters and can be also set globally once and for all using the `set_global_job_kwargs()` function. \n",
    "\n",
    "Let's do that for the remaining of this tutorial:"
   ]
  },
  {
   "cell_type": "code",
   "execution_count": 75,
   "metadata": {},
   "outputs": [
    {
     "name": "stdout",
     "output_type": "stream",
     "text": [
      "{'n_jobs': 30, 'chunk_duration': '1s', 'progress_bar': True}\n",
      "{'n_jobs': 1, 'chunk_duration': '1s', 'progress_bar': True, 'mp_context': None, 'max_threads_per_process': 1}\n"
     ]
    }
   ],
   "source": [
    "print(job_kwargs)\n",
    "print(si.get_global_job_kwargs())"
   ]
  },
  {
   "cell_type": "code",
   "execution_count": 76,
   "metadata": {},
   "outputs": [
    {
     "name": "stdout",
     "output_type": "stream",
     "text": [
      "{'n_jobs': 30, 'chunk_duration': '1s', 'progress_bar': True, 'mp_context': None, 'max_threads_per_process': 1}\n"
     ]
    }
   ],
   "source": [
    "si.set_global_job_kwargs(**job_kwargs)\n",
    "print(si.get_global_job_kwargs())"
   ]
  },
  {
   "cell_type": "markdown",
   "metadata": {},
   "source": [
    "Now we can avoid passing `**job_kwargs`!"
   ]
  },
  {
   "cell_type": "code",
   "execution_count": 77,
   "metadata": {},
   "outputs": [
    {
     "data": {
      "application/vnd.jupyter.widget-view+json": {
       "model_id": "b1b944ac8d0045128297a529d659ee64",
       "version_major": 2,
       "version_minor": 0
      },
      "text/plain": [
       "extract waveforms memmap multi buffer:   0%|          | 0/300 [00:00<?, ?it/s]"
      ]
     },
     "metadata": {},
     "output_type": "display_data"
    },
    {
     "name": "stdout",
     "output_type": "stream",
     "text": [
      "WaveformExtractor: 47 channels - 158 units - 1 segments\n",
      "  before:30 after:60 n_per_units:500\n"
     ]
    }
   ],
   "source": [
    "we = si.extract_waveforms(recording_saved, sorting, folder=base_folder / \"waveforms_dense\", \n",
    "                          sparse=False, overwrite=True)\n",
    "print(we)"
   ]
  },
  {
   "cell_type": "markdown",
   "metadata": {
    "pycharm": {
     "name": "#%% md\n"
    }
   },
   "source": [
    "Now all waveforms are computed and stored in the provided `waveforms` folder. We can now retrieve waveforms and templates easily:"
   ]
  },
  {
   "cell_type": "code",
   "execution_count": 78,
   "metadata": {},
   "outputs": [
    {
     "name": "stdout",
     "output_type": "stream",
     "text": [
      "Waveforms shape: (500, 90, 47)\n",
      "Template shape: (90, 47)\n",
      "All templates shape: (158, 90, 47)\n"
     ]
    }
   ],
   "source": [
    "waveforms0 = we.get_waveforms(unit_id=0)\n",
    "print(f\"Waveforms shape: {waveforms0.shape}\")\n",
    "template0 = we.get_template(unit_id=0)\n",
    "print(f\"Template shape: {template0.shape}\")\n",
    "all_templates = we.get_all_templates()\n",
    "print(f\"All templates shape: {all_templates.shape}\")"
   ]
  },
  {
   "cell_type": "markdown",
   "metadata": {},
   "source": [
    "For waveforms, the dimension is (num_spikes, num_samples, num_channels), while each template has dimension (num_samples, num_channels). Note that the number of spikes in this case is 500..we'll get back to it later!\n",
    "\n",
    "The `WaveformExtractor` is also compatible with several `widgets` to visualize the spike sorting output:"
   ]
  },
  {
   "cell_type": "markdown",
   "metadata": {},
   "source": [
    "We can also render interactive plots with the `ipywidgets` backend!"
   ]
  },
  {
   "cell_type": "code",
   "execution_count": 79,
   "metadata": {},
   "outputs": [
    {
     "data": {
      "application/vnd.jupyter.widget-view+json": {
       "model_id": "2c5f88097dfa43dcafe6e25074c08695",
       "version_major": 2,
       "version_minor": 0
      },
      "text/plain": [
       "AppLayout(children=(HBox(children=(Checkbox(value=False, description='same axis'), Checkbox(value=True, descri…"
      ]
     },
     "metadata": {},
     "output_type": "display_data"
    }
   ],
   "source": [
    "%matplotlib widget\n",
    "w = si.plot_unit_templates(we,backend=\"ipywidgets\")"
   ]
  },
  {
   "cell_type": "markdown",
   "metadata": {},
   "source": [
    "As we noticed before, the number of spikes for the waveforms is 500. Let's check the number of spikes for other waveforms:"
   ]
  },
  {
   "cell_type": "code",
   "execution_count": 80,
   "metadata": {},
   "outputs": [
    {
     "name": "stdout",
     "output_type": "stream",
     "text": [
      "Unit 0 - num waveforms: 500 - num spikes: 4577\n",
      "Unit 10 - num waveforms: 198 - num spikes: 198\n",
      "Unit 20 - num waveforms: 500 - num spikes: 2305\n",
      "Unit 30 - num waveforms: 31 - num spikes: 31\n",
      "Unit 40 - num waveforms: 500 - num spikes: 5360\n",
      "Unit 50 - num waveforms: 500 - num spikes: 1299\n",
      "Unit 61 - num waveforms: 500 - num spikes: 2389\n",
      "Unit 71 - num waveforms: 266 - num spikes: 266\n",
      "Unit 81 - num waveforms: 18 - num spikes: 18\n",
      "Unit 91 - num waveforms: 500 - num spikes: 1712\n",
      "Unit 101 - num waveforms: 241 - num spikes: 241\n",
      "Unit 111 - num waveforms: 142 - num spikes: 142\n",
      "Unit 121 - num waveforms: 500 - num spikes: 644\n",
      "Unit 131 - num waveforms: 439 - num spikes: 439\n",
      "Unit 141 - num waveforms: 500 - num spikes: 1985\n",
      "Unit 151 - num waveforms: 500 - num spikes: 837\n"
     ]
    }
   ],
   "source": [
    "for unit in sorting.get_unit_ids()[::10]:\n",
    "    waveforms = we.get_waveforms(unit_id=unit)\n",
    "    spiketrain = sorting.get_unit_spike_train(unit)\n",
    "    print(f\"Unit {unit} - num waveforms: {waveforms.shape[0]} - num spikes: {len(spiketrain)}\")"
   ]
  },
  {
   "cell_type": "markdown",
   "metadata": {},
   "source": [
    "No units have more than 500 spikes! This is because by default, the `WaveformExtractor` extracts waveforms on a random subset of 500 spikes. To extract waveforms on all spikes, we could use the `max_spikes_per_unit` argument, but this would be crazy:"
   ]
  },
  {
   "cell_type": "markdown",
   "metadata": {},
   "source": [
    "```\n",
    "we_all = si.extract_waveforms(recording_saved, sorting, folder=base_folder / \"waveforms_all\", \n",
    "                              max_spikes_per_unit=None,\n",
    "                              overwrite=True,\n",
    "                              **job_kwargs)\n",
    "```"
   ]
  },
  {
   "cell_type": "markdown",
   "metadata": {},
   "source": [
    "Now waveforms have been extracted for all spikes! Let's move on to explore the postprocessing capabilities of the `postprocessing` module."
   ]
  },
  {
   "cell_type": "markdown",
   "metadata": {},
   "source": [
    "## Sparsity\n",
    "\n",
    "Especially when working with silicon high-density probes, or when our probe has multiple groups (e.g. multi-shank, tetrodes), we don't care about waveform/templates on all channels.\n",
    "In order to find a subset of channels for each unit, we can use the `compute_sparsity()` which give an object of sparsity per unit."
   ]
  },
  {
   "cell_type": "code",
   "execution_count": 81,
   "metadata": {},
   "outputs": [
    {
     "data": {
      "text/plain": [
       "ChannelSparsity - units: 158 - channels: 47 - density, P(x=1): 0.26"
      ]
     },
     "execution_count": 81,
     "metadata": {},
     "output_type": "execute_result"
    }
   ],
   "source": [
    "sparsity = si.compute_sparsity(we, method='radius', radius_um=100.0)\n",
    "sparsity"
   ]
  },
  {
   "cell_type": "code",
   "execution_count": 82,
   "metadata": {},
   "outputs": [
    {
     "name": "stdout",
     "output_type": "stream",
     "text": [
      "0 ['CH9', 'CH16', 'CH18', 'CH20', 'CH21', 'CH22', 'CH24', 'CH26', 'CH31', 'CH32']\n",
      "30 ['CH10', 'CH11', 'CH12', 'CH13', 'CH17', 'CH19', 'CH23', 'CH25', 'CH29', 'CH34', 'CH37', 'CH46', 'CH51', 'CH54']\n",
      "61 ['CH10', 'CH12', 'CH23', 'CH33', 'CH34', 'CH37', 'CH41', 'CH46', 'CH48', 'CH49', 'CH51', 'CH54']\n",
      "91 ['CH36', 'CH38', 'CH39', 'CH42', 'CH43', 'CH45', 'CH47', 'CH52', 'CH55', 'CH56']\n",
      "121 ['CH36', 'CH38', 'CH39', 'CH42', 'CH43', 'CH47', 'CH52', 'CH55', 'CH56']\n",
      "151 ['CH11', 'CH12', 'CH13', 'CH14', 'CH15', 'CH17', 'CH19', 'CH20', 'CH23', 'CH25', 'CH27', 'CH28', 'CH29', 'CH30']\n"
     ]
    }
   ],
   "source": [
    "#  check the sparsity for some units\n",
    "for unit_id in sorting.unit_ids[::30]:\n",
    "    print(unit_id, list(sparsity.unit_id_to_channel_ids[unit_id]))"
   ]
  },
  {
   "cell_type": "code",
   "execution_count": 83,
   "metadata": {},
   "outputs": [],
   "source": [
    "## lets use this sparsity object to extract waveforms again"
   ]
  },
  {
   "cell_type": "code",
   "execution_count": 84,
   "metadata": {},
   "outputs": [
    {
     "data": {
      "application/vnd.jupyter.widget-view+json": {
       "model_id": "698b47dc0fff4a539abe8e28d2c8bb0d",
       "version_major": 2,
       "version_minor": 0
      },
      "text/plain": [
       "extract waveforms memmap multi buffer:   0%|          | 0/300 [00:00<?, ?it/s]"
      ]
     },
     "metadata": {},
     "output_type": "display_data"
    },
    {
     "name": "stdout",
     "output_type": "stream",
     "text": [
      "WaveformExtractor: 47 channels - 158 units - 1 segments\n",
      "  before:30 after:60 n_per_units:500 - sparse\n"
     ]
    }
   ],
   "source": [
    "we = si.extract_waveforms(recording_saved, sorting, folder=base_folder / \"waveforms_sparse_explicit\", \n",
    "                          sparsity=sparsity)\n",
    "print(we)"
   ]
  },
  {
   "cell_type": "code",
   "execution_count": 85,
   "metadata": {},
   "outputs": [
    {
     "name": "stdout",
     "output_type": "stream",
     "text": [
      "0 (500, 90, 10)\n",
      "10 (198, 90, 13)\n",
      "20 (500, 90, 6)\n",
      "30 (31, 90, 14)\n",
      "40 (500, 90, 12)\n",
      "50 (500, 90, 13)\n",
      "61 (500, 90, 12)\n",
      "71 (266, 90, 13)\n",
      "81 (18, 90, 13)\n",
      "91 (500, 90, 10)\n",
      "101 (241, 90, 13)\n",
      "111 (142, 90, 7)\n",
      "121 (500, 90, 9)\n",
      "131 (439, 90, 14)\n",
      "141 (500, 90, 13)\n",
      "151 (500, 90, 14)\n"
     ]
    }
   ],
   "source": [
    "# the waveforms are now sparse\n",
    "for unit_id in we.unit_ids[::10]:\n",
    "    waveforms = we.get_waveforms(unit_id=unit_id)\n",
    "    print(unit_id, waveforms.shape)"
   ]
  },
  {
   "cell_type": "markdown",
   "metadata": {},
   "source": [
    "we can also auto estimate the sparsity directly on waveforms extraction, this avoid extacting twice (one dense + one sparse)"
   ]
  },
  {
   "cell_type": "code",
   "execution_count": 86,
   "metadata": {},
   "outputs": [
    {
     "data": {
      "application/vnd.jupyter.widget-view+json": {
       "model_id": "fca678762e81456fb575bc0f4870e156",
       "version_major": 2,
       "version_minor": 0
      },
      "text/plain": [
       "extract waveforms shared_memory multi buffer:   0%|          | 0/300 [00:00<?, ?it/s]"
      ]
     },
     "metadata": {},
     "output_type": "display_data"
    },
    {
     "data": {
      "application/vnd.jupyter.widget-view+json": {
       "model_id": "394c638cddc94774bfb42b3013ab7c33",
       "version_major": 2,
       "version_minor": 0
      },
      "text/plain": [
       "extract waveforms memmap multi buffer:   0%|          | 0/300 [00:00<?, ?it/s]"
      ]
     },
     "metadata": {},
     "output_type": "display_data"
    },
    {
     "name": "stdout",
     "output_type": "stream",
     "text": [
      "WaveformExtractor: 47 channels - 158 units - 1 segments\n",
      "  before:30 after:60 n_per_units:500 - sparse\n"
     ]
    }
   ],
   "source": [
    "we = si.extract_waveforms(recording_saved, sorting, folder=base_folder / \"waveforms_sparse\", \n",
    "                          sparse=True, **job_kwargs)\n",
    "print(we)"
   ]
  },
  {
   "cell_type": "code",
   "execution_count": 87,
   "metadata": {},
   "outputs": [
    {
     "name": "stdout",
     "output_type": "stream",
     "text": [
      "ChannelSparsity - units: 158 - channels: 47 - density, P(x=1): 0.26\n"
     ]
    }
   ],
   "source": [
    "# and we can acces the sparsity as an attributes of the object\n",
    "print(we.sparsity)"
   ]
  },
  {
   "cell_type": "markdown",
   "metadata": {},
   "source": [
    "Most of the plotting and exporting functions accept `sparsity` as an argument, but they will also automatically display sparse waveforms if the `WaveformExtractor` is sparse."
   ]
  },
  {
   "cell_type": "code",
   "execution_count": 88,
   "metadata": {},
   "outputs": [
    {
     "data": {
      "application/vnd.jupyter.widget-view+json": {
       "model_id": "be4fc85c7e5c456d9e663b226701a816",
       "version_major": 2,
       "version_minor": 0
      },
      "text/plain": [
       "AppLayout(children=(HBox(children=(Checkbox(value=False, description='same axis'), Checkbox(value=True, descri…"
      ]
     },
     "metadata": {},
     "output_type": "display_data"
    },
    {
     "data": {
      "text/plain": [
       "<spikeinterface.widgets.unit_templates.UnitTemplatesWidget at 0x7fb5527e21d0>"
      ]
     },
     "execution_count": 88,
     "metadata": {},
     "output_type": "execute_result"
    }
   ],
   "source": [
    "%matplotlib widget\n",
    "si.plot_unit_templates(we, backend=\"ipywidgets\")"
   ]
  },
  {
   "cell_type": "markdown",
   "metadata": {
    "pycharm": {
     "name": "#%% md\n"
    }
   },
   "source": [
    "# 7. Postprocessing <a class=\"anchor\" id=\"postprocessing\"></a>\n",
    "\n",
    "Postprocessing spike sorting results ranges from computing additional information, such as spike amplitudes and Principal Component Analisys (PCA) scores, to computing features of the extracellular waveforms, similarity between templates and crosscorrelograms. All of this is possible with the `postprocessing` module.\n",
    "\n",
    "\n",
    "See also : https://spikeinterface.readthedocs.io/en/latest/modules/postprocessing.html"
   ]
  },
  {
   "cell_type": "markdown",
   "metadata": {
    "pycharm": {
     "name": "#%% md\n"
    }
   },
   "source": [
    "### PCA scores\n",
    "\n",
    "PCA scores can be easily computed with the `compute_principal_components()` function. Similarly to the `extract_waveforms`, the function returns an object of type `WaveformPrincipalComponent` that allows to retrieve all pc scores on demand."
   ]
  },
  {
   "cell_type": "code",
   "execution_count": 89,
   "metadata": {},
   "outputs": [
    {
     "data": {
      "application/vnd.jupyter.widget-view+json": {
       "model_id": "353d672b88b64323a711004c8d1709f3",
       "version_major": 2,
       "version_minor": 0
      },
      "text/plain": [
       "Fitting PCA:   0%|          | 0/158 [00:00<?, ?it/s]"
      ]
     },
     "metadata": {},
     "output_type": "display_data"
    },
    {
     "data": {
      "application/vnd.jupyter.widget-view+json": {
       "model_id": "c0ed5d6588154942a1a6cdf67ca27163",
       "version_major": 2,
       "version_minor": 0
      },
      "text/plain": [
       "Projecting waveforms:   0%|          | 0/158 [00:00<?, ?it/s]"
      ]
     },
     "metadata": {},
     "output_type": "display_data"
    }
   ],
   "source": [
    "pc = si.compute_principal_components(we, n_components=3, load_if_exists=False)"
   ]
  },
  {
   "cell_type": "code",
   "execution_count": 90,
   "metadata": {
    "pycharm": {
     "name": "#%%\n"
    }
   },
   "outputs": [
    {
     "name": "stdout",
     "output_type": "stream",
     "text": [
      "PC scores shape: (500, 3, 47)\n",
      "All PC scores shape: (49089, 3, 47)\n"
     ]
    }
   ],
   "source": [
    "pc0 = pc.get_projections(unit_id=0)\n",
    "print(f\"PC scores shape: {pc0.shape}\")\n",
    "all_labels, all_pcs = pc.get_all_projections()\n",
    "print(f\"All PC scores shape: {all_pcs.shape}\")"
   ]
  },
  {
   "cell_type": "markdown",
   "metadata": {},
   "source": [
    "For pc scores of a single unit, the dimension is (num_spikes, num_components, num_channels). "
   ]
  },
  {
   "cell_type": "markdown",
   "metadata": {},
   "source": [
    "## WaveformExtensions\n",
    "\n",
    "When we compute PCA (or use other postprocessing functions), the computed information is added to the waveform folder. The functions act as `WaveformExtensions`:\n",
    "\n",
    "For more details see this https://spikeinterface.readthedocs.io/en/latest/modules/postprocessing.html#waveformextractor-extensions\n"
   ]
  },
  {
   "cell_type": "code",
   "execution_count": 91,
   "metadata": {},
   "outputs": [
    {
     "data": {
      "text/plain": [
       "['principal_components']"
      ]
     },
     "execution_count": 91,
     "metadata": {},
     "output_type": "execute_result"
    }
   ],
   "source": [
    "we.get_available_extension_names()"
   ]
  },
  {
   "cell_type": "markdown",
   "metadata": {},
   "source": [
    "Each `WaveformExtension` is an object that allows us to retrieve the data:"
   ]
  },
  {
   "cell_type": "code",
   "execution_count": 92,
   "metadata": {},
   "outputs": [
    {
     "name": "stdout",
     "output_type": "stream",
     "text": [
      "WaveformPrincipalComponent: 47 channels - 1 segments\n",
      "  mode: by_channel_local n_components: 3\n"
     ]
    }
   ],
   "source": [
    "pc = we.load_extension(\"principal_components\")\n",
    "print(pc)"
   ]
  },
  {
   "cell_type": "code",
   "execution_count": 93,
   "metadata": {},
   "outputs": [
    {
     "name": "stdout",
     "output_type": "stream",
     "text": [
      "(49089, 3, 47)\n"
     ]
    }
   ],
   "source": [
    "all_labels, all_pcs = pc.get_data()\n",
    "print(all_pcs.shape)"
   ]
  },
  {
   "cell_type": "markdown",
   "metadata": {},
   "source": [
    "### Spike amplitudes"
   ]
  },
  {
   "cell_type": "markdown",
   "metadata": {},
   "source": [
    "Spike amplitudes can be computed with the `get_spike_amplitudes` function."
   ]
  },
  {
   "cell_type": "code",
   "execution_count": 94,
   "metadata": {},
   "outputs": [
    {
     "data": {
      "application/vnd.jupyter.widget-view+json": {
       "model_id": "fbb91a2ace404b0eb7f3d96b7eb2f2d7",
       "version_major": 2,
       "version_minor": 0
      },
      "text/plain": [
       "extract amplitudes:   0%|          | 0/300 [00:00<?, ?it/s]"
      ]
     },
     "metadata": {},
     "output_type": "display_data"
    }
   ],
   "source": [
    "amplitudes = si.compute_spike_amplitudes(we, outputs=\"by_unit\", load_if_exists=True)"
   ]
  },
  {
   "cell_type": "markdown",
   "metadata": {
    "pycharm": {
     "name": "#%% md\n"
    }
   },
   "source": [
    "By default, all amplitudes are concatenated in one array with all amplitudes form all spikes. With the `output=\"by_unit\"` argument, instead, a dictionary is returned:"
   ]
  },
  {
   "cell_type": "code",
   "execution_count": 95,
   "metadata": {},
   "outputs": [
    {
     "data": {
      "text/plain": [
       "array([ -35.1     ,  -24.375   ,  -48.75    ,  -44.46    ,  -20.865   ,\n",
       "        -36.855   ,  -42.12    ,  -49.53    ,  -38.609997,  -53.039997,\n",
       "        -49.92    ,  -30.029999,  -53.429996,  -24.765   ,  -63.179996,\n",
       "        -39.39    ,  -45.434998,  -23.789999,  -48.359997,  -41.535   ,\n",
       "       -101.204994,  -55.184998,  -50.894997,  -62.984997,  -52.649998,\n",
       "        -41.34    ,  -60.644997,  -44.85    ,  -70.59    ,  -53.82    ,\n",
       "        -69.42    ,  -33.735   ,  -51.87    ,  -67.665   ,  -71.369995,\n",
       "        -56.355   ,  -57.719997,  -47.19    ,  -46.215   , -136.305   ,\n",
       "        -31.394999,  -37.245   ,  -63.96    ,  -15.599999,  -52.649998,\n",
       "        -69.03    ,  -52.844997,  -49.335   ,  -43.094997,  -44.655   ,\n",
       "        -46.995   ,  -64.545   ,  -55.769997,  -23.789999,  -60.644997,\n",
       "        -30.224998,  -55.379997,  -35.489998,  -43.68    ,  -41.535   ,\n",
       "        -51.089996,  -44.655   ,  -49.725   ,  -42.315   ,  -97.695   ,\n",
       "        -26.324999,  -62.984997,  -57.914997,  -40.754997,  -46.605   ,\n",
       "        -60.839996,  -53.234997,  -44.07    ,  -65.715   ,  -37.829998,\n",
       "        -27.689999,  -48.945   ,   -5.85    ,  -46.8     ,  -37.245   ,\n",
       "        -54.015   ,  -58.695   ,  -46.215   ,  -69.81    ,  -32.76    ,\n",
       "        -41.925   ,  -54.015   ,  -46.8     ,  -62.984997,  -47.385   ,\n",
       "        -59.085   ,  -12.285   ,  -31.005   ,    8.19    ,  -65.52    ,\n",
       "        -32.76    ,  -45.434998,  -52.26    ,  -69.03    ,  -63.765   ,\n",
       "        -36.66    ,  -31.98    ,  -50.894997,  -79.365   ,  -60.254997,\n",
       "        -42.704998,  -52.26    ,  -44.07    ,  -14.429999,  -67.86    ,\n",
       "        -24.765   ,  -24.179998,  -38.024998,  -48.359997,  -85.994995,\n",
       "        -54.21    ,  -37.05    ,  -59.475   ,  -63.765   ,  -51.87    ,\n",
       "        -41.144997,  -49.335   ,  -57.329998,  -49.335   ,  -47.579998,\n",
       "        -46.019997,  -51.089996,  -43.68    ,  -52.844997,  -20.67    ,\n",
       "        -55.184998,  -51.089996,  -58.695   ,  -39.      ,  -41.144997,\n",
       "        -29.445   ,  -87.16499 ,  -23.205   ,  -70.2     ,  -62.01    ,\n",
       "        -33.149998,  -33.149998,  -39.975   ,  -41.73    ,  -38.609997,\n",
       "        -44.07    ,  -49.335   ,  -33.539997,  -24.57    ,  -38.414997,\n",
       "        -79.17    ,  -35.295   ,  -37.44    ,  -51.089996,  -42.704998,\n",
       "        -51.87    ,  -23.595   ,  -27.689999,  -65.325   ,  -43.68    ,\n",
       "        -52.844997,  -38.609997,  -83.655   ], dtype=float32)"
      ]
     },
     "execution_count": 95,
     "metadata": {},
     "output_type": "execute_result"
    }
   ],
   "source": [
    "amplitudes[0][15]"
   ]
  },
  {
   "cell_type": "code",
   "execution_count": 96,
   "metadata": {
    "scrolled": true
   },
   "outputs": [
    {
     "data": {
      "application/vnd.jupyter.widget-view+json": {
       "model_id": "5ee6d335dff744b6a24f499a4134f15c",
       "version_major": 2,
       "version_minor": 0
      },
      "text/plain": [
       "AppLayout(children=(VBox(children=(UnitSelector(children=(Label(value='Units', layout=Layout(justify_content='…"
      ]
     },
     "metadata": {},
     "output_type": "display_data"
    },
    {
     "data": {
      "text/plain": [
       "<spikeinterface.widgets.amplitudes.AmplitudesWidget at 0x7fb5525c3ac0>"
      ]
     },
     "execution_count": 96,
     "metadata": {},
     "output_type": "execute_result"
    }
   ],
   "source": [
    "%matplotlib widget\n",
    "si.plot_amplitudes(we, backend=\"ipywidgets\")"
   ]
  },
  {
   "cell_type": "markdown",
   "metadata": {},
   "source": [
    "### Compute unit and spike locations\n",
    "\n",
    "When using silicon probes, we can estimate the unit (or spike) location with triangulation. This can be done either with a simple center of mass or by assuming a monopolar model:\n",
    "\n",
    "$$V_{ext}(\\boldsymbol{r_{ext}}) = \\frac{I_n}{4 \\pi \\sigma |\\boldsymbol{r_{ext}} - \\boldsymbol{r_{n}}|}$$\n",
    "\n",
    "where $\\boldsymbol{r_{n}}$ is the position of the neuron, and $\\boldsymbol{r_{n}}$ of the electrode(s)."
   ]
  },
  {
   "cell_type": "code",
   "execution_count": 97,
   "metadata": {},
   "outputs": [
    {
     "data": {
      "application/vnd.jupyter.widget-view+json": {
       "model_id": "cb4330126d7942428fce488713c4dd65",
       "version_major": 2,
       "version_minor": 0
      },
      "text/plain": [
       "localize peaks using center_of_mass:   0%|          | 0/300 [00:00<?, ?it/s]"
      ]
     },
     "metadata": {},
     "output_type": "display_data"
    }
   ],
   "source": [
    "unit_locations = si.compute_unit_locations(we, method=\"monopolar_triangulation\", load_if_exists=True)\n",
    "spike_locations = si.compute_spike_locations(we, method=\"center_of_mass\", load_if_exists=True)"
   ]
  },
  {
   "cell_type": "code",
   "execution_count": 98,
   "metadata": {},
   "outputs": [
    {
     "data": {
      "application/vnd.jupyter.widget-view+json": {
       "model_id": "d8e5a190e31349b6b42b4782b79ea67f",
       "version_major": 2,
       "version_minor": 0
      },
      "text/plain": [
       "AppLayout(children=(UnitSelector(children=(Label(value='Units', layout=Layout(justify_content='center')), Sele…"
      ]
     },
     "metadata": {},
     "output_type": "display_data"
    },
    {
     "data": {
      "text/plain": [
       "<spikeinterface.widgets.unit_locations.UnitLocationsWidget at 0x7fb604b55360>"
      ]
     },
     "execution_count": 98,
     "metadata": {},
     "output_type": "execute_result"
    }
   ],
   "source": [
    "%matplotlib widget\n",
    "si.plot_unit_locations(we, backend=\"ipywidgets\")"
   ]
  },
  {
   "cell_type": "code",
   "execution_count": 99,
   "metadata": {},
   "outputs": [
    {
     "data": {
      "application/vnd.jupyter.widget-view+json": {
       "model_id": "288eddd9e67143ec937f25a35c016428",
       "version_major": 2,
       "version_minor": 0
      },
      "text/plain": [
       "AppLayout(children=(UnitSelector(children=(Label(value='Units', layout=Layout(justify_content='center')), Sele…"
      ]
     },
     "metadata": {},
     "output_type": "display_data"
    },
    {
     "data": {
      "text/plain": [
       "<spikeinterface.widgets.spike_locations.SpikeLocationsWidget at 0x7fb552443340>"
      ]
     },
     "execution_count": 99,
     "metadata": {},
     "output_type": "execute_result"
    }
   ],
   "source": [
    "%matplotlib widget\n",
    "si.plot_spike_locations(we, max_spikes_per_unit=300, backend=\"ipywidgets\")"
   ]
  },
  {
   "cell_type": "markdown",
   "metadata": {},
   "source": [
    "### Compute correlograms"
   ]
  },
  {
   "cell_type": "code",
   "execution_count": 100,
   "metadata": {},
   "outputs": [],
   "source": [
    "ccgs, bins = si.compute_correlograms(we)"
   ]
  },
  {
   "cell_type": "code",
   "execution_count": 103,
   "metadata": {},
   "outputs": [
    {
     "data": {
      "text/plain": [
       "<spikeinterface.widgets.crosscorrelograms.CrossCorrelogramsWidget at 0x7fb5ebeb7dc0>"
      ]
     },
     "execution_count": 103,
     "metadata": {},
     "output_type": "execute_result"
    },
    {
     "data": {
      "application/vnd.jupyter.widget-view+json": {
       "model_id": "ca6d4616ea0645449011f7678aa9d89a",
       "version_major": 2,
       "version_minor": 0
      },
      "image/png": "[encoded data removed]",
      "text/html": [
       "\n",
       "            <div style=\"display: inline-block;\">\n",
       "                <div class=\"jupyter-widgets widget-label\" style=\"text-align: center;\">\n",
       "                    Figure\n",
       "                </div>\n",
       "                <img src='data:image/png;base64,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' width=1400.0/>\n",
       "            </div>\n",
       "        "
      ],
      "text/plain": [
       "Canvas(toolbar=Toolbar(toolitems=[('Home', 'Reset original view', 'home', 'home'), ('Back', 'Back to previous …"
      ]
     },
     "metadata": {},
     "output_type": "display_data"
    },
    {
     "data": {
      "application/vnd.jupyter.widget-view+json": {
       "model_id": "ff81a87ec7e24e50b576d13863ac6f5a",
       "version_major": 2,
       "version_minor": 0
      },
      "image/png": "[encoded data removed]",
      "text/html": [
       "\n",
       "            <div style=\"display: inline-block;\">\n",
       "                <div class=\"jupyter-widgets widget-label\" style=\"text-align: center;\">\n",
       "                    Figure\n",
       "                </div>\n",
       "                <img src='data:image/png;base64,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' width=1200.0/>\n",
       "            </div>\n",
       "        "
      ],
      "text/plain": [
       "Canvas(toolbar=Toolbar(toolitems=[('Home', 'Reset original view', 'home', 'home'), ('Back', 'Back to previous …"
      ]
     },
     "metadata": {},
     "output_type": "display_data"
    }
   ],
   "source": [
    "si.plot_autocorrelograms(we, unit_ids=sorting.unit_ids[2::34], figsize=(14, 10))\n",
    "si.plot_crosscorrelograms(we, unit_ids=sorting.unit_ids[2::34], figsize=(12, 12))"
   ]
  },
  {
   "cell_type": "markdown",
   "metadata": {},
   "source": [
    "### Compute template similarity"
   ]
  },
  {
   "cell_type": "code",
   "execution_count": 104,
   "metadata": {},
   "outputs": [],
   "source": [
    "similarity = si.compute_template_similarity(we)"
   ]
  },
  {
   "cell_type": "markdown",
   "metadata": {},
   "source": [
    "### Compute template metrics\n",
    "\n",
    "Template metrics, or extracellular features, such as peak to valley duration or full-width half maximum, are important to classify neurons into putative classes (excitatory - inhibitory). The `postprocessing` allows one to compute several of these metrics:"
   ]
  },
  {
   "cell_type": "code",
   "execution_count": 105,
   "metadata": {},
   "outputs": [
    {
     "name": "stdout",
     "output_type": "stream",
     "text": [
      "['peak_to_valley', 'peak_trough_ratio', 'half_width', 'repolarization_slope', 'recovery_slope', 'num_positive_peaks', 'num_negative_peaks', 'velocity_above', 'velocity_below', 'exp_decay', 'spread']\n"
     ]
    }
   ],
   "source": [
    "print(si.get_template_metric_names())"
   ]
  },
  {
   "cell_type": "code",
   "execution_count": 106,
   "metadata": {
    "pycharm": {
     "name": "#%%\n"
    }
   },
   "outputs": [
    {
     "data": {
      "text/html": [
       "<div>\n",
       "<style scoped>\n",
       "    .dataframe tbody tr th:only-of-type {\n",
       "        vertical-align: middle;\n",
       "    }\n",
       "\n",
       "    .dataframe tbody tr th {\n",
       "        vertical-align: top;\n",
       "    }\n",
       "\n",
       "    .dataframe thead th {\n",
       "        text-align: right;\n",
       "    }\n",
       "</style>\n",
       "<table border=\"1\" class=\"dataframe\">\n",
       "  <thead>\n",
       "    <tr style=\"text-align: right;\">\n",
       "      <th></th>\n",
       "      <th>peak_to_valley</th>\n",
       "      <th>peak_trough_ratio</th>\n",
       "      <th>half_width</th>\n",
       "      <th>repolarization_slope</th>\n",
       "      <th>recovery_slope</th>\n",
       "      <th>num_positive_peaks</th>\n",
       "      <th>num_negative_peaks</th>\n",
       "    </tr>\n",
       "  </thead>\n",
       "  <tbody>\n",
       "    <tr>\n",
       "      <th>0</th>\n",
       "      <td>0.000957</td>\n",
       "      <td>-0.340217</td>\n",
       "      <td>0.00036</td>\n",
       "      <td>52175.662893</td>\n",
       "      <td>-12848.630235</td>\n",
       "      <td>2</td>\n",
       "      <td>1</td>\n",
       "    </tr>\n",
       "    <tr>\n",
       "      <th>1</th>\n",
       "      <td>0.000727</td>\n",
       "      <td>-0.219917</td>\n",
       "      <td>0.000183</td>\n",
       "      <td>265065.766258</td>\n",
       "      <td>-19161.433943</td>\n",
       "      <td>1</td>\n",
       "      <td>1</td>\n",
       "    </tr>\n",
       "    <tr>\n",
       "      <th>2</th>\n",
       "      <td>0.000877</td>\n",
       "      <td>-0.244544</td>\n",
       "      <td>0.000287</td>\n",
       "      <td>115658.764052</td>\n",
       "      <td>-13428.355116</td>\n",
       "      <td>2</td>\n",
       "      <td>1</td>\n",
       "    </tr>\n",
       "    <tr>\n",
       "      <th>3</th>\n",
       "      <td>0.000887</td>\n",
       "      <td>-0.262919</td>\n",
       "      <td>0.000293</td>\n",
       "      <td>218262.059482</td>\n",
       "      <td>-32672.393389</td>\n",
       "      <td>2</td>\n",
       "      <td>1</td>\n",
       "    </tr>\n",
       "    <tr>\n",
       "      <th>4</th>\n",
       "      <td>0.000657</td>\n",
       "      <td>-0.304225</td>\n",
       "      <td>0.00022</td>\n",
       "      <td>482309.942699</td>\n",
       "      <td>-69313.958255</td>\n",
       "      <td>1</td>\n",
       "      <td>1</td>\n",
       "    </tr>\n",
       "    <tr>\n",
       "      <th>...</th>\n",
       "      <td>...</td>\n",
       "      <td>...</td>\n",
       "      <td>...</td>\n",
       "      <td>...</td>\n",
       "      <td>...</td>\n",
       "      <td>...</td>\n",
       "      <td>...</td>\n",
       "    </tr>\n",
       "    <tr>\n",
       "      <th>154</th>\n",
       "      <td>0.0011</td>\n",
       "      <td>-0.199936</td>\n",
       "      <td>0.000287</td>\n",
       "      <td>102471.794249</td>\n",
       "      <td>-15709.071083</td>\n",
       "      <td>1</td>\n",
       "      <td>1</td>\n",
       "    </tr>\n",
       "    <tr>\n",
       "      <th>155</th>\n",
       "      <td>0.000823</td>\n",
       "      <td>-0.345252</td>\n",
       "      <td>0.000333</td>\n",
       "      <td>121980.671747</td>\n",
       "      <td>-21644.399148</td>\n",
       "      <td>2</td>\n",
       "      <td>1</td>\n",
       "    </tr>\n",
       "    <tr>\n",
       "      <th>156</th>\n",
       "      <td>0.000707</td>\n",
       "      <td>-0.348682</td>\n",
       "      <td>0.000317</td>\n",
       "      <td>113236.322391</td>\n",
       "      <td>-20073.072211</td>\n",
       "      <td>1</td>\n",
       "      <td>1</td>\n",
       "    </tr>\n",
       "    <tr>\n",
       "      <th>157</th>\n",
       "      <td>0.00071</td>\n",
       "      <td>-0.348771</td>\n",
       "      <td>0.000313</td>\n",
       "      <td>127941.664595</td>\n",
       "      <td>-22892.337789</td>\n",
       "      <td>2</td>\n",
       "      <td>1</td>\n",
       "    </tr>\n",
       "    <tr>\n",
       "      <th>158</th>\n",
       "      <td>0.00095</td>\n",
       "      <td>-0.300295</td>\n",
       "      <td>0.00032</td>\n",
       "      <td>119484.746308</td>\n",
       "      <td>-22067.170371</td>\n",
       "      <td>2</td>\n",
       "      <td>1</td>\n",
       "    </tr>\n",
       "  </tbody>\n",
       "</table>\n",
       "<p>158 rows × 7 columns</p>\n",
       "</div>"
      ],
      "text/plain": [
       "    peak_to_valley peak_trough_ratio half_width repolarization_slope  \\\n",
       "0         0.000957         -0.340217    0.00036         52175.662893   \n",
       "1         0.000727         -0.219917   0.000183        265065.766258   \n",
       "2         0.000877         -0.244544   0.000287        115658.764052   \n",
       "3         0.000887         -0.262919   0.000293        218262.059482   \n",
       "4         0.000657         -0.304225    0.00022        482309.942699   \n",
       "..             ...               ...        ...                  ...   \n",
       "154         0.0011         -0.199936   0.000287        102471.794249   \n",
       "155       0.000823         -0.345252   0.000333        121980.671747   \n",
       "156       0.000707         -0.348682   0.000317        113236.322391   \n",
       "157        0.00071         -0.348771   0.000313        127941.664595   \n",
       "158        0.00095         -0.300295    0.00032        119484.746308   \n",
       "\n",
       "    recovery_slope num_positive_peaks num_negative_peaks  \n",
       "0    -12848.630235                  2                  1  \n",
       "1    -19161.433943                  1                  1  \n",
       "2    -13428.355116                  2                  1  \n",
       "3    -32672.393389                  2                  1  \n",
       "4    -69313.958255                  1                  1  \n",
       "..             ...                ...                ...  \n",
       "154  -15709.071083                  1                  1  \n",
       "155  -21644.399148                  2                  1  \n",
       "156  -20073.072211                  1                  1  \n",
       "157  -22892.337789                  2                  1  \n",
       "158  -22067.170371                  2                  1  \n",
       "\n",
       "[158 rows x 7 columns]"
      ]
     },
     "metadata": {},
     "output_type": "display_data"
    }
   ],
   "source": [
    "template_metrics = si.compute_template_metrics(we)\n",
    "display(template_metrics)"
   ]
  },
  {
   "cell_type": "code",
   "execution_count": 107,
   "metadata": {},
   "outputs": [
    {
     "data": {
      "application/vnd.jupyter.widget-view+json": {
       "model_id": "faa5456613af485c97a916a8d37eeb13",
       "version_major": 2,
       "version_minor": 0
      },
      "text/plain": [
       "AppLayout(children=(UnitSelector(children=(Label(value='Units', layout=Layout(justify_content='center')), Sele…"
      ]
     },
     "metadata": {},
     "output_type": "display_data"
    },
    {
     "data": {
      "text/plain": [
       "<spikeinterface.widgets.template_metrics.TemplateMetricsWidget at 0x7fb5ebee6770>"
      ]
     },
     "execution_count": 107,
     "metadata": {},
     "output_type": "execute_result"
    }
   ],
   "source": [
    "si.plot_template_metrics(we, include_metrics=[\"peak_to_valley\", \"half_width\"], \n",
    "                         backend=\"ipywidgets\")"
   ]
  },
  {
   "cell_type": "markdown",
   "metadata": {
    "pycharm": {
     "name": "#%% md\n"
    }
   },
   "source": [
    "For more information about these template metrics, we refer to this [documentation](https://github.com/AllenInstitute/ecephys_spike_sorting/tree/master/ecephys_spike_sorting/modules/mean_waveforms) from the Allen Institute."
   ]
  },
  {
   "cell_type": "markdown",
   "metadata": {
    "pycharm": {
     "name": "#%% md\n"
    }
   },
   "source": [
    "# 8. Quality metrics and curation <a class=\"anchor\" id=\"curation\"></a>\n",
    "\n",
    "The `qualitymetrics` module also provides several functions to compute qualitity metrics to validate the spike sorting results.\n",
    "\n",
    "See also this : https://spikeinterface.readthedocs.io/en/latest/modules/qualitymetrics.html\n",
    "\n",
    "Let's see what metrics are available:"
   ]
  },
  {
   "cell_type": "code",
   "execution_count": 108,
   "metadata": {},
   "outputs": [
    {
     "name": "stdout",
     "output_type": "stream",
     "text": [
      "['num_spikes', 'firing_rate', 'presence_ratio', 'snr', 'isi_violation', 'rp_violation', 'sliding_rp_violation', 'amplitude_cutoff', 'amplitude_median', 'amplitude_cv', 'synchrony', 'firing_range', 'drift']\n",
      "['isolation_distance', 'l_ratio', 'd_prime', 'nearest_neighbor', 'nn_isolation', 'nn_noise_overlap', 'silhouette']\n"
     ]
    }
   ],
   "source": [
    "print(si.get_quality_metric_list())\n",
    "print(si.get_quality_pca_metric_list())"
   ]
  },
  {
   "cell_type": "code",
   "execution_count": 109,
   "metadata": {},
   "outputs": [
    {
     "data": {
      "text/plain": [
       "{'presence_ratio': {'bin_duration_s': 60, 'mean_fr_ratio_thresh': 0.0},\n",
       " 'snr': {'peak_sign': 'neg',\n",
       "  'peak_mode': 'extremum',\n",
       "  'random_chunk_kwargs_dict': None},\n",
       " 'isi_violation': {'isi_threshold_ms': 1.5, 'min_isi_ms': 0},\n",
       " 'rp_violation': {'refractory_period_ms': 1.0, 'censored_period_ms': 0.0},\n",
       " 'sliding_rp_violation': {'min_spikes': 0,\n",
       "  'bin_size_ms': 0.25,\n",
       "  'window_size_s': 1,\n",
       "  'exclude_ref_period_below_ms': 0.5,\n",
       "  'max_ref_period_ms': 10,\n",
       "  'contamination_values': None},\n",
       " 'synchrony': {'synchrony_sizes': (2, 4, 8)},\n",
       " 'firing_range': {'bin_size_s': 5, 'percentiles': (5, 95)},\n",
       " 'amplitude_cv': {'average_num_spikes_per_bin': 50,\n",
       "  'percentiles': (5, 95),\n",
       "  'min_num_bins': 10,\n",
       "  'amplitude_extension': 'spike_amplitudes'},\n",
       " 'amplitude_cutoff': {'peak_sign': 'neg',\n",
       "  'num_histogram_bins': 100,\n",
       "  'histogram_smoothing_value': 3,\n",
       "  'amplitudes_bins_min_ratio': 5},\n",
       " 'amplitude_median': {'peak_sign': 'neg'},\n",
       " 'drift': {'interval_s': 60,\n",
       "  'min_spikes_per_interval': 100,\n",
       "  'direction': 'y',\n",
       "  'min_num_bins': 2},\n",
       " 'nearest_neighbor': {'max_spikes': 10000, 'n_neighbors': 5},\n",
       " 'nn_isolation': {'max_spikes': 10000,\n",
       "  'min_spikes': 10,\n",
       "  'min_fr': 0.0,\n",
       "  'n_neighbors': 4,\n",
       "  'n_components': 10,\n",
       "  'radius_um': 100,\n",
       "  'peak_sign': 'neg'},\n",
       " 'nn_noise_overlap': {'max_spikes': 10000,\n",
       "  'min_spikes': 10,\n",
       "  'min_fr': 0.0,\n",
       "  'n_neighbors': 4,\n",
       "  'n_components': 10,\n",
       "  'radius_um': 100,\n",
       "  'peak_sign': 'neg'},\n",
       " 'silhouette': {'method': ('simplified',)}}"
      ]
     },
     "execution_count": 109,
     "metadata": {},
     "output_type": "execute_result"
    }
   ],
   "source": [
    "qm_params = si.get_default_qm_params()\n",
    "qm_params"
   ]
  },
  {
   "cell_type": "code",
   "execution_count": 110,
   "metadata": {},
   "outputs": [],
   "source": [
    "qm_params['isi_violation']['isi_threshold_ms'] = 1.1"
   ]
  },
  {
   "cell_type": "code",
   "execution_count": 111,
   "metadata": {
    "pycharm": {
     "name": "#%%\n"
    }
   },
   "outputs": [
    {
     "name": "stdout",
     "output_type": "stream",
     "text": [
      "Computing num_spikes\n",
      "Computing firing_rate\n",
      "Computing presence_ratio\n",
      "Computing snr\n",
      "Computing isi_violation\n",
      "Computing rp_violation\n",
      "Computing sliding_rp_violation\n",
      "Computing amplitude_cutoff\n",
      "Computing amplitude_median\n",
      "Computing amplitude_cv\n",
      "Computing synchrony\n",
      "Computing firing_range\n",
      "Computing drift\n"
     ]
    }
   ],
   "source": [
    "metric_names = si.get_quality_metric_list()\n",
    "# metric_names = si.get_quality_metric_list() + si.get_quality_pca_metric_list()\n",
    "qm = si.compute_quality_metrics(we, metric_names=metric_names, verbose=True,  qm_params=qm_params)\n"
   ]
  },
  {
   "cell_type": "code",
   "execution_count": 112,
   "metadata": {
    "pycharm": {
     "name": "#%%\n"
    }
   },
   "outputs": [
    {
     "data": {
      "text/html": [
       "<div>\n",
       "<style scoped>\n",
       "    .dataframe tbody tr th:only-of-type {\n",
       "        vertical-align: middle;\n",
       "    }\n",
       "\n",
       "    .dataframe tbody tr th {\n",
       "        vertical-align: top;\n",
       "    }\n",
       "\n",
       "    .dataframe thead th {\n",
       "        text-align: right;\n",
       "    }\n",
       "</style>\n",
       "<table border=\"1\" class=\"dataframe\">\n",
       "  <thead>\n",
       "    <tr style=\"text-align: right;\">\n",
       "      <th></th>\n",
       "      <th>num_spikes</th>\n",
       "      <th>firing_rate</th>\n",
       "      <th>presence_ratio</th>\n",
       "      <th>snr</th>\n",
       "      <th>isi_violations_ratio</th>\n",
       "      <th>isi_violations_count</th>\n",
       "      <th>rp_contamination</th>\n",
       "      <th>rp_violations</th>\n",
       "      <th>sliding_rp_violation</th>\n",
       "      <th>amplitude_cutoff</th>\n",
       "      <th>amplitude_median</th>\n",
       "      <th>amplitude_cv_median</th>\n",
       "      <th>amplitude_cv_range</th>\n",
       "      <th>sync_spike_2</th>\n",
       "      <th>sync_spike_4</th>\n",
       "      <th>sync_spike_8</th>\n",
       "      <th>firing_range</th>\n",
       "      <th>drift_ptp</th>\n",
       "      <th>drift_std</th>\n",
       "      <th>drift_mad</th>\n",
       "    </tr>\n",
       "  </thead>\n",
       "  <tbody>\n",
       "    <tr>\n",
       "      <th>0</th>\n",
       "      <td>4577.0</td>\n",
       "      <td>15.256667</td>\n",
       "      <td>1.0</td>\n",
       "      <td>4.306019</td>\n",
       "      <td>0.507728</td>\n",
       "      <td>78.0</td>\n",
       "      <td>1.000000</td>\n",
       "      <td>71.0</td>\n",
       "      <td>NaN</td>\n",
       "      <td>0.000249</td>\n",
       "      <td>22.230000</td>\n",
       "      <td>0.457378</td>\n",
       "      <td>0.250950</td>\n",
       "      <td>0.030151</td>\n",
       "      <td>0.0</td>\n",
       "      <td>0.0</td>\n",
       "      <td>7.07</td>\n",
       "      <td>0.425355</td>\n",
       "      <td>0.156620</td>\n",
       "      <td>0.090116</td>\n",
       "    </tr>\n",
       "    <tr>\n",
       "      <th>1</th>\n",
       "      <td>89.0</td>\n",
       "      <td>0.296667</td>\n",
       "      <td>1.0</td>\n",
       "      <td>14.262383</td>\n",
       "      <td>0.000000</td>\n",
       "      <td>0.0</td>\n",
       "      <td>0.000000</td>\n",
       "      <td>0.0</td>\n",
       "      <td>NaN</td>\n",
       "      <td>NaN</td>\n",
       "      <td>79.949997</td>\n",
       "      <td>NaN</td>\n",
       "      <td>NaN</td>\n",
       "      <td>0.033708</td>\n",
       "      <td>0.0</td>\n",
       "      <td>0.0</td>\n",
       "      <td>0.81</td>\n",
       "      <td>NaN</td>\n",
       "      <td>NaN</td>\n",
       "      <td>NaN</td>\n",
       "    </tr>\n",
       "    <tr>\n",
       "      <th>2</th>\n",
       "      <td>1221.0</td>\n",
       "      <td>4.070000</td>\n",
       "      <td>1.0</td>\n",
       "      <td>7.781139</td>\n",
       "      <td>0.823208</td>\n",
       "      <td>9.0</td>\n",
       "      <td>1.000000</td>\n",
       "      <td>8.0</td>\n",
       "      <td>NaN</td>\n",
       "      <td>0.002821</td>\n",
       "      <td>38.609997</td>\n",
       "      <td>0.313412</td>\n",
       "      <td>0.165686</td>\n",
       "      <td>0.027027</td>\n",
       "      <td>0.0</td>\n",
       "      <td>0.0</td>\n",
       "      <td>3.42</td>\n",
       "      <td>0.378606</td>\n",
       "      <td>0.134946</td>\n",
       "      <td>0.092616</td>\n",
       "    </tr>\n",
       "    <tr>\n",
       "      <th>3</th>\n",
       "      <td>1595.0</td>\n",
       "      <td>5.316667</td>\n",
       "      <td>1.0</td>\n",
       "      <td>14.586196</td>\n",
       "      <td>1.983257</td>\n",
       "      <td>37.0</td>\n",
       "      <td>1.000000</td>\n",
       "      <td>39.0</td>\n",
       "      <td>NaN</td>\n",
       "      <td>0.002935</td>\n",
       "      <td>87.750000</td>\n",
       "      <td>0.225727</td>\n",
       "      <td>0.756855</td>\n",
       "      <td>0.037618</td>\n",
       "      <td>0.0</td>\n",
       "      <td>0.0</td>\n",
       "      <td>3.63</td>\n",
       "      <td>0.869453</td>\n",
       "      <td>0.296034</td>\n",
       "      <td>0.175525</td>\n",
       "    </tr>\n",
       "    <tr>\n",
       "      <th>4</th>\n",
       "      <td>121.0</td>\n",
       "      <td>0.403333</td>\n",
       "      <td>1.0</td>\n",
       "      <td>25.240118</td>\n",
       "      <td>0.000000</td>\n",
       "      <td>0.0</td>\n",
       "      <td>0.000000</td>\n",
       "      <td>0.0</td>\n",
       "      <td>NaN</td>\n",
       "      <td>NaN</td>\n",
       "      <td>143.714996</td>\n",
       "      <td>NaN</td>\n",
       "      <td>NaN</td>\n",
       "      <td>0.074380</td>\n",
       "      <td>0.0</td>\n",
       "      <td>0.0</td>\n",
       "      <td>0.60</td>\n",
       "      <td>NaN</td>\n",
       "      <td>NaN</td>\n",
       "      <td>NaN</td>\n",
       "    </tr>\n",
       "    <tr>\n",
       "      <th>...</th>\n",
       "      <td>...</td>\n",
       "      <td>...</td>\n",
       "      <td>...</td>\n",
       "      <td>...</td>\n",
       "      <td>...</td>\n",
       "      <td>...</td>\n",
       "      <td>...</td>\n",
       "      <td>...</td>\n",
       "      <td>...</td>\n",
       "      <td>...</td>\n",
       "      <td>...</td>\n",
       "      <td>...</td>\n",
       "      <td>...</td>\n",
       "      <td>...</td>\n",
       "      <td>...</td>\n",
       "      <td>...</td>\n",
       "      <td>...</td>\n",
       "      <td>...</td>\n",
       "      <td>...</td>\n",
       "      <td>...</td>\n",
       "    </tr>\n",
       "    <tr>\n",
       "      <th>154</th>\n",
       "      <td>951.0</td>\n",
       "      <td>3.170000</td>\n",
       "      <td>1.0</td>\n",
       "      <td>8.796892</td>\n",
       "      <td>0.452334</td>\n",
       "      <td>3.0</td>\n",
       "      <td>0.930242</td>\n",
       "      <td>3.0</td>\n",
       "      <td>NaN</td>\n",
       "      <td>0.002228</td>\n",
       "      <td>53.624996</td>\n",
       "      <td>0.253489</td>\n",
       "      <td>0.104542</td>\n",
       "      <td>0.042061</td>\n",
       "      <td>0.0</td>\n",
       "      <td>0.0</td>\n",
       "      <td>2.22</td>\n",
       "      <td>0.869228</td>\n",
       "      <td>0.307423</td>\n",
       "      <td>0.260966</td>\n",
       "    </tr>\n",
       "    <tr>\n",
       "      <th>155</th>\n",
       "      <td>369.0</td>\n",
       "      <td>1.230000</td>\n",
       "      <td>1.0</td>\n",
       "      <td>8.247710</td>\n",
       "      <td>3.004465</td>\n",
       "      <td>3.0</td>\n",
       "      <td>1.000000</td>\n",
       "      <td>2.0</td>\n",
       "      <td>NaN</td>\n",
       "      <td>NaN</td>\n",
       "      <td>43.289997</td>\n",
       "      <td>NaN</td>\n",
       "      <td>NaN</td>\n",
       "      <td>0.048780</td>\n",
       "      <td>0.0</td>\n",
       "      <td>0.0</td>\n",
       "      <td>1.21</td>\n",
       "      <td>NaN</td>\n",
       "      <td>NaN</td>\n",
       "      <td>NaN</td>\n",
       "    </tr>\n",
       "    <tr>\n",
       "      <th>156</th>\n",
       "      <td>219.0</td>\n",
       "      <td>0.730000</td>\n",
       "      <td>1.0</td>\n",
       "      <td>7.121452</td>\n",
       "      <td>0.000000</td>\n",
       "      <td>0.0</td>\n",
       "      <td>0.000000</td>\n",
       "      <td>0.0</td>\n",
       "      <td>NaN</td>\n",
       "      <td>NaN</td>\n",
       "      <td>37.244999</td>\n",
       "      <td>NaN</td>\n",
       "      <td>NaN</td>\n",
       "      <td>0.041096</td>\n",
       "      <td>0.0</td>\n",
       "      <td>0.0</td>\n",
       "      <td>1.00</td>\n",
       "      <td>NaN</td>\n",
       "      <td>NaN</td>\n",
       "      <td>NaN</td>\n",
       "    </tr>\n",
       "    <tr>\n",
       "      <th>157</th>\n",
       "      <td>532.0</td>\n",
       "      <td>1.773333</td>\n",
       "      <td>1.0</td>\n",
       "      <td>8.231189</td>\n",
       "      <td>0.481809</td>\n",
       "      <td>1.0</td>\n",
       "      <td>1.000000</td>\n",
       "      <td>1.0</td>\n",
       "      <td>NaN</td>\n",
       "      <td>0.003650</td>\n",
       "      <td>44.264999</td>\n",
       "      <td>0.301216</td>\n",
       "      <td>0.132175</td>\n",
       "      <td>0.048872</td>\n",
       "      <td>0.0</td>\n",
       "      <td>0.0</td>\n",
       "      <td>2.02</td>\n",
       "      <td>0.978728</td>\n",
       "      <td>0.372411</td>\n",
       "      <td>0.249442</td>\n",
       "    </tr>\n",
       "    <tr>\n",
       "      <th>158</th>\n",
       "      <td>634.0</td>\n",
       "      <td>2.113333</td>\n",
       "      <td>1.0</td>\n",
       "      <td>8.844198</td>\n",
       "      <td>0.678500</td>\n",
       "      <td>2.0</td>\n",
       "      <td>1.000000</td>\n",
       "      <td>2.0</td>\n",
       "      <td>NaN</td>\n",
       "      <td>0.000753</td>\n",
       "      <td>47.189999</td>\n",
       "      <td>0.290980</td>\n",
       "      <td>0.287180</td>\n",
       "      <td>0.034700</td>\n",
       "      <td>0.0</td>\n",
       "      <td>0.0</td>\n",
       "      <td>1.81</td>\n",
       "      <td>1.895730</td>\n",
       "      <td>0.662456</td>\n",
       "      <td>0.506663</td>\n",
       "    </tr>\n",
       "  </tbody>\n",
       "</table>\n",
       "<p>158 rows × 20 columns</p>\n",
       "</div>"
      ],
      "text/plain": [
       "     num_spikes  firing_rate  presence_ratio        snr  isi_violations_ratio  \\\n",
       "0        4577.0    15.256667             1.0   4.306019              0.507728   \n",
       "1          89.0     0.296667             1.0  14.262383              0.000000   \n",
       "2        1221.0     4.070000             1.0   7.781139              0.823208   \n",
       "3        1595.0     5.316667             1.0  14.586196              1.983257   \n",
       "4         121.0     0.403333             1.0  25.240118              0.000000   \n",
       "..          ...          ...             ...        ...                   ...   \n",
       "154       951.0     3.170000             1.0   8.796892              0.452334   \n",
       "155       369.0     1.230000             1.0   8.247710              3.004465   \n",
       "156       219.0     0.730000             1.0   7.121452              0.000000   \n",
       "157       532.0     1.773333             1.0   8.231189              0.481809   \n",
       "158       634.0     2.113333             1.0   8.844198              0.678500   \n",
       "\n",
       "     isi_violations_count  rp_contamination  rp_violations  \\\n",
       "0                    78.0          1.000000           71.0   \n",
       "1                     0.0          0.000000            0.0   \n",
       "2                     9.0          1.000000            8.0   \n",
       "3                    37.0          1.000000           39.0   \n",
       "4                     0.0          0.000000            0.0   \n",
       "..                    ...               ...            ...   \n",
       "154                   3.0          0.930242            3.0   \n",
       "155                   3.0          1.000000            2.0   \n",
       "156                   0.0          0.000000            0.0   \n",
       "157                   1.0          1.000000            1.0   \n",
       "158                   2.0          1.000000            2.0   \n",
       "\n",
       "     sliding_rp_violation  amplitude_cutoff  amplitude_median  \\\n",
       "0                     NaN          0.000249         22.230000   \n",
       "1                     NaN               NaN         79.949997   \n",
       "2                     NaN          0.002821         38.609997   \n",
       "3                     NaN          0.002935         87.750000   \n",
       "4                     NaN               NaN        143.714996   \n",
       "..                    ...               ...               ...   \n",
       "154                   NaN          0.002228         53.624996   \n",
       "155                   NaN               NaN         43.289997   \n",
       "156                   NaN               NaN         37.244999   \n",
       "157                   NaN          0.003650         44.264999   \n",
       "158                   NaN          0.000753         47.189999   \n",
       "\n",
       "     amplitude_cv_median  amplitude_cv_range  sync_spike_2  sync_spike_4  \\\n",
       "0               0.457378            0.250950      0.030151           0.0   \n",
       "1                    NaN                 NaN      0.033708           0.0   \n",
       "2               0.313412            0.165686      0.027027           0.0   \n",
       "3               0.225727            0.756855      0.037618           0.0   \n",
       "4                    NaN                 NaN      0.074380           0.0   \n",
       "..                   ...                 ...           ...           ...   \n",
       "154             0.253489            0.104542      0.042061           0.0   \n",
       "155                  NaN                 NaN      0.048780           0.0   \n",
       "156                  NaN                 NaN      0.041096           0.0   \n",
       "157             0.301216            0.132175      0.048872           0.0   \n",
       "158             0.290980            0.287180      0.034700           0.0   \n",
       "\n",
       "     sync_spike_8  firing_range  drift_ptp  drift_std  drift_mad  \n",
       "0             0.0          7.07   0.425355   0.156620   0.090116  \n",
       "1             0.0          0.81        NaN        NaN        NaN  \n",
       "2             0.0          3.42   0.378606   0.134946   0.092616  \n",
       "3             0.0          3.63   0.869453   0.296034   0.175525  \n",
       "4             0.0          0.60        NaN        NaN        NaN  \n",
       "..            ...           ...        ...        ...        ...  \n",
       "154           0.0          2.22   0.869228   0.307423   0.260966  \n",
       "155           0.0          1.21        NaN        NaN        NaN  \n",
       "156           0.0          1.00        NaN        NaN        NaN  \n",
       "157           0.0          2.02   0.978728   0.372411   0.249442  \n",
       "158           0.0          1.81   1.895730   0.662456   0.506663  \n",
       "\n",
       "[158 rows x 20 columns]"
      ]
     },
     "metadata": {},
     "output_type": "display_data"
    }
   ],
   "source": [
    "display(qm)"
   ]
  },
  {
   "cell_type": "code",
   "execution_count": 113,
   "metadata": {},
   "outputs": [
    {
     "data": {
      "application/vnd.jupyter.widget-view+json": {
       "model_id": "8fa34339fb2e4530bddd2cb55aefc42f",
       "version_major": 2,
       "version_minor": 0
      },
      "text/plain": [
       "AppLayout(children=(UnitSelector(children=(Label(value='Units', layout=Layout(justify_content='center')), Sele…"
      ]
     },
     "metadata": {},
     "output_type": "display_data"
    },
    {
     "data": {
      "text/plain": [
       "<spikeinterface.widgets.quality_metrics.QualityMetricsWidget at 0x7fb4a88bee30>"
      ]
     },
     "execution_count": 113,
     "metadata": {},
     "output_type": "execute_result"
    }
   ],
   "source": [
    "si.plot_quality_metrics(we, include_metrics=[\"amplitude_cutoff\", \"presence_ratio\", \"isi_violations_ratio\", \"snr\"], \n",
    "                        backend=\"ipywidgets\")"
   ]
  },
  {
   "cell_type": "markdown",
   "metadata": {
    "pycharm": {
     "name": "#%% md\n"
    }
   },
   "source": [
    "For more information about these waveform features, we refer to the [SpikeInterface documentation](https://spikeinterface.readthedocs.io/en/latest/module_qualitymetrics.html) and to this excellent [documentation](https://allensdk.readthedocs.io/en/latest/_static/examples/nb/ecephys_quality_metrics.html) from the Allen Institute."
   ]
  },
  {
   "cell_type": "markdown",
   "metadata": {
    "pycharm": {
     "name": "#%% md\n"
    }
   },
   "source": [
    "## Automatic curation based on quality metrics"
   ]
  },
  {
   "cell_type": "markdown",
   "metadata": {
    "pycharm": {
     "name": "#%% md\n"
    }
   },
   "source": [
    "A viable option to curate (or at least pre-curate) a spike sorting output is to filter units based on quality metrics. As we have already computed quality metrics a few lines above, we can simply filter the `qm` dataframe based on some thresholds.\n",
    "\n",
    "Here, we'll only keep units with an ISI violation threshold and amplitude cutoff below a user-defined threshold:"
   ]
  },
  {
   "cell_type": "code",
   "execution_count": 114,
   "metadata": {
    "pycharm": {
     "name": "#%%\n"
    }
   },
   "outputs": [],
   "source": [
    "isi_viol_thresh = 0.5\n",
    "amp_cutoff_thresh = 0.1"
   ]
  },
  {
   "cell_type": "markdown",
   "metadata": {},
   "source": [
    "A straightforward way to filter a pandas dataframe is via the `query`.\n",
    "We first define our query (make sure the names match the column names of the dataframe):"
   ]
  },
  {
   "cell_type": "code",
   "execution_count": 115,
   "metadata": {
    "pycharm": {
     "name": "#%%\n"
    }
   },
   "outputs": [
    {
     "name": "stdout",
     "output_type": "stream",
     "text": [
      "amplitude_cutoff < 0.1 & isi_violations_ratio < 0.5\n"
     ]
    }
   ],
   "source": [
    "our_query = f\"amplitude_cutoff < {amp_cutoff_thresh} & isi_violations_ratio < {isi_viol_thresh}\"\n",
    "print(our_query)"
   ]
  },
  {
   "cell_type": "markdown",
   "metadata": {
    "pycharm": {
     "name": "#%% md\n"
    }
   },
   "source": [
    "and then we can use the query to select units:"
   ]
  },
  {
   "cell_type": "code",
   "execution_count": 116,
   "metadata": {
    "pycharm": {
     "name": "#%%\n"
    }
   },
   "outputs": [
    {
     "data": {
      "text/plain": [
       "array([  5,  18,  20,  21,  39,  52,  67,  68,  94, 104, 113, 115, 125,\n",
       "       126, 127, 133, 134, 136, 141, 142, 144, 146, 149, 151, 154, 157])"
      ]
     },
     "execution_count": 116,
     "metadata": {},
     "output_type": "execute_result"
    }
   ],
   "source": [
    "keep_units = qm.query(our_query)\n",
    "keep_unit_ids = keep_units.index.values\n",
    "keep_unit_ids"
   ]
  },
  {
   "cell_type": "code",
   "execution_count": 117,
   "metadata": {},
   "outputs": [
    {
     "name": "stdout",
     "output_type": "stream",
     "text": [
      "Number of units before curation: 158\n",
      "Number of units after curation: 26\n"
     ]
    }
   ],
   "source": [
    "sorting_auto_KS25 = sorting.select_units(keep_unit_ids)\n",
    "print(f\"Number of units before curation: {len(sorting.get_unit_ids())}\")\n",
    "print(f\"Number of units after curation: {len(sorting_auto_KS25.get_unit_ids())}\")"
   ]
  },
  {
   "cell_type": "markdown",
   "metadata": {},
   "source": [
    "We can also save all the waveforms and post-processed data for curated units in a separate folder:"
   ]
  },
  {
   "cell_type": "code",
   "execution_count": 118,
   "metadata": {},
   "outputs": [],
   "source": [
    "we_curated = we.select_units(keep_unit_ids, new_folder=base_folder / \"waveforms_curated\")"
   ]
  },
  {
   "cell_type": "code",
   "execution_count": 119,
   "metadata": {},
   "outputs": [
    {
     "name": "stdout",
     "output_type": "stream",
     "text": [
      "WaveformExtractor: 47 channels - 26 units - 1 segments\n",
      "  before:30 after:60 n_per_units:500 - sparse\n"
     ]
    }
   ],
   "source": [
    "print(we_curated)"
   ]
  },
  {
   "cell_type": "code",
   "execution_count": 120,
   "metadata": {},
   "outputs": [
    {
     "data": {
      "application/vnd.jupyter.widget-view+json": {
       "model_id": "2ab16d90a2a4476884772717000b0932",
       "version_major": 2,
       "version_minor": 0
      },
      "text/plain": [
       "AppLayout(children=(HBox(children=(Checkbox(value=False, description='same axis'), Checkbox(value=True, descri…"
      ]
     },
     "metadata": {},
     "output_type": "display_data"
    },
    {
     "data": {
      "text/plain": [
       "<spikeinterface.widgets.unit_templates.UnitTemplatesWidget at 0x7fb4a8307190>"
      ]
     },
     "execution_count": 120,
     "metadata": {},
     "output_type": "execute_result"
    }
   ],
   "source": [
    "%matplotlib widget\n",
    "si.plot_unit_templates(we_curated, backend='ipywidgets')"
   ]
  },
  {
   "cell_type": "code",
   "execution_count": 121,
   "metadata": {},
   "outputs": [
    {
     "data": {
      "text/plain": [
       "['template_metrics',\n",
       " 'similarity',\n",
       " 'principal_components',\n",
       " 'spike_amplitudes',\n",
       " 'correlograms',\n",
       " 'spike_locations',\n",
       " 'unit_locations',\n",
       " 'quality_metrics']"
      ]
     },
     "execution_count": 121,
     "metadata": {},
     "output_type": "execute_result"
    }
   ],
   "source": [
    "we_curated.get_available_extension_names()"
   ]
  },
  {
   "cell_type": "markdown",
   "metadata": {},
   "source": [
    "# 9. Viewers <a class=\"anchor\" id=\"viewers\"></a>\n"
   ]
  },
  {
   "cell_type": "markdown",
   "metadata": {},
   "source": [
    "### SpikeInterface GUI\n",
    "\n",
    "A QT-based GUI built on top of SpikeInterface objects.\n",
    "\n",
    "Developed by Samuel Garcia, CRNL, Lyon."
   ]
  },
  {
   "cell_type": "code",
   "execution_count": 122,
   "metadata": {},
   "outputs": [],
   "source": [
    "# !sigui {base_folder}/waveforms_sparse"
   ]
  },
  {
   "cell_type": "markdown",
   "metadata": {},
   "source": [
    "### Sorting Summary - SortingView"
   ]
  },
  {
   "cell_type": "markdown",
   "metadata": {},
   "source": [
    "The `sortingview` backend requires an additional step to configure the transfer of the data to be plotted to the cloud. \n",
    "\n",
    "See documentation [here](https://spikeinterface.readthedocs.io/en/latest/module_widgets.html).\n",
    "\n",
    "Developed by Jeremy Magland and Jeff Soules, Flatiron Institute, NYC"
   ]
  },
  {
   "cell_type": "code",
   "execution_count": 123,
   "metadata": {},
   "outputs": [
    {
     "name": "stdout",
     "output_type": "stream",
     "text": [
      "https://figurl.org/f?v=gs://figurl/spikesortingview-10&d=sha1://2a2cc53d21a7677c130fda6436c5839184f3e974\n"
     ]
    }
   ],
   "source": [
    "w = si.plot_sorting_summary(we_curated, backend=\"sortingview\")"
   ]
  },
  {
   "cell_type": "markdown",
   "metadata": {},
   "source": [
    "https://figurl.org/f?v=gs://figurl/spikesortingview-10&d=sha1://2a2cc53d21a7677c130fda6436c5839184f3e974"
   ]
  },
  {
   "cell_type": "markdown",
   "metadata": {},
   "source": [
    "`sortingview` can also be used for manual curation and labeling of units!"
   ]
  },
  {
   "cell_type": "code",
   "execution_count": 124,
   "metadata": {},
   "outputs": [
    {
     "name": "stdout",
     "output_type": "stream",
     "text": [
      "https://figurl.org/f?v=gs://figurl/spikesortingview-10&d=sha1://61648243fcfd694dd6b179bc85626db03675a36f\n"
     ]
    }
   ],
   "source": [
    "w = si.plot_sorting_summary(we_curated, backend=\"sortingview\", curation=True)"
   ]
  },
  {
   "cell_type": "markdown",
   "metadata": {},
   "source": [
    "https://figurl.org/f?v=gs://figurl/spikesortingview-10&d=sha1://61648243fcfd694dd6b179bc85626db03675a36f"
   ]
  },
  {
   "cell_type": "markdown",
   "metadata": {},
   "source": [
    "# 10. Spike sorting comparison <a class=\"anchor\" id=\"comparison\"></a>\n",
    "\n",
    "Can we combine the output of multiple sorters to curate the spike sorting output?\n",
    "\n",
    "To answer this question we can use the `comparison` module.\n",
    "We first compare and match the output spike trains of the different sorters, and we can then extract a new `Sorting` with only the units in agreement."
   ]
  },
  {
   "cell_type": "code",
   "execution_count": 125,
   "metadata": {},
   "outputs": [],
   "source": [
    "sorting_KS25 = si.read_sorter_folder(base_folder/\"results_KS25\")\n",
    "sorting_KS2 = si.read_sorter_folder(base_folder/\"results_KS2\")\n",
    "sorting_SC2 = si.read_sorter_folder(base_folder/\"results_SC2\")"
   ]
  },
  {
   "cell_type": "markdown",
   "metadata": {},
   "source": [
    "### Compare two sorters"
   ]
  },
  {
   "cell_type": "code",
   "execution_count": null,
   "metadata": {},
   "outputs": [],
   "source": [
    "comp_KS2_KS25 = si.compare_two_sorters(sorting_KS2, sorting_KS25, 'KS2', 'KS25')"
   ]
  },
  {
   "cell_type": "code",
   "execution_count": 131,
   "metadata": {},
   "outputs": [
    {
     "data": {
      "text/plain": [
       "<spikeinterface.widgets.comparison.AgreementMatrixWidget at 0x7fb4a828d690>"
      ]
     },
     "execution_count": 131,
     "metadata": {},
     "output_type": "execute_result"
    },
    {
     "data": {
      "application/vnd.jupyter.widget-view+json": {
       "model_id": "186bb89c5e694875b47cfc45778107bd",
       "version_major": 2,
       "version_minor": 0
      },
      "image/png": "[encoded data removed]",
      "text/html": [
       "\n",
       "            <div style=\"display: inline-block;\">\n",
       "                <div class=\"jupyter-widgets widget-label\" style=\"text-align: center;\">\n",
       "                    Figure\n",
       "                </div>\n",
       "                <img src='data:image/png;base64,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' width=640.0/>\n",
       "            </div>\n",
       "        "
      ],
      "text/plain": [
       "Canvas(toolbar=Toolbar(toolitems=[('Home', 'Reset original view', 'home', 'home'), ('Back', 'Back to previous …"
      ]
     },
     "metadata": {},
     "output_type": "display_data"
    }
   ],
   "source": [
    "si.plot_agreement_matrix(comp_KS2_KS25)"
   ]
  },
  {
   "cell_type": "code",
   "execution_count": 132,
   "metadata": {},
   "outputs": [],
   "source": [
    "comp_KS2_KS25auto = si.compare_two_sorters(sorting_KS2, sorting_auto_KS25, 'KS2', 'KS25_auto')"
   ]
  },
  {
   "cell_type": "code",
   "execution_count": 133,
   "metadata": {},
   "outputs": [
    {
     "data": {
      "text/plain": [
       "<spikeinterface.widgets.comparison.AgreementMatrixWidget at 0x7fb49854e710>"
      ]
     },
     "execution_count": 133,
     "metadata": {},
     "output_type": "execute_result"
    },
    {
     "data": {
      "application/vnd.jupyter.widget-view+json": {
       "model_id": "fe92276cc1c546ecab1c7f888fda6279",
       "version_major": 2,
       "version_minor": 0
      },
      "image/png": "[encoded data removed]",
      "text/html": [
       "\n",
       "            <div style=\"display: inline-block;\">\n",
       "                <div class=\"jupyter-widgets widget-label\" style=\"text-align: center;\">\n",
       "                    Figure\n",
       "                </div>\n",
       "                <img src='data:image/png;base64,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' width=640.0/>\n",
       "            </div>\n",
       "        "
      ],
      "text/plain": [
       "Canvas(toolbar=Toolbar(toolitems=[('Home', 'Reset original view', 'home', 'home'), ('Back', 'Back to previous …"
      ]
     },
     "metadata": {},
     "output_type": "display_data"
    }
   ],
   "source": [
    "si.plot_agreement_matrix(comp_KS2_KS25auto)"
   ]
  },
  {
   "cell_type": "markdown",
   "metadata": {},
   "source": [
    "### Compare multiple sorters\n",
    "\n",
    "In 2020, the spike interface team publish an article to demonstrate that sorters do not agree on the results.\n",
    "See this https://elifesciences.org/articles/61834\n",
    "\n",
    "Here is a direct illustration of the phenomenom on this dataset."
   ]
  },
  {
   "cell_type": "code",
   "execution_count": 134,
   "metadata": {},
   "outputs": [
    {
     "name": "stdout",
     "output_type": "stream",
     "text": [
      "Multicomaprison step 1: pairwise comparison\n",
      "  Comparing: KS2 and KS25\n",
      "Multicomparison step 2: make graph\n",
      "Multicomaprison step 3: clean graph\n",
      "Removed 0 duplicate nodes\n",
      "Multicomparison step 4: extract agreement from graph\n"
     ]
    }
   ],
   "source": [
    "mcmp = si.compare_multiple_sorters([sorting_KS2, sorting_KS25], ['KS2', 'KS25'], \n",
    "                                   spiketrain_mode='union', verbose=True)"
   ]
  },
  {
   "cell_type": "code",
   "execution_count": 135,
   "metadata": {},
   "outputs": [
    {
     "data": {
      "application/vnd.jupyter.widget-view+json": {
       "model_id": "76e6486f3f5446d8b8c94460f9a9544d",
       "version_major": 2,
       "version_minor": 0
      },
      "image/png": "[encoded data removed]",
      "text/html": [
       "\n",
       "            <div style=\"display: inline-block;\">\n",
       "                <div class=\"jupyter-widgets widget-label\" style=\"text-align: center;\">\n",
       "                    Figure\n",
       "                </div>\n",
       "                <img src='data:image/png;base64,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' width=640.0/>\n",
       "            </div>\n",
       "        "
      ],
      "text/plain": [
       "Canvas(toolbar=Toolbar(toolitems=[('Home', 'Reset original view', 'home', 'home'), ('Back', 'Back to previous …"
      ]
     },
     "metadata": {},
     "output_type": "display_data"
    },
    {
     "data": {
      "application/vnd.jupyter.widget-view+json": {
       "model_id": "6f313287054f45d5a4cb243f26e3dd07",
       "version_major": 2,
       "version_minor": 0
      },
      "image/png": "[encoded data removed]",
      "text/html": [
       "\n",
       "            <div style=\"display: inline-block;\">\n",
       "                <div class=\"jupyter-widgets widget-label\" style=\"text-align: center;\">\n",
       "                    Figure\n",
       "                </div>\n",
       "                <img src='data:image/png;base64,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' width=640.0/>\n",
       "            </div>\n",
       "        "
      ],
      "text/plain": [
       "Canvas(toolbar=Toolbar(toolitems=[('Home', 'Reset original view', 'home', 'home'), ('Back', 'Back to previous …"
      ]
     },
     "metadata": {},
     "output_type": "display_data"
    }
   ],
   "source": [
    "w = si.plot_multicomparison_agreement(mcmp)\n",
    "w = si.plot_multicomparison_agreement_by_sorter(mcmp)"
   ]
  },
  {
   "cell_type": "code",
   "execution_count": 136,
   "metadata": {},
   "outputs": [
    {
     "name": "stdout",
     "output_type": "stream",
     "text": [
      "AgreementSortingExtractor: 0 units - 1 segments - 30.0kHz\n"
     ]
    }
   ],
   "source": [
    "agreement_sorting = mcmp.get_agreement_sorting(minimum_agreement_count=2)\n",
    "print(agreement_sorting)"
   ]
  },
  {
   "cell_type": "markdown",
   "metadata": {
    "pycharm": {
     "name": "#%% md\n"
    }
   },
   "source": [
    "# 11. Exporters <a class=\"anchor\" id=\"exporters\"></a>"
   ]
  },
  {
   "cell_type": "markdown",
   "metadata": {
    "pycharm": {
     "name": "#%% md\n"
    }
   },
   "source": [
    "## Export to Phy for manual curation\n",
    "\n",
    "To perform manual curation we can export the data to [Phy](https://github.com/cortex-lab/phy). "
   ]
  },
  {
   "cell_type": "code",
   "execution_count": 137,
   "metadata": {
    "pycharm": {
     "name": "#%%\n"
    }
   },
   "outputs": [
    {
     "name": "stdout",
     "output_type": "stream",
     "text": [
      "Run:\n",
      "phy template-gui  /home/alessio/Documents/Codes/spike_sorting/spikeinterface/spiketutorials/Official_Tutorial_SI_0.99_Nov23/phy_KS25/params.py\n"
     ]
    }
   ],
   "source": [
    "si.export_to_phy(we, output_folder=base_folder / 'phy_KS25', \n",
    "                 compute_amplitudes=False, compute_pc_features=False, copy_binary=False,\n",
    "                 **job_kwargs)"
   ]
  },
  {
   "cell_type": "markdown",
   "metadata": {},
   "source": [
    "![phy](./phy.png)"
   ]
  },
  {
   "cell_type": "markdown",
   "metadata": {
    "pycharm": {
     "name": "#%% md\n"
    }
   },
   "source": [
    "After curating the results we can reload it using the `PhySortingExtractor` and exclude the units that we labeled as `noise`:"
   ]
  },
  {
   "cell_type": "code",
   "execution_count": null,
   "metadata": {},
   "outputs": [],
   "source": [
    "sorting_phy_curated = si.read_phy(base_folder / 'phy_KS25/', exclude_cluster_groups=['noise'])"
   ]
  },
  {
   "cell_type": "markdown",
   "metadata": {},
   "source": [
    "## Export a report to a folder\n",
    "\n"
   ]
  },
  {
   "cell_type": "code",
   "execution_count": 138,
   "metadata": {},
   "outputs": [],
   "source": [
    "si.export_report(we, output_folder=base_folder / 'report_KS25')"
   ]
  },
  {
   "cell_type": "markdown",
   "metadata": {},
   "source": [
    "### Et voilà!"
   ]
  }
 ],
 "metadata": {
  "kernelspec": {
   "display_name": "Python 3 (ipykernel)",
   "language": "python",
   "name": "python3"
  },
  "language_info": {
   "codemirror_mode": {
    "name": "ipython",
    "version": 3
   },
   "file_extension": ".py",
   "mimetype": "text/x-python",
   "name": "python",
   "nbconvert_exporter": "python",
   "pygments_lexer": "ipython3",
   "version": "3.10.12"
  },
  "pycharm": {
   "stem_cell": {
    "cell_type": "raw",
    "metadata": {
     "collapsed": false
    },
    "source": []
   }
  }
 },
 "nbformat": 4,
 "nbformat_minor": 4
}
